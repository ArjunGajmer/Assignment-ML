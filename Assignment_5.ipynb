{
  "nbformat": 4,
  "nbformat_minor": 0,
  "metadata": {
    "colab": {
      "name": "Untitled",
      "version": "0.3.2",
      "provenance": []
    },
    "kernelspec": {
      "name": "python3",
      "display_name": "Python 3"
    }
  },
  "cells": [
    {
      "cell_type": "markdown",
      "metadata": {
        "id": "view-in-github",
        "colab_type": "text"
      },
      "source": [
        "[View in Colaboratory](https://colab.research.google.com/github/ArjunGajmer/Assignment-ML/blob/master/Assignment_5.ipynb)"
      ]
    },
    {
      "metadata": {
        "id": "kLxcGPBNdfvD",
        "colab_type": "text"
      },
      "cell_type": "markdown",
      "source": [
        "#PANDAS2"
      ]
    },
    {
      "metadata": {
        "id": "bv6y-Dkedmzw",
        "colab_type": "text"
      },
      "cell_type": "markdown",
      "source": [
        "Q.1 - Download the dataset from this link and solve all these questions, \n",
        "Click Here\n",
        "a.) Find the sum of missing data for every column in the dataset using the (isnull function and sum function) \n",
        "b.) Remove the missing values (if any) \n",
        "c.) Once again , Import the dataset and this time replace the missing null values with mean of the column series. \n",
        "d.) Find individual data types and copy the temperature column to a pandas series. "
      ]
    },
    {
      "metadata": {
        "id": "Nl3uwHwOdszE",
        "colab_type": "code",
        "colab": {}
      },
      "cell_type": "code",
      "source": [
        "import pandas as pd"
      ],
      "execution_count": 0,
      "outputs": []
    },
    {
      "metadata": {
        "id": "8Y6eHdWbd01_",
        "colab_type": "code",
        "colab": {
          "base_uri": "https://localhost:8080/",
          "height": 442
        },
        "outputId": "04c43b04-ebfa-458f-e3ae-583d6fa281bc"
      },
      "cell_type": "code",
      "source": [
        "df= pd.read_csv('https://raw.githubusercontent.com/Shreyas3108/Weather/master/weather.csv')\n",
        "df.isnull().sum()"
      ],
      "execution_count": 9,
      "outputs": [
        {
          "output_type": "execute_result",
          "data": {
            "text/plain": [
              "Date              0\n",
              "Location          0\n",
              "MinTemp           0\n",
              "MaxTemp           0\n",
              "Rainfall          0\n",
              "Evaporation       0\n",
              "Sunshine          3\n",
              "WindGustDir       3\n",
              "WindGustSpeed     2\n",
              "WindDir9am       31\n",
              "WindDir3pm        1\n",
              "WindSpeed9am      7\n",
              "WindSpeed3pm      0\n",
              "Humidity9am       0\n",
              "Humidity3pm       0\n",
              "Pressure9am       0\n",
              "Pressure3pm       0\n",
              "Cloud9am          0\n",
              "Cloud3pm          0\n",
              "Temp9am           0\n",
              "Temp3pm           0\n",
              "RainToday         0\n",
              "RISK_MM           0\n",
              "RainTomorrow      0\n",
              "dtype: int64"
            ]
          },
          "metadata": {
            "tags": []
          },
          "execution_count": 9
        }
      ]
    },
    {
      "metadata": {
        "id": "Osu82WiNfmN8",
        "colab_type": "code",
        "colab": {
          "base_uri": "https://localhost:8080/",
          "height": 442
        },
        "outputId": "f660cce8-d160-45e3-8151-a79f9a6385ee"
      },
      "cell_type": "code",
      "source": [
        "df=df.dropna()\n",
        "df.isnull().sum()"
      ],
      "execution_count": 12,
      "outputs": [
        {
          "output_type": "execute_result",
          "data": {
            "text/plain": [
              "Date             0\n",
              "Location         0\n",
              "MinTemp          0\n",
              "MaxTemp          0\n",
              "Rainfall         0\n",
              "Evaporation      0\n",
              "Sunshine         0\n",
              "WindGustDir      0\n",
              "WindGustSpeed    0\n",
              "WindDir9am       0\n",
              "WindDir3pm       0\n",
              "WindSpeed9am     0\n",
              "WindSpeed3pm     0\n",
              "Humidity9am      0\n",
              "Humidity3pm      0\n",
              "Pressure9am      0\n",
              "Pressure3pm      0\n",
              "Cloud9am         0\n",
              "Cloud3pm         0\n",
              "Temp9am          0\n",
              "Temp3pm          0\n",
              "RainToday        0\n",
              "RISK_MM          0\n",
              "RainTomorrow     0\n",
              "dtype: int64"
            ]
          },
          "metadata": {
            "tags": []
          },
          "execution_count": 12
        }
      ]
    },
    {
      "metadata": {
        "id": "Sltyu5fWgB4a",
        "colab_type": "code",
        "colab": {
          "base_uri": "https://localhost:8080/",
          "height": 442
        },
        "outputId": "a12b98fb-d7e7-4f39-94c5-73fc209260a5"
      },
      "cell_type": "code",
      "source": [
        "data=pd.read_csv('https://raw.githubusercontent.com/Shreyas3108/Weather/master/weather.csv')\n",
        "data=data.fillna(data.mean())\n",
        "data.isnull().sum()"
      ],
      "execution_count": 16,
      "outputs": [
        {
          "output_type": "execute_result",
          "data": {
            "text/plain": [
              "Date              0\n",
              "Location          0\n",
              "MinTemp           0\n",
              "MaxTemp           0\n",
              "Rainfall          0\n",
              "Evaporation       0\n",
              "Sunshine          0\n",
              "WindGustDir       3\n",
              "WindGustSpeed     0\n",
              "WindDir9am       31\n",
              "WindDir3pm        1\n",
              "WindSpeed9am      0\n",
              "WindSpeed3pm      0\n",
              "Humidity9am       0\n",
              "Humidity3pm       0\n",
              "Pressure9am       0\n",
              "Pressure3pm       0\n",
              "Cloud9am          0\n",
              "Cloud3pm          0\n",
              "Temp9am           0\n",
              "Temp3pm           0\n",
              "RainToday         0\n",
              "RISK_MM           0\n",
              "RainTomorrow      0\n",
              "dtype: int64"
            ]
          },
          "metadata": {
            "tags": []
          },
          "execution_count": 16
        }
      ]
    },
    {
      "metadata": {
        "id": "qi_eE-uRhRSK",
        "colab_type": "code",
        "colab": {
          "base_uri": "https://localhost:8080/",
          "height": 442
        },
        "outputId": "f2184084-8ddc-4a16-ba24-720a282f4ac5"
      },
      "cell_type": "code",
      "source": [
        "data.dtypes\n"
      ],
      "execution_count": 21,
      "outputs": [
        {
          "output_type": "execute_result",
          "data": {
            "text/plain": [
              "Date              object\n",
              "Location          object\n",
              "MinTemp          float64\n",
              "MaxTemp          float64\n",
              "Rainfall         float64\n",
              "Evaporation      float64\n",
              "Sunshine         float64\n",
              "WindGustDir       object\n",
              "WindGustSpeed    float64\n",
              "WindDir9am        object\n",
              "WindDir3pm        object\n",
              "WindSpeed9am     float64\n",
              "WindSpeed3pm       int64\n",
              "Humidity9am        int64\n",
              "Humidity3pm        int64\n",
              "Pressure9am      float64\n",
              "Pressure3pm      float64\n",
              "Cloud9am           int64\n",
              "Cloud3pm           int64\n",
              "Temp9am          float64\n",
              "Temp3pm          float64\n",
              "RainToday         object\n",
              "RISK_MM          float64\n",
              "RainTomorrow      object\n",
              "dtype: object"
            ]
          },
          "metadata": {
            "tags": []
          },
          "execution_count": 21
        }
      ]
    },
    {
      "metadata": {
        "id": "J-ijtv8IiKU4",
        "colab_type": "code",
        "colab": {
          "base_uri": "https://localhost:8080/",
          "height": 1071
        },
        "outputId": "09e6e9c0-def4-4787-fd02-e9ea6d91bbb0"
      },
      "cell_type": "code",
      "source": [
        "data1=pd.Series.copy(data.Temp3pm )\n",
        "data1"
      ],
      "execution_count": 37,
      "outputs": [
        {
          "output_type": "execute_result",
          "data": {
            "text/plain": [
              "0      23.6\n",
              "1      25.7\n",
              "2      20.2\n",
              "3      14.1\n",
              "4      15.4\n",
              "5      14.8\n",
              "6      17.3\n",
              "7      15.5\n",
              "8      18.9\n",
              "9      21.7\n",
              "10     24.0\n",
              "11     26.0\n",
              "12     27.1\n",
              "13     30.7\n",
              "14     30.4\n",
              "15     30.7\n",
              "16     29.8\n",
              "17     28.6\n",
              "18     31.2\n",
              "19     32.0\n",
              "20     32.8\n",
              "21     18.3\n",
              "22     16.8\n",
              "23     22.8\n",
              "24     27.3\n",
              "25     25.1\n",
              "26     21.2\n",
              "27     26.7\n",
              "28     19.7\n",
              "29     23.2\n",
              "       ... \n",
              "336    26.7\n",
              "337    28.4\n",
              "338    19.3\n",
              "339    19.8\n",
              "340    16.2\n",
              "341    14.6\n",
              "342    16.6\n",
              "343    18.8\n",
              "344    21.4\n",
              "345    20.6\n",
              "346    22.3\n",
              "347    23.2\n",
              "348    19.4\n",
              "349    18.4\n",
              "350    19.2\n",
              "351    21.9\n",
              "352    23.7\n",
              "353    27.4\n",
              "354    26.3\n",
              "355    18.5\n",
              "356    14.3\n",
              "357    16.3\n",
              "358    19.1\n",
              "359    24.8\n",
              "360    25.9\n",
              "361    30.0\n",
              "362    28.2\n",
              "363    18.3\n",
              "364    25.9\n",
              "365    28.6\n",
              "Name: Temp3pm, Length: 366, dtype: float64"
            ]
          },
          "metadata": {
            "tags": []
          },
          "execution_count": 37
        }
      ]
    }
  ]
}