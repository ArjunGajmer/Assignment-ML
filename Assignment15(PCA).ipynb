{
  "nbformat": 4,
  "nbformat_minor": 0,
  "metadata": {
    "colab": {
      "name": "Untitled16.ipynb",
      "version": "0.3.2",
      "provenance": [],
      "include_colab_link": true
    },
    "kernelspec": {
      "name": "python3",
      "display_name": "Python 3"
    }
  },
  "cells": [
    {
      "cell_type": "markdown",
      "metadata": {
        "id": "view-in-github",
        "colab_type": "text"
      },
      "source": [
        "[View in Colaboratory](https://colab.research.google.com/github/ArjunGajmer/Assignment-ML/blob/master/Assignment15(PCA).ipynb)"
      ]
    },
    {
      "metadata": {
        "id": "1Z-_uyg3aqu8",
        "colab_type": "text"
      },
      "cell_type": "markdown",
      "source": [
        "# PCA\n",
        "In this assignment, we  are going to perform PCA on handwritten digit  Classifier dataset and compare the results with and without using  PCA.Also we will find out ,the importance of Standard Scalar before performing PCA. "
      ]
    },
    {
      "metadata": {
        "id": "SnI6rL0zPNR8",
        "colab_type": "code",
        "colab": {}
      },
      "cell_type": "code",
      "source": [
        "import pandas as pd\n",
        "import time\n",
        "from sklearn import datasets\n",
        "import seaborn as sns\n",
        "import matplotlib.pyplot as plt"
      ],
      "execution_count": 0,
      "outputs": []
    },
    {
      "metadata": {
        "id": "RMco6LmSb6h1",
        "colab_type": "text"
      },
      "cell_type": "markdown",
      "source": [
        "## Loading Dataset"
      ]
    },
    {
      "metadata": {
        "id": "VNyRjWKBPScm",
        "colab_type": "code",
        "colab": {
          "base_uri": "https://localhost:8080/",
          "height": 51
        },
        "outputId": "9a232ed0-9cef-459c-f113-a7b745c960c9"
      },
      "cell_type": "code",
      "source": [
        "df=datasets.load_digits()\n",
        "print('Keys: ')\n",
        "df.keys()"
      ],
      "execution_count": 194,
      "outputs": [
        {
          "output_type": "stream",
          "text": [
            "Keys: \n"
          ],
          "name": "stdout"
        },
        {
          "output_type": "execute_result",
          "data": {
            "text/plain": [
              "dict_keys(['data', 'target', 'target_names', 'images', 'DESCR'])"
            ]
          },
          "metadata": {
            "tags": []
          },
          "execution_count": 194
        }
      ]
    },
    {
      "metadata": {
        "id": "WhnfCjCdP-zf",
        "colab_type": "code",
        "colab": {
          "base_uri": "https://localhost:8080/",
          "height": 51
        },
        "outputId": "9e22fa36-83ba-4644-e9d4-9bcc5880ef8a"
      },
      "cell_type": "code",
      "source": [
        "print('Shape of the data: ')\n",
        "df.data.shape"
      ],
      "execution_count": 195,
      "outputs": [
        {
          "output_type": "stream",
          "text": [
            "Shape of the data: \n"
          ],
          "name": "stdout"
        },
        {
          "output_type": "execute_result",
          "data": {
            "text/plain": [
              "(1797, 64)"
            ]
          },
          "metadata": {
            "tags": []
          },
          "execution_count": 195
        }
      ]
    },
    {
      "metadata": {
        "id": "78RV5ozOQAyR",
        "colab_type": "code",
        "colab": {
          "base_uri": "https://localhost:8080/",
          "height": 51
        },
        "outputId": "1ffeff9b-ff13-4fa7-9442-a1eb0df45e99"
      },
      "cell_type": "code",
      "source": [
        "print('Size of the data: ')\n",
        "df.target.shape"
      ],
      "execution_count": 196,
      "outputs": [
        {
          "output_type": "stream",
          "text": [
            "Size of the data: \n"
          ],
          "name": "stdout"
        },
        {
          "output_type": "execute_result",
          "data": {
            "text/plain": [
              "(1797,)"
            ]
          },
          "metadata": {
            "tags": []
          },
          "execution_count": 196
        }
      ]
    },
    {
      "metadata": {
        "id": "DclDa02icEbE",
        "colab_type": "text"
      },
      "cell_type": "markdown",
      "source": [
        "## Data Preprocessing"
      ]
    },
    {
      "metadata": {
        "id": "H4v_2pz-cSUd",
        "colab_type": "text"
      },
      "cell_type": "markdown",
      "source": [
        "We are saving data into X."
      ]
    },
    {
      "metadata": {
        "id": "As6hb2oMQNJe",
        "colab_type": "code",
        "colab": {
          "base_uri": "https://localhost:8080/",
          "height": 250
        },
        "outputId": "6720c407-21fa-424b-849a-326fa26f29e5"
      },
      "cell_type": "code",
      "source": [
        "X=pd.DataFrame(df.data)\n",
        "print('first five rows of data: ')\n",
        "X.head()"
      ],
      "execution_count": 197,
      "outputs": [
        {
          "output_type": "stream",
          "text": [
            "first five rows of data: \n"
          ],
          "name": "stdout"
        },
        {
          "output_type": "execute_result",
          "data": {
            "text/html": [
              "<div>\n",
              "<style scoped>\n",
              "    .dataframe tbody tr th:only-of-type {\n",
              "        vertical-align: middle;\n",
              "    }\n",
              "\n",
              "    .dataframe tbody tr th {\n",
              "        vertical-align: top;\n",
              "    }\n",
              "\n",
              "    .dataframe thead th {\n",
              "        text-align: right;\n",
              "    }\n",
              "</style>\n",
              "<table border=\"1\" class=\"dataframe\">\n",
              "  <thead>\n",
              "    <tr style=\"text-align: right;\">\n",
              "      <th></th>\n",
              "      <th>0</th>\n",
              "      <th>1</th>\n",
              "      <th>2</th>\n",
              "      <th>3</th>\n",
              "      <th>4</th>\n",
              "      <th>5</th>\n",
              "      <th>6</th>\n",
              "      <th>7</th>\n",
              "      <th>8</th>\n",
              "      <th>9</th>\n",
              "      <th>...</th>\n",
              "      <th>54</th>\n",
              "      <th>55</th>\n",
              "      <th>56</th>\n",
              "      <th>57</th>\n",
              "      <th>58</th>\n",
              "      <th>59</th>\n",
              "      <th>60</th>\n",
              "      <th>61</th>\n",
              "      <th>62</th>\n",
              "      <th>63</th>\n",
              "    </tr>\n",
              "  </thead>\n",
              "  <tbody>\n",
              "    <tr>\n",
              "      <th>0</th>\n",
              "      <td>0.0</td>\n",
              "      <td>0.0</td>\n",
              "      <td>5.0</td>\n",
              "      <td>13.0</td>\n",
              "      <td>9.0</td>\n",
              "      <td>1.0</td>\n",
              "      <td>0.0</td>\n",
              "      <td>0.0</td>\n",
              "      <td>0.0</td>\n",
              "      <td>0.0</td>\n",
              "      <td>...</td>\n",
              "      <td>0.0</td>\n",
              "      <td>0.0</td>\n",
              "      <td>0.0</td>\n",
              "      <td>0.0</td>\n",
              "      <td>6.0</td>\n",
              "      <td>13.0</td>\n",
              "      <td>10.0</td>\n",
              "      <td>0.0</td>\n",
              "      <td>0.0</td>\n",
              "      <td>0.0</td>\n",
              "    </tr>\n",
              "    <tr>\n",
              "      <th>1</th>\n",
              "      <td>0.0</td>\n",
              "      <td>0.0</td>\n",
              "      <td>0.0</td>\n",
              "      <td>12.0</td>\n",
              "      <td>13.0</td>\n",
              "      <td>5.0</td>\n",
              "      <td>0.0</td>\n",
              "      <td>0.0</td>\n",
              "      <td>0.0</td>\n",
              "      <td>0.0</td>\n",
              "      <td>...</td>\n",
              "      <td>0.0</td>\n",
              "      <td>0.0</td>\n",
              "      <td>0.0</td>\n",
              "      <td>0.0</td>\n",
              "      <td>0.0</td>\n",
              "      <td>11.0</td>\n",
              "      <td>16.0</td>\n",
              "      <td>10.0</td>\n",
              "      <td>0.0</td>\n",
              "      <td>0.0</td>\n",
              "    </tr>\n",
              "    <tr>\n",
              "      <th>2</th>\n",
              "      <td>0.0</td>\n",
              "      <td>0.0</td>\n",
              "      <td>0.0</td>\n",
              "      <td>4.0</td>\n",
              "      <td>15.0</td>\n",
              "      <td>12.0</td>\n",
              "      <td>0.0</td>\n",
              "      <td>0.0</td>\n",
              "      <td>0.0</td>\n",
              "      <td>0.0</td>\n",
              "      <td>...</td>\n",
              "      <td>5.0</td>\n",
              "      <td>0.0</td>\n",
              "      <td>0.0</td>\n",
              "      <td>0.0</td>\n",
              "      <td>0.0</td>\n",
              "      <td>3.0</td>\n",
              "      <td>11.0</td>\n",
              "      <td>16.0</td>\n",
              "      <td>9.0</td>\n",
              "      <td>0.0</td>\n",
              "    </tr>\n",
              "    <tr>\n",
              "      <th>3</th>\n",
              "      <td>0.0</td>\n",
              "      <td>0.0</td>\n",
              "      <td>7.0</td>\n",
              "      <td>15.0</td>\n",
              "      <td>13.0</td>\n",
              "      <td>1.0</td>\n",
              "      <td>0.0</td>\n",
              "      <td>0.0</td>\n",
              "      <td>0.0</td>\n",
              "      <td>8.0</td>\n",
              "      <td>...</td>\n",
              "      <td>9.0</td>\n",
              "      <td>0.0</td>\n",
              "      <td>0.0</td>\n",
              "      <td>0.0</td>\n",
              "      <td>7.0</td>\n",
              "      <td>13.0</td>\n",
              "      <td>13.0</td>\n",
              "      <td>9.0</td>\n",
              "      <td>0.0</td>\n",
              "      <td>0.0</td>\n",
              "    </tr>\n",
              "    <tr>\n",
              "      <th>4</th>\n",
              "      <td>0.0</td>\n",
              "      <td>0.0</td>\n",
              "      <td>0.0</td>\n",
              "      <td>1.0</td>\n",
              "      <td>11.0</td>\n",
              "      <td>0.0</td>\n",
              "      <td>0.0</td>\n",
              "      <td>0.0</td>\n",
              "      <td>0.0</td>\n",
              "      <td>0.0</td>\n",
              "      <td>...</td>\n",
              "      <td>0.0</td>\n",
              "      <td>0.0</td>\n",
              "      <td>0.0</td>\n",
              "      <td>0.0</td>\n",
              "      <td>0.0</td>\n",
              "      <td>2.0</td>\n",
              "      <td>16.0</td>\n",
              "      <td>4.0</td>\n",
              "      <td>0.0</td>\n",
              "      <td>0.0</td>\n",
              "    </tr>\n",
              "  </tbody>\n",
              "</table>\n",
              "<p>5 rows × 64 columns</p>\n",
              "</div>"
            ],
            "text/plain": [
              "    0    1    2     3     4     5    6    7    8    9  ...    54   55   56  \\\n",
              "0  0.0  0.0  5.0  13.0   9.0   1.0  0.0  0.0  0.0  0.0 ...   0.0  0.0  0.0   \n",
              "1  0.0  0.0  0.0  12.0  13.0   5.0  0.0  0.0  0.0  0.0 ...   0.0  0.0  0.0   \n",
              "2  0.0  0.0  0.0   4.0  15.0  12.0  0.0  0.0  0.0  0.0 ...   5.0  0.0  0.0   \n",
              "3  0.0  0.0  7.0  15.0  13.0   1.0  0.0  0.0  0.0  8.0 ...   9.0  0.0  0.0   \n",
              "4  0.0  0.0  0.0   1.0  11.0   0.0  0.0  0.0  0.0  0.0 ...   0.0  0.0  0.0   \n",
              "\n",
              "    57   58    59    60    61   62   63  \n",
              "0  0.0  6.0  13.0  10.0   0.0  0.0  0.0  \n",
              "1  0.0  0.0  11.0  16.0  10.0  0.0  0.0  \n",
              "2  0.0  0.0   3.0  11.0  16.0  9.0  0.0  \n",
              "3  0.0  7.0  13.0  13.0   9.0  0.0  0.0  \n",
              "4  0.0  0.0   2.0  16.0   4.0  0.0  0.0  \n",
              "\n",
              "[5 rows x 64 columns]"
            ]
          },
          "metadata": {
            "tags": []
          },
          "execution_count": 197
        }
      ]
    },
    {
      "metadata": {
        "id": "HAB_PB7mcasg",
        "colab_type": "text"
      },
      "cell_type": "markdown",
      "source": [
        "We are daving targets into Y."
      ]
    },
    {
      "metadata": {
        "id": "g7UwbnFCQnOw",
        "colab_type": "code",
        "colab": {}
      },
      "cell_type": "code",
      "source": [
        "Y=pd.DataFrame(df.target)"
      ],
      "execution_count": 0,
      "outputs": []
    },
    {
      "metadata": {
        "id": "lQAtROS1cfmg",
        "colab_type": "text"
      },
      "cell_type": "markdown",
      "source": [
        "### Standardizing  the Data using Standard Scalar(mean=0 and Variance =1)"
      ]
    },
    {
      "metadata": {
        "id": "3paU9-MZQvf_",
        "colab_type": "code",
        "colab": {}
      },
      "cell_type": "code",
      "source": [
        "from sklearn.preprocessing import StandardScaler"
      ],
      "execution_count": 0,
      "outputs": []
    },
    {
      "metadata": {
        "id": "w-Qd8L8oRM7S",
        "colab_type": "code",
        "colab": {}
      },
      "cell_type": "code",
      "source": [
        "x=pd.DataFrame(StandardScaler().fit_transform(X))"
      ],
      "execution_count": 0,
      "outputs": []
    },
    {
      "metadata": {
        "id": "jsC4Sajrc0e0",
        "colab_type": "text"
      },
      "cell_type": "markdown",
      "source": [
        "'x' will contain the standardize 'data'."
      ]
    },
    {
      "metadata": {
        "id": "YjseQ_74RWmZ",
        "colab_type": "code",
        "colab": {
          "base_uri": "https://localhost:8080/",
          "height": 287
        },
        "outputId": "783cc2c0-bd04-4104-b699-cba18b268b26"
      },
      "cell_type": "code",
      "source": [
        "print('First five rows of standardize data\\n')\n",
        "x.head()"
      ],
      "execution_count": 201,
      "outputs": [
        {
          "output_type": "stream",
          "text": [
            "First five rows of standardize data\n",
            "\n"
          ],
          "name": "stdout"
        },
        {
          "output_type": "execute_result",
          "data": {
            "text/html": [
              "<div>\n",
              "<style scoped>\n",
              "    .dataframe tbody tr th:only-of-type {\n",
              "        vertical-align: middle;\n",
              "    }\n",
              "\n",
              "    .dataframe tbody tr th {\n",
              "        vertical-align: top;\n",
              "    }\n",
              "\n",
              "    .dataframe thead th {\n",
              "        text-align: right;\n",
              "    }\n",
              "</style>\n",
              "<table border=\"1\" class=\"dataframe\">\n",
              "  <thead>\n",
              "    <tr style=\"text-align: right;\">\n",
              "      <th></th>\n",
              "      <th>0</th>\n",
              "      <th>1</th>\n",
              "      <th>2</th>\n",
              "      <th>3</th>\n",
              "      <th>4</th>\n",
              "      <th>5</th>\n",
              "      <th>6</th>\n",
              "      <th>7</th>\n",
              "      <th>8</th>\n",
              "      <th>9</th>\n",
              "      <th>...</th>\n",
              "      <th>54</th>\n",
              "      <th>55</th>\n",
              "      <th>56</th>\n",
              "      <th>57</th>\n",
              "      <th>58</th>\n",
              "      <th>59</th>\n",
              "      <th>60</th>\n",
              "      <th>61</th>\n",
              "      <th>62</th>\n",
              "      <th>63</th>\n",
              "    </tr>\n",
              "  </thead>\n",
              "  <tbody>\n",
              "    <tr>\n",
              "      <th>0</th>\n",
              "      <td>0.0</td>\n",
              "      <td>-0.335016</td>\n",
              "      <td>-0.043081</td>\n",
              "      <td>0.274072</td>\n",
              "      <td>-0.664478</td>\n",
              "      <td>-0.844129</td>\n",
              "      <td>-0.409724</td>\n",
              "      <td>-0.125023</td>\n",
              "      <td>-0.059078</td>\n",
              "      <td>-0.624009</td>\n",
              "      <td>...</td>\n",
              "      <td>-0.757436</td>\n",
              "      <td>-0.209785</td>\n",
              "      <td>-0.023596</td>\n",
              "      <td>-0.299081</td>\n",
              "      <td>0.086719</td>\n",
              "      <td>0.208293</td>\n",
              "      <td>-0.366771</td>\n",
              "      <td>-1.146647</td>\n",
              "      <td>-0.505670</td>\n",
              "      <td>-0.196008</td>\n",
              "    </tr>\n",
              "    <tr>\n",
              "      <th>1</th>\n",
              "      <td>0.0</td>\n",
              "      <td>-0.335016</td>\n",
              "      <td>-1.094937</td>\n",
              "      <td>0.038648</td>\n",
              "      <td>0.268751</td>\n",
              "      <td>-0.138020</td>\n",
              "      <td>-0.409724</td>\n",
              "      <td>-0.125023</td>\n",
              "      <td>-0.059078</td>\n",
              "      <td>-0.624009</td>\n",
              "      <td>...</td>\n",
              "      <td>-0.757436</td>\n",
              "      <td>-0.209785</td>\n",
              "      <td>-0.023596</td>\n",
              "      <td>-0.299081</td>\n",
              "      <td>-1.089383</td>\n",
              "      <td>-0.249010</td>\n",
              "      <td>0.849632</td>\n",
              "      <td>0.548561</td>\n",
              "      <td>-0.505670</td>\n",
              "      <td>-0.196008</td>\n",
              "    </tr>\n",
              "    <tr>\n",
              "      <th>2</th>\n",
              "      <td>0.0</td>\n",
              "      <td>-0.335016</td>\n",
              "      <td>-1.094937</td>\n",
              "      <td>-1.844742</td>\n",
              "      <td>0.735366</td>\n",
              "      <td>1.097673</td>\n",
              "      <td>-0.409724</td>\n",
              "      <td>-0.125023</td>\n",
              "      <td>-0.059078</td>\n",
              "      <td>-0.624009</td>\n",
              "      <td>...</td>\n",
              "      <td>0.259230</td>\n",
              "      <td>-0.209785</td>\n",
              "      <td>-0.023596</td>\n",
              "      <td>-0.299081</td>\n",
              "      <td>-1.089383</td>\n",
              "      <td>-2.078218</td>\n",
              "      <td>-0.164037</td>\n",
              "      <td>1.565686</td>\n",
              "      <td>1.695137</td>\n",
              "      <td>-0.196008</td>\n",
              "    </tr>\n",
              "    <tr>\n",
              "      <th>3</th>\n",
              "      <td>0.0</td>\n",
              "      <td>-0.335016</td>\n",
              "      <td>0.377661</td>\n",
              "      <td>0.744919</td>\n",
              "      <td>0.268751</td>\n",
              "      <td>-0.844129</td>\n",
              "      <td>-0.409724</td>\n",
              "      <td>-0.125023</td>\n",
              "      <td>-0.059078</td>\n",
              "      <td>1.879691</td>\n",
              "      <td>...</td>\n",
              "      <td>1.072563</td>\n",
              "      <td>-0.209785</td>\n",
              "      <td>-0.023596</td>\n",
              "      <td>-0.299081</td>\n",
              "      <td>0.282736</td>\n",
              "      <td>0.208293</td>\n",
              "      <td>0.241430</td>\n",
              "      <td>0.379040</td>\n",
              "      <td>-0.505670</td>\n",
              "      <td>-0.196008</td>\n",
              "    </tr>\n",
              "    <tr>\n",
              "      <th>4</th>\n",
              "      <td>0.0</td>\n",
              "      <td>-0.335016</td>\n",
              "      <td>-1.094937</td>\n",
              "      <td>-2.551014</td>\n",
              "      <td>-0.197863</td>\n",
              "      <td>-1.020657</td>\n",
              "      <td>-0.409724</td>\n",
              "      <td>-0.125023</td>\n",
              "      <td>-0.059078</td>\n",
              "      <td>-0.624009</td>\n",
              "      <td>...</td>\n",
              "      <td>-0.757436</td>\n",
              "      <td>-0.209785</td>\n",
              "      <td>-0.023596</td>\n",
              "      <td>-0.299081</td>\n",
              "      <td>-1.089383</td>\n",
              "      <td>-2.306869</td>\n",
              "      <td>0.849632</td>\n",
              "      <td>-0.468564</td>\n",
              "      <td>-0.505670</td>\n",
              "      <td>-0.196008</td>\n",
              "    </tr>\n",
              "  </tbody>\n",
              "</table>\n",
              "<p>5 rows × 64 columns</p>\n",
              "</div>"
            ],
            "text/plain": [
              "    0         1         2         3         4         5         6         7   \\\n",
              "0  0.0 -0.335016 -0.043081  0.274072 -0.664478 -0.844129 -0.409724 -0.125023   \n",
              "1  0.0 -0.335016 -1.094937  0.038648  0.268751 -0.138020 -0.409724 -0.125023   \n",
              "2  0.0 -0.335016 -1.094937 -1.844742  0.735366  1.097673 -0.409724 -0.125023   \n",
              "3  0.0 -0.335016  0.377661  0.744919  0.268751 -0.844129 -0.409724 -0.125023   \n",
              "4  0.0 -0.335016 -1.094937 -2.551014 -0.197863 -1.020657 -0.409724 -0.125023   \n",
              "\n",
              "         8         9     ...           54        55        56        57  \\\n",
              "0 -0.059078 -0.624009    ...    -0.757436 -0.209785 -0.023596 -0.299081   \n",
              "1 -0.059078 -0.624009    ...    -0.757436 -0.209785 -0.023596 -0.299081   \n",
              "2 -0.059078 -0.624009    ...     0.259230 -0.209785 -0.023596 -0.299081   \n",
              "3 -0.059078  1.879691    ...     1.072563 -0.209785 -0.023596 -0.299081   \n",
              "4 -0.059078 -0.624009    ...    -0.757436 -0.209785 -0.023596 -0.299081   \n",
              "\n",
              "         58        59        60        61        62        63  \n",
              "0  0.086719  0.208293 -0.366771 -1.146647 -0.505670 -0.196008  \n",
              "1 -1.089383 -0.249010  0.849632  0.548561 -0.505670 -0.196008  \n",
              "2 -1.089383 -2.078218 -0.164037  1.565686  1.695137 -0.196008  \n",
              "3  0.282736  0.208293  0.241430  0.379040 -0.505670 -0.196008  \n",
              "4 -1.089383 -2.306869  0.849632 -0.468564 -0.505670 -0.196008  \n",
              "\n",
              "[5 rows x 64 columns]"
            ]
          },
          "metadata": {
            "tags": []
          },
          "execution_count": 201
        }
      ]
    },
    {
      "metadata": {
        "id": "_YEU3uRJdifB",
        "colab_type": "text"
      },
      "cell_type": "markdown",
      "source": [
        "## Performing  PCA "
      ]
    },
    {
      "metadata": {
        "id": "GkSe5bneSmv2",
        "colab_type": "code",
        "colab": {}
      },
      "cell_type": "code",
      "source": [
        "from sklearn.decomposition import PCA"
      ],
      "execution_count": 0,
      "outputs": []
    },
    {
      "metadata": {
        "id": "SZMvqwFVSnK9",
        "colab_type": "code",
        "colab": {}
      },
      "cell_type": "code",
      "source": [
        "pca=PCA(n_components=8)"
      ],
      "execution_count": 0,
      "outputs": []
    },
    {
      "metadata": {
        "id": "cFom1IlMS_Ly",
        "colab_type": "code",
        "colab": {}
      },
      "cell_type": "code",
      "source": [
        "x_pca=pd.DataFrame(pca.fit_transform(x))\n"
      ],
      "execution_count": 0,
      "outputs": []
    },
    {
      "metadata": {
        "id": "-1-xUt1gdxV7",
        "colab_type": "text"
      },
      "cell_type": "markdown",
      "source": [
        "First five rows of data after performing PCA.We can see that we have changed the 64 dimensions into a 8 dimensions.\n"
      ]
    },
    {
      "metadata": {
        "id": "AYvQn33GeBsX",
        "colab_type": "code",
        "colab": {
          "base_uri": "https://localhost:8080/",
          "height": 204
        },
        "outputId": "656ab34e-1896-4b31-e75e-d18e41c3f5d0"
      },
      "cell_type": "code",
      "source": [
        "x_pca.head()"
      ],
      "execution_count": 205,
      "outputs": [
        {
          "output_type": "execute_result",
          "data": {
            "text/html": [
              "<div>\n",
              "<style scoped>\n",
              "    .dataframe tbody tr th:only-of-type {\n",
              "        vertical-align: middle;\n",
              "    }\n",
              "\n",
              "    .dataframe tbody tr th {\n",
              "        vertical-align: top;\n",
              "    }\n",
              "\n",
              "    .dataframe thead th {\n",
              "        text-align: right;\n",
              "    }\n",
              "</style>\n",
              "<table border=\"1\" class=\"dataframe\">\n",
              "  <thead>\n",
              "    <tr style=\"text-align: right;\">\n",
              "      <th></th>\n",
              "      <th>0</th>\n",
              "      <th>1</th>\n",
              "      <th>2</th>\n",
              "      <th>3</th>\n",
              "      <th>4</th>\n",
              "      <th>5</th>\n",
              "      <th>6</th>\n",
              "      <th>7</th>\n",
              "    </tr>\n",
              "  </thead>\n",
              "  <tbody>\n",
              "    <tr>\n",
              "      <th>0</th>\n",
              "      <td>1.914283</td>\n",
              "      <td>-0.954301</td>\n",
              "      <td>-3.945959</td>\n",
              "      <td>2.032441</td>\n",
              "      <td>-0.273681</td>\n",
              "      <td>0.538300</td>\n",
              "      <td>-1.429289</td>\n",
              "      <td>1.482702</td>\n",
              "    </tr>\n",
              "    <tr>\n",
              "      <th>1</th>\n",
              "      <td>0.589165</td>\n",
              "      <td>0.924678</td>\n",
              "      <td>3.925580</td>\n",
              "      <td>-1.775494</td>\n",
              "      <td>-0.998603</td>\n",
              "      <td>-0.683551</td>\n",
              "      <td>1.900202</td>\n",
              "      <td>0.570992</td>\n",
              "    </tr>\n",
              "    <tr>\n",
              "      <th>2</th>\n",
              "      <td>1.301935</td>\n",
              "      <td>-0.317551</td>\n",
              "      <td>3.023883</td>\n",
              "      <td>-2.046824</td>\n",
              "      <td>-2.074515</td>\n",
              "      <td>0.921671</td>\n",
              "      <td>-1.288732</td>\n",
              "      <td>1.140025</td>\n",
              "    </tr>\n",
              "    <tr>\n",
              "      <th>3</th>\n",
              "      <td>-3.020463</td>\n",
              "      <td>-0.869308</td>\n",
              "      <td>-0.800126</td>\n",
              "      <td>-2.183330</td>\n",
              "      <td>-0.565395</td>\n",
              "      <td>0.717856</td>\n",
              "      <td>0.975275</td>\n",
              "      <td>-1.356460</td>\n",
              "    </tr>\n",
              "    <tr>\n",
              "      <th>4</th>\n",
              "      <td>4.529408</td>\n",
              "      <td>-1.093420</td>\n",
              "      <td>0.972675</td>\n",
              "      <td>-1.409431</td>\n",
              "      <td>-1.745770</td>\n",
              "      <td>1.448945</td>\n",
              "      <td>1.079466</td>\n",
              "      <td>-0.943999</td>\n",
              "    </tr>\n",
              "  </tbody>\n",
              "</table>\n",
              "</div>"
            ],
            "text/plain": [
              "          0         1         2         3         4         5         6  \\\n",
              "0  1.914283 -0.954301 -3.945959  2.032441 -0.273681  0.538300 -1.429289   \n",
              "1  0.589165  0.924678  3.925580 -1.775494 -0.998603 -0.683551  1.900202   \n",
              "2  1.301935 -0.317551  3.023883 -2.046824 -2.074515  0.921671 -1.288732   \n",
              "3 -3.020463 -0.869308 -0.800126 -2.183330 -0.565395  0.717856  0.975275   \n",
              "4  4.529408 -1.093420  0.972675 -1.409431 -1.745770  1.448945  1.079466   \n",
              "\n",
              "          7  \n",
              "0  1.482702  \n",
              "1  0.570992  \n",
              "2  1.140025  \n",
              "3 -1.356460  \n",
              "4 -0.943999  "
            ]
          },
          "metadata": {
            "tags": []
          },
          "execution_count": 205
        }
      ]
    },
    {
      "metadata": {
        "id": "vvOfNvx6eG2d",
        "colab_type": "text"
      },
      "cell_type": "markdown",
      "source": [
        "## Splitting the datasets into training and testing"
      ]
    },
    {
      "metadata": {
        "id": "bbnk1CxxRh7m",
        "colab_type": "code",
        "colab": {}
      },
      "cell_type": "code",
      "source": [
        "from sklearn.cross_validation import train_test_split"
      ],
      "execution_count": 0,
      "outputs": []
    },
    {
      "metadata": {
        "id": "grqlD8bjR1o3",
        "colab_type": "code",
        "colab": {}
      },
      "cell_type": "code",
      "source": [
        "x_train,x_test,y_train,y_test=train_test_split(x_pca,Y,test_size=.2,random_state=10)"
      ],
      "execution_count": 0,
      "outputs": []
    },
    {
      "metadata": {
        "id": "8wxmwGnXeUSZ",
        "colab_type": "text"
      },
      "cell_type": "markdown",
      "source": [
        "## Applying Logistic Regression"
      ]
    },
    {
      "metadata": {
        "id": "rZdo2cnESJqf",
        "colab_type": "code",
        "colab": {}
      },
      "cell_type": "code",
      "source": [
        "from sklearn.linear_model import LogisticRegression"
      ],
      "execution_count": 0,
      "outputs": []
    },
    {
      "metadata": {
        "id": "Z2Jc4J8iTcLK",
        "colab_type": "code",
        "colab": {}
      },
      "cell_type": "code",
      "source": [
        "log_pca=LogisticRegression()"
      ],
      "execution_count": 0,
      "outputs": []
    },
    {
      "metadata": {
        "id": "lpCLppcGWLDW",
        "colab_type": "code",
        "colab": {}
      },
      "cell_type": "code",
      "source": [
        "pca_start=time.time()"
      ],
      "execution_count": 0,
      "outputs": []
    },
    {
      "metadata": {
        "id": "yiLADiMtTooD",
        "colab_type": "code",
        "colab": {
          "base_uri": "https://localhost:8080/",
          "height": 139
        },
        "outputId": "cda1011b-5f23-4231-eee7-426d34ad04d8"
      },
      "cell_type": "code",
      "source": [
        "log_pca.fit(x_train,y_train)"
      ],
      "execution_count": 211,
      "outputs": [
        {
          "output_type": "stream",
          "text": [
            "/usr/local/lib/python3.6/dist-packages/sklearn/utils/validation.py:578: DataConversionWarning: A column-vector y was passed when a 1d array was expected. Please change the shape of y to (n_samples, ), for example using ravel().\n",
            "  y = column_or_1d(y, warn=True)\n"
          ],
          "name": "stderr"
        },
        {
          "output_type": "execute_result",
          "data": {
            "text/plain": [
              "LogisticRegression(C=1.0, class_weight=None, dual=False, fit_intercept=True,\n",
              "          intercept_scaling=1, max_iter=100, multi_class='ovr', n_jobs=1,\n",
              "          penalty='l2', random_state=None, solver='liblinear', tol=0.0001,\n",
              "          verbose=0, warm_start=False)"
            ]
          },
          "metadata": {
            "tags": []
          },
          "execution_count": 211
        }
      ]
    },
    {
      "metadata": {
        "id": "69FsiIJSWTFE",
        "colab_type": "code",
        "colab": {
          "base_uri": "https://localhost:8080/",
          "height": 34
        },
        "outputId": "e06ec40b-f450-4ef2-9885-ce0b4ec5a99f"
      },
      "cell_type": "code",
      "source": [
        "pca_end=time.time()\n",
        "print('Time required: ',pca_end-pca_start)"
      ],
      "execution_count": 212,
      "outputs": [
        {
          "output_type": "stream",
          "text": [
            "Time required:  2.065554141998291\n"
          ],
          "name": "stdout"
        }
      ]
    },
    {
      "metadata": {
        "id": "XrHDCnorTuHm",
        "colab_type": "code",
        "colab": {
          "base_uri": "https://localhost:8080/",
          "height": 340
        },
        "outputId": "90f70e08-b5c2-4432-9703-1ce6d7acaa77"
      },
      "cell_type": "code",
      "source": [
        "log_pca_predict=log_pca.predict(x_test)\n",
        "print('Predicted targets:\\n')\n",
        "log_pca_predict"
      ],
      "execution_count": 213,
      "outputs": [
        {
          "output_type": "stream",
          "text": [
            "Predicted targets:\n",
            "\n"
          ],
          "name": "stdout"
        },
        {
          "output_type": "execute_result",
          "data": {
            "text/plain": [
              "array([5, 2, 5, 4, 1, 2, 4, 3, 3, 0, 8, 7, 0, 1, 8, 6, 5, 7, 9, 7, 1, 6,\n",
              "       6, 7, 8, 8, 5, 7, 9, 9, 9, 3, 7, 3, 4, 1, 9, 2, 5, 4, 2, 1, 0, 3,\n",
              "       2, 3, 6, 1, 9, 4, 4, 3, 8, 4, 1, 5, 1, 7, 1, 0, 4, 5, 8, 4, 7, 9,\n",
              "       0, 7, 8, 9, 9, 3, 3, 8, 0, 7, 3, 6, 5, 2, 0, 8, 2, 0, 1, 2, 2, 1,\n",
              "       8, 1, 2, 6, 3, 4, 7, 9, 8, 7, 9, 2, 5, 0, 5, 0, 4, 8, 2, 0, 6, 7,\n",
              "       3, 3, 7, 1, 1, 4, 6, 0, 5, 8, 1, 2, 7, 9, 9, 5, 2, 3, 3, 8, 7, 6,\n",
              "       2, 5, 4, 9, 8, 7, 6, 7, 2, 7, 4, 9, 5, 1, 9, 7, 6, 1, 1, 1, 4, 0,\n",
              "       5, 9, 1, 2, 3, 5, 0, 3, 4, 1, 5, 4, 9, 3, 5, 6, 4, 0, 8, 6, 7, 0,\n",
              "       9, 9, 4, 7, 3, 5, 2, 0, 6, 7, 5, 3, 5, 7, 1, 3, 2, 9, 7, 3, 1, 7,\n",
              "       2, 1, 1, 7, 1, 6, 7, 6, 9, 5, 2, 3, 5, 2, 9, 8, 1, 8, 2, 0, 9, 5,\n",
              "       4, 2, 3, 9, 0, 2, 0, 2, 1, 0, 5, 0, 6, 4, 2, 1, 9, 0, 5, 0, 6, 9,\n",
              "       4, 4, 9, 7, 5, 6, 1, 8, 7, 0, 9, 6, 2, 0, 1, 2, 3, 8, 4, 1, 3, 5,\n",
              "       7, 3, 7, 2, 0, 2, 0, 9, 2, 8, 6, 3, 6, 0, 6, 6, 6, 7, 1, 6, 1, 7,\n",
              "       6, 0, 6, 3, 7, 5, 6, 2, 2, 0, 8, 4, 7, 9, 9, 0, 0, 2, 3, 9, 7, 4,\n",
              "       4, 7, 9, 7, 6, 0, 9, 6, 2, 7, 1, 0, 5, 5, 6, 4, 7, 2, 5, 1, 4, 6,\n",
              "       6, 5, 0, 2, 9, 8, 7, 9, 6, 7, 0, 8, 3, 5, 9, 4, 1, 5, 5, 5, 7, 3,\n",
              "       9, 2, 7, 3, 3, 6, 6, 3])"
            ]
          },
          "metadata": {
            "tags": []
          },
          "execution_count": 213
        }
      ]
    },
    {
      "metadata": {
        "id": "zaEtRlaHT2nf",
        "colab_type": "code",
        "colab": {
          "base_uri": "https://localhost:8080/",
          "height": 34
        },
        "outputId": "23db23f2-f3f2-4b30-98e4-c45823f0cc12"
      },
      "cell_type": "code",
      "source": [
        "log_pca_score=log_pca.score(x_test,y_test)\n",
        "print(\"Score :\",log_pca_score)"
      ],
      "execution_count": 214,
      "outputs": [
        {
          "output_type": "stream",
          "text": [
            "Score : 0.8611111111111112\n"
          ],
          "name": "stdout"
        }
      ]
    },
    {
      "metadata": {
        "id": "HuW51NUvYf2M",
        "colab_type": "code",
        "colab": {
          "base_uri": "https://localhost:8080/",
          "height": 34
        },
        "outputId": "fd20f56d-113f-4d9f-995f-2d3f53216bf4"
      },
      "cell_type": "code",
      "source": [
        "print('Accuracy score:' ,met.accuracy_score(y_test,log_pca_predict))"
      ],
      "execution_count": 215,
      "outputs": [
        {
          "output_type": "stream",
          "text": [
            "Accuracy score: 0.8611111111111112\n"
          ],
          "name": "stdout"
        }
      ]
    },
    {
      "metadata": {
        "id": "5NQ6ao6yUCPN",
        "colab_type": "code",
        "colab": {}
      },
      "cell_type": "code",
      "source": [
        "import sklearn.metrics as met"
      ],
      "execution_count": 0,
      "outputs": []
    },
    {
      "metadata": {
        "id": "eDWv1_5IUXoS",
        "colab_type": "code",
        "colab": {
          "base_uri": "https://localhost:8080/",
          "height": 221
        },
        "outputId": "590d864d-09ee-49b9-ef5e-ad285e3faf95"
      },
      "cell_type": "code",
      "source": [
        "print('Confusion Matrix:\\n')\n",
        "print(met.confusion_matrix(y_test,log_pca_predict))"
      ],
      "execution_count": 217,
      "outputs": [
        {
          "output_type": "stream",
          "text": [
            "Confusion Matrix:\n",
            "\n",
            "[[36  0  0  0  1  0  0  0  0  0]\n",
            " [ 0 28  3  0  0  1  0  0  1  1]\n",
            " [ 0  0 33  0  0  0  0  1  0  0]\n",
            " [ 0  0  0 32  0  0  0  2  1  5]\n",
            " [ 0  2  0  0 28  3  0  1  0  0]\n",
            " [ 0  1  0  0  0 28  0  0  1  2]\n",
            " [ 0  0  0  0  1  0 36  0  0  0]\n",
            " [ 0  0  0  0  0  0  0 40  0  0]\n",
            " [ 0  5  3  0  0  2  1  0 20  2]\n",
            " [ 1  1  0  3  0  3  0  1  1 29]]\n"
          ],
          "name": "stdout"
        }
      ]
    },
    {
      "metadata": {
        "id": "Yes85V5XUgo8",
        "colab_type": "code",
        "colab": {
          "base_uri": "https://localhost:8080/",
          "height": 306
        },
        "outputId": "9b12ceba-2d31-4dd5-ea4a-d7930fcbb16c"
      },
      "cell_type": "code",
      "source": [
        "print('Classification reports:\\n')\n",
        "print(met.classification_report(y_test,log_pca_predict))"
      ],
      "execution_count": 218,
      "outputs": [
        {
          "output_type": "stream",
          "text": [
            "Classification reports:\n",
            "\n",
            "             precision    recall  f1-score   support\n",
            "\n",
            "          0       0.97      0.97      0.97        37\n",
            "          1       0.76      0.82      0.79        34\n",
            "          2       0.85      0.97      0.90        34\n",
            "          3       0.91      0.80      0.85        40\n",
            "          4       0.93      0.82      0.87        34\n",
            "          5       0.76      0.88      0.81        32\n",
            "          6       0.97      0.97      0.97        37\n",
            "          7       0.89      1.00      0.94        40\n",
            "          8       0.83      0.61      0.70        33\n",
            "          9       0.74      0.74      0.74        39\n",
            "\n",
            "avg / total       0.86      0.86      0.86       360\n",
            "\n"
          ],
          "name": "stdout"
        }
      ]
    },
    {
      "metadata": {
        "id": "5MgASjRkf022",
        "colab_type": "text"
      },
      "cell_type": "markdown",
      "source": [
        "## Working Without PCA"
      ]
    },
    {
      "metadata": {
        "id": "u_bqUiNhf59F",
        "colab_type": "text"
      },
      "cell_type": "markdown",
      "source": [
        "### Splitting datasets"
      ]
    },
    {
      "metadata": {
        "id": "pnRDahPcgE6G",
        "colab_type": "text"
      },
      "cell_type": "markdown",
      "source": [
        "Since 'X' is the dataframe where no PCA and standardizarion is performed,so we have used 'X' as the attributes while splitting."
      ]
    },
    {
      "metadata": {
        "id": "YjXnLhQfUv-4",
        "colab_type": "code",
        "colab": {}
      },
      "cell_type": "code",
      "source": [
        "xx_train,xx_test,yy_train,yy_test=train_test_split(X,Y,test_size=.2,random_state=10)"
      ],
      "execution_count": 0,
      "outputs": []
    },
    {
      "metadata": {
        "id": "fqVu26rqU9ky",
        "colab_type": "code",
        "colab": {}
      },
      "cell_type": "code",
      "source": [
        "log=LogisticRegression()"
      ],
      "execution_count": 0,
      "outputs": []
    },
    {
      "metadata": {
        "id": "AegO8682Wlzi",
        "colab_type": "code",
        "colab": {}
      },
      "cell_type": "code",
      "source": [
        "start=time.time()"
      ],
      "execution_count": 0,
      "outputs": []
    },
    {
      "metadata": {
        "id": "cZ0LblHYVC0c",
        "colab_type": "code",
        "colab": {
          "base_uri": "https://localhost:8080/",
          "height": 139
        },
        "outputId": "2906c594-0a3a-4874-88e5-053d29c9e62d"
      },
      "cell_type": "code",
      "source": [
        "log.fit(xx_train,yy_train)"
      ],
      "execution_count": 222,
      "outputs": [
        {
          "output_type": "stream",
          "text": [
            "/usr/local/lib/python3.6/dist-packages/sklearn/utils/validation.py:578: DataConversionWarning: A column-vector y was passed when a 1d array was expected. Please change the shape of y to (n_samples, ), for example using ravel().\n",
            "  y = column_or_1d(y, warn=True)\n"
          ],
          "name": "stderr"
        },
        {
          "output_type": "execute_result",
          "data": {
            "text/plain": [
              "LogisticRegression(C=1.0, class_weight=None, dual=False, fit_intercept=True,\n",
              "          intercept_scaling=1, max_iter=100, multi_class='ovr', n_jobs=1,\n",
              "          penalty='l2', random_state=None, solver='liblinear', tol=0.0001,\n",
              "          verbose=0, warm_start=False)"
            ]
          },
          "metadata": {
            "tags": []
          },
          "execution_count": 222
        }
      ]
    },
    {
      "metadata": {
        "id": "eW2bqIb7WpDw",
        "colab_type": "code",
        "colab": {
          "base_uri": "https://localhost:8080/",
          "height": 34
        },
        "outputId": "55cd5080-36c9-4172-c1d9-1b131db10176"
      },
      "cell_type": "code",
      "source": [
        "end=time.time()\n",
        "print('Fitting Time: ', end- start)"
      ],
      "execution_count": 223,
      "outputs": [
        {
          "output_type": "stream",
          "text": [
            "Fitting Time:  2.6753501892089844\n"
          ],
          "name": "stdout"
        }
      ]
    },
    {
      "metadata": {
        "id": "IdGGOyIXVJI6",
        "colab_type": "code",
        "colab": {
          "base_uri": "https://localhost:8080/",
          "height": 340
        },
        "outputId": "80cbefd6-f4bc-4332-ce49-f4ef77a02235"
      },
      "cell_type": "code",
      "source": [
        "log_predict=log.predict(xx_test)\n",
        "print('Predicted Targets:\\n')\n",
        "log_predict"
      ],
      "execution_count": 224,
      "outputs": [
        {
          "output_type": "stream",
          "text": [
            "Predicted Targets:\n",
            "\n"
          ],
          "name": "stdout"
        },
        {
          "output_type": "execute_result",
          "data": {
            "text/plain": [
              "array([5, 2, 5, 4, 1, 2, 4, 3, 3, 0, 8, 7, 0, 1, 8, 6, 9, 7, 9, 7, 1, 8,\n",
              "       6, 7, 8, 8, 5, 2, 5, 9, 3, 3, 7, 3, 4, 1, 9, 2, 5, 4, 2, 1, 0, 9,\n",
              "       2, 3, 6, 1, 9, 4, 4, 5, 8, 4, 8, 5, 9, 7, 1, 0, 4, 5, 8, 4, 7, 9,\n",
              "       0, 7, 8, 3, 9, 3, 3, 8, 0, 7, 3, 6, 5, 2, 0, 8, 8, 0, 1, 1, 2, 8,\n",
              "       8, 8, 2, 6, 3, 4, 7, 9, 8, 2, 9, 2, 5, 0, 8, 0, 4, 8, 8, 0, 6, 7,\n",
              "       3, 3, 9, 1, 5, 4, 6, 0, 8, 8, 1, 1, 7, 9, 8, 5, 2, 3, 3, 8, 7, 6,\n",
              "       2, 5, 4, 3, 3, 7, 6, 7, 2, 7, 4, 9, 5, 1, 9, 1, 6, 1, 1, 1, 4, 0,\n",
              "       8, 9, 1, 2, 3, 5, 0, 3, 4, 1, 5, 4, 9, 3, 5, 6, 4, 0, 8, 6, 7, 0,\n",
              "       9, 9, 4, 7, 3, 5, 2, 0, 6, 7, 5, 3, 8, 7, 1, 3, 2, 8, 3, 3, 1, 7,\n",
              "       1, 1, 1, 7, 1, 6, 7, 6, 9, 5, 2, 3, 5, 2, 9, 5, 4, 8, 2, 9, 1, 5,\n",
              "       0, 2, 3, 9, 0, 2, 0, 2, 1, 0, 5, 0, 6, 4, 2, 1, 9, 0, 9, 0, 6, 9,\n",
              "       4, 4, 9, 4, 5, 6, 1, 8, 7, 0, 8, 6, 2, 0, 1, 2, 3, 8, 4, 4, 3, 5,\n",
              "       7, 9, 7, 2, 0, 2, 0, 9, 2, 8, 6, 3, 6, 0, 6, 6, 6, 7, 1, 6, 1, 7,\n",
              "       6, 0, 6, 3, 7, 1, 6, 2, 2, 0, 8, 4, 7, 3, 3, 0, 0, 2, 3, 9, 7, 4,\n",
              "       6, 7, 9, 7, 6, 0, 5, 6, 2, 7, 1, 0, 1, 8, 6, 4, 7, 2, 5, 1, 4, 6,\n",
              "       6, 5, 0, 2, 9, 8, 7, 9, 6, 7, 0, 8, 3, 5, 9, 4, 1, 5, 5, 4, 7, 3,\n",
              "       9, 2, 7, 3, 3, 6, 6, 3])"
            ]
          },
          "metadata": {
            "tags": []
          },
          "execution_count": 224
        }
      ]
    },
    {
      "metadata": {
        "id": "ozKz-QzSVWLP",
        "colab_type": "code",
        "colab": {
          "base_uri": "https://localhost:8080/",
          "height": 34
        },
        "outputId": "9f64a5b5-f476-46b8-dab7-a3552ab065fd"
      },
      "cell_type": "code",
      "source": [
        "log_score=log.score(xx_test,yy_test)\n",
        "print('Score: ',log_score)"
      ],
      "execution_count": 225,
      "outputs": [
        {
          "output_type": "stream",
          "text": [
            "Score:  0.9583333333333334\n"
          ],
          "name": "stdout"
        }
      ]
    },
    {
      "metadata": {
        "id": "h70lMf_LZFzr",
        "colab_type": "code",
        "colab": {
          "base_uri": "https://localhost:8080/",
          "height": 34
        },
        "outputId": "c035e83c-bd12-41fa-e161-12e3b0377ac9"
      },
      "cell_type": "code",
      "source": [
        "print('Accuracy score:' ,met.accuracy_score(yy_test,log_predict))"
      ],
      "execution_count": 226,
      "outputs": [
        {
          "output_type": "stream",
          "text": [
            "Accuracy score: 0.9583333333333334\n"
          ],
          "name": "stdout"
        }
      ]
    },
    {
      "metadata": {
        "id": "Lc4fSsa5VfsQ",
        "colab_type": "code",
        "colab": {
          "base_uri": "https://localhost:8080/",
          "height": 306
        },
        "outputId": "f4ec063e-7b5f-4a6c-b2ec-dfb5c280f887"
      },
      "cell_type": "code",
      "source": [
        "print('Classification Report:\\n')\n",
        "print(met.classification_report(yy_test,log_predict))"
      ],
      "execution_count": 227,
      "outputs": [
        {
          "output_type": "stream",
          "text": [
            "Classification Report:\n",
            "\n",
            "             precision    recall  f1-score   support\n",
            "\n",
            "          0       1.00      1.00      1.00        37\n",
            "          1       0.86      0.94      0.90        34\n",
            "          2       0.94      1.00      0.97        34\n",
            "          3       1.00      0.97      0.99        40\n",
            "          4       0.97      0.91      0.94        34\n",
            "          5       0.97      0.97      0.97        32\n",
            "          6       1.00      1.00      1.00        37\n",
            "          7       1.00      0.97      0.99        40\n",
            "          8       0.83      0.91      0.87        33\n",
            "          9       1.00      0.90      0.95        39\n",
            "\n",
            "avg / total       0.96      0.96      0.96       360\n",
            "\n"
          ],
          "name": "stdout"
        }
      ]
    },
    {
      "metadata": {
        "id": "l-jRfLMLVnJS",
        "colab_type": "code",
        "colab": {
          "base_uri": "https://localhost:8080/",
          "height": 221
        },
        "outputId": "e10a874b-e285-4a2d-c6cd-5712f8347649"
      },
      "cell_type": "code",
      "source": [
        "print('Confusion Matrix:\\n')\n",
        "print(met.confusion_matrix(yy_test,log_predict))"
      ],
      "execution_count": 228,
      "outputs": [
        {
          "output_type": "stream",
          "text": [
            "Confusion Matrix:\n",
            "\n",
            "[[37  0  0  0  0  0  0  0  0  0]\n",
            " [ 0 32  0  0  0  0  0  0  2  0]\n",
            " [ 0  0 34  0  0  0  0  0  0  0]\n",
            " [ 0  0  1 39  0  0  0  0  0  0]\n",
            " [ 0  2  0  0 31  0  0  0  1  0]\n",
            " [ 0  1  0  0  0 31  0  0  0  0]\n",
            " [ 0  0  0  0  0  0 37  0  0  0]\n",
            " [ 0  0  0  0  1  0  0 39  0  0]\n",
            " [ 0  2  1  0  0  0  0  0 30  0]\n",
            " [ 0  0  0  0  0  1  0  0  3 35]]\n"
          ],
          "name": "stdout"
        }
      ]
    },
    {
      "metadata": {
        "id": "5h65izr5hCHH",
        "colab_type": "text"
      },
      "cell_type": "markdown",
      "source": [
        "## Performing PCA without Standardization"
      ]
    },
    {
      "metadata": {
        "id": "cpeCVAbbZroZ",
        "colab_type": "code",
        "colab": {}
      },
      "cell_type": "code",
      "source": [
        "pca1=PCA(n_components=8)"
      ],
      "execution_count": 0,
      "outputs": []
    },
    {
      "metadata": {
        "id": "1LK3dkCZhPkv",
        "colab_type": "text"
      },
      "cell_type": "markdown",
      "source": [
        "We will create a new dataframe xx_pca for PCA transformation on 'X' as since in 'X we haven't performed standardization."
      ]
    },
    {
      "metadata": {
        "id": "poZuGJKSZroh",
        "colab_type": "code",
        "colab": {
          "base_uri": "https://localhost:8080/",
          "height": 238
        },
        "outputId": "02da9b58-de59-49ef-8e5a-2bb55be1013e"
      },
      "cell_type": "code",
      "source": [
        "xx_pca=pd.DataFrame(pca1.fit_transform(X))\n",
        "print('First five rows of our datasets looks like:\\n')\n",
        "xx_pca.head()"
      ],
      "execution_count": 230,
      "outputs": [
        {
          "output_type": "stream",
          "text": [
            "First five rows of our datasets looks like:\n",
            "\n"
          ],
          "name": "stdout"
        },
        {
          "output_type": "execute_result",
          "data": {
            "text/html": [
              "<div>\n",
              "<style scoped>\n",
              "    .dataframe tbody tr th:only-of-type {\n",
              "        vertical-align: middle;\n",
              "    }\n",
              "\n",
              "    .dataframe tbody tr th {\n",
              "        vertical-align: top;\n",
              "    }\n",
              "\n",
              "    .dataframe thead th {\n",
              "        text-align: right;\n",
              "    }\n",
              "</style>\n",
              "<table border=\"1\" class=\"dataframe\">\n",
              "  <thead>\n",
              "    <tr style=\"text-align: right;\">\n",
              "      <th></th>\n",
              "      <th>0</th>\n",
              "      <th>1</th>\n",
              "      <th>2</th>\n",
              "      <th>3</th>\n",
              "      <th>4</th>\n",
              "      <th>5</th>\n",
              "      <th>6</th>\n",
              "      <th>7</th>\n",
              "    </tr>\n",
              "  </thead>\n",
              "  <tbody>\n",
              "    <tr>\n",
              "      <th>0</th>\n",
              "      <td>-1.259445</td>\n",
              "      <td>21.274794</td>\n",
              "      <td>-9.462984</td>\n",
              "      <td>13.014416</td>\n",
              "      <td>-7.128258</td>\n",
              "      <td>-7.441844</td>\n",
              "      <td>3.256327</td>\n",
              "      <td>2.552519</td>\n",
              "    </tr>\n",
              "    <tr>\n",
              "      <th>1</th>\n",
              "      <td>7.957670</td>\n",
              "      <td>-20.768637</td>\n",
              "      <td>4.439576</td>\n",
              "      <td>-14.893909</td>\n",
              "      <td>5.896468</td>\n",
              "      <td>-6.493443</td>\n",
              "      <td>2.123865</td>\n",
              "      <td>-4.582082</td>\n",
              "    </tr>\n",
              "    <tr>\n",
              "      <th>2</th>\n",
              "      <td>6.991996</td>\n",
              "      <td>-9.956058</td>\n",
              "      <td>2.958115</td>\n",
              "      <td>-12.288925</td>\n",
              "      <td>-18.125996</td>\n",
              "      <td>-4.496684</td>\n",
              "      <td>1.857303</td>\n",
              "      <td>-16.529205</td>\n",
              "    </tr>\n",
              "    <tr>\n",
              "      <th>3</th>\n",
              "      <td>-15.906081</td>\n",
              "      <td>3.332623</td>\n",
              "      <td>9.824862</td>\n",
              "      <td>-12.275141</td>\n",
              "      <td>6.967883</td>\n",
              "      <td>1.077697</td>\n",
              "      <td>-1.059747</td>\n",
              "      <td>11.069613</td>\n",
              "    </tr>\n",
              "    <tr>\n",
              "      <th>4</th>\n",
              "      <td>23.306629</td>\n",
              "      <td>4.268674</td>\n",
              "      <td>-5.675479</td>\n",
              "      <td>-13.851172</td>\n",
              "      <td>-0.362327</td>\n",
              "      <td>-2.838176</td>\n",
              "      <td>-0.704180</td>\n",
              "      <td>12.977245</td>\n",
              "    </tr>\n",
              "  </tbody>\n",
              "</table>\n",
              "</div>"
            ],
            "text/plain": [
              "           0          1         2          3          4         5         6  \\\n",
              "0  -1.259445  21.274794 -9.462984  13.014416  -7.128258 -7.441844  3.256327   \n",
              "1   7.957670 -20.768637  4.439576 -14.893909   5.896468 -6.493443  2.123865   \n",
              "2   6.991996  -9.956058  2.958115 -12.288925 -18.125996 -4.496684  1.857303   \n",
              "3 -15.906081   3.332623  9.824862 -12.275141   6.967883  1.077697 -1.059747   \n",
              "4  23.306629   4.268674 -5.675479 -13.851172  -0.362327 -2.838176 -0.704180   \n",
              "\n",
              "           7  \n",
              "0   2.552519  \n",
              "1  -4.582082  \n",
              "2 -16.529205  \n",
              "3  11.069613  \n",
              "4  12.977245  "
            ]
          },
          "metadata": {
            "tags": []
          },
          "execution_count": 230
        }
      ]
    },
    {
      "metadata": {
        "id": "hNy51c3PiRc-",
        "colab_type": "text"
      },
      "cell_type": "markdown",
      "source": [
        "### Spitting the datasets"
      ]
    },
    {
      "metadata": {
        "id": "zD82f3Z8Zrop",
        "colab_type": "code",
        "colab": {}
      },
      "cell_type": "code",
      "source": [
        "from sklearn.cross_validation import train_test_split"
      ],
      "execution_count": 0,
      "outputs": []
    },
    {
      "metadata": {
        "id": "6Nzl1ecxZrot",
        "colab_type": "code",
        "colab": {}
      },
      "cell_type": "code",
      "source": [
        "xxx_train,xxx_test,yyy_train,yyy_test=train_test_split(xx_pca,Y,test_size=.2,random_state=10)"
      ],
      "execution_count": 0,
      "outputs": []
    },
    {
      "metadata": {
        "id": "yM_4bQVrZro3",
        "colab_type": "code",
        "colab": {}
      },
      "cell_type": "code",
      "source": [
        "log_pca1=LogisticRegression()"
      ],
      "execution_count": 0,
      "outputs": []
    },
    {
      "metadata": {
        "id": "Mziw5YihZrpA",
        "colab_type": "code",
        "colab": {}
      },
      "cell_type": "code",
      "source": [
        "pca_start=time.time()"
      ],
      "execution_count": 0,
      "outputs": []
    },
    {
      "metadata": {
        "id": "Mt9y8dKAZrpO",
        "colab_type": "code",
        "colab": {
          "base_uri": "https://localhost:8080/",
          "height": 139
        },
        "outputId": "ebee4f26-972d-4a65-a467-60052d5e98b2"
      },
      "cell_type": "code",
      "source": [
        "log_pca1.fit(xxx_train,yyy_train)"
      ],
      "execution_count": 235,
      "outputs": [
        {
          "output_type": "stream",
          "text": [
            "/usr/local/lib/python3.6/dist-packages/sklearn/utils/validation.py:578: DataConversionWarning: A column-vector y was passed when a 1d array was expected. Please change the shape of y to (n_samples, ), for example using ravel().\n",
            "  y = column_or_1d(y, warn=True)\n"
          ],
          "name": "stderr"
        },
        {
          "output_type": "execute_result",
          "data": {
            "text/plain": [
              "LogisticRegression(C=1.0, class_weight=None, dual=False, fit_intercept=True,\n",
              "          intercept_scaling=1, max_iter=100, multi_class='ovr', n_jobs=1,\n",
              "          penalty='l2', random_state=None, solver='liblinear', tol=0.0001,\n",
              "          verbose=0, warm_start=False)"
            ]
          },
          "metadata": {
            "tags": []
          },
          "execution_count": 235
        }
      ]
    },
    {
      "metadata": {
        "id": "JixDiJC6Zrpj",
        "colab_type": "code",
        "colab": {
          "base_uri": "https://localhost:8080/",
          "height": 34
        },
        "outputId": "900cac75-2533-4fca-de7e-4d6f08d54c2f"
      },
      "cell_type": "code",
      "source": [
        "pca_end=time.time()\n",
        "t=pca_end-pca_start\n",
        "print('Fitting time: ',t)"
      ],
      "execution_count": 236,
      "outputs": [
        {
          "output_type": "stream",
          "text": [
            "Fitting time:  1.8899455070495605\n"
          ],
          "name": "stdout"
        }
      ]
    },
    {
      "metadata": {
        "id": "tJgl3dd5Zrpu",
        "colab_type": "code",
        "colab": {
          "base_uri": "https://localhost:8080/",
          "height": 340
        },
        "outputId": "6501d565-5132-44ea-8c46-f10611a9b615"
      },
      "cell_type": "code",
      "source": [
        "log_pca_predict1=log_pca.predict(xxx_test)\n",
        "print('Predicted Targets:\\n')\n",
        "log_pca_predict1"
      ],
      "execution_count": 237,
      "outputs": [
        {
          "output_type": "stream",
          "text": [
            "Predicted Targets:\n",
            "\n"
          ],
          "name": "stdout"
        },
        {
          "output_type": "execute_result",
          "data": {
            "text/plain": [
              "array([5, 2, 2, 0, 6, 1, 4, 2, 2, 7, 2, 2, 7, 6, 2, 4, 5, 0, 3, 2, 6, 1,\n",
              "       4, 0, 2, 2, 0, 6, 2, 3, 3, 3, 0, 2, 4, 9, 3, 6, 6, 4, 1, 6, 7, 3,\n",
              "       5, 3, 7, 6, 3, 0, 4, 1, 6, 4, 3, 5, 9, 0, 6, 7, 9, 5, 6, 4, 0, 3,\n",
              "       7, 0, 6, 3, 3, 3, 3, 2, 7, 0, 2, 4, 5, 1, 7, 6, 6, 7, 6, 1, 1, 5,\n",
              "       7, 6, 6, 4, 2, 4, 0, 3, 6, 6, 2, 5, 2, 7, 7, 7, 4, 7, 2, 7, 4, 0,\n",
              "       0, 3, 0, 1, 6, 4, 7, 5, 2, 6, 6, 1, 0, 3, 3, 5, 1, 3, 6, 6, 0, 4,\n",
              "       1, 6, 4, 3, 3, 0, 7, 0, 2, 0, 4, 2, 1, 6, 3, 6, 7, 9, 6, 9, 9, 7,\n",
              "       2, 3, 6, 2, 3, 2, 7, 3, 4, 6, 5, 4, 3, 3, 5, 4, 4, 7, 7, 4, 6, 5,\n",
              "       3, 3, 4, 0, 1, 2, 1, 5, 4, 0, 7, 3, 6, 2, 9, 2, 6, 5, 6, 3, 6, 5,\n",
              "       1, 6, 6, 0, 1, 4, 0, 4, 2, 6, 2, 3, 2, 6, 3, 5, 4, 7, 1, 7, 9, 5,\n",
              "       4, 5, 3, 3, 7, 1, 7, 2, 9, 7, 2, 5, 4, 4, 2, 6, 3, 7, 9, 7, 7, 3,\n",
              "       9, 0, 9, 0, 5, 4, 1, 7, 5, 7, 5, 4, 1, 5, 6, 1, 3, 6, 4, 4, 3, 0,\n",
              "       0, 2, 0, 2, 7, 5, 7, 3, 1, 6, 4, 2, 1, 7, 4, 4, 4, 0, 6, 4, 1, 0,\n",
              "       4, 7, 4, 2, 2, 4, 4, 1, 4, 7, 3, 4, 0, 3, 3, 7, 5, 6, 3, 3, 0, 4,\n",
              "       4, 0, 5, 0, 1, 7, 2, 4, 5, 0, 6, 5, 6, 4, 4, 4, 2, 6, 6, 6, 4, 4,\n",
              "       4, 6, 5, 5, 2, 7, 5, 2, 4, 0, 7, 7, 3, 2, 9, 4, 1, 5, 5, 4, 0, 3,\n",
              "       3, 2, 0, 3, 0, 1, 4, 2])"
            ]
          },
          "metadata": {
            "tags": []
          },
          "execution_count": 237
        }
      ]
    },
    {
      "metadata": {
        "id": "ONVSvuz4Zrp1",
        "colab_type": "code",
        "colab": {
          "base_uri": "https://localhost:8080/",
          "height": 34
        },
        "outputId": "20cf5240-a16c-4389-e122-1f44b648dd4d"
      },
      "cell_type": "code",
      "source": [
        "log_pca_score1=log_pca.score(xxx_test,yyy_test)\n",
        "print('Score: ', log_pca_score1)"
      ],
      "execution_count": 238,
      "outputs": [
        {
          "output_type": "stream",
          "text": [
            "Score:  0.23055555555555557\n"
          ],
          "name": "stdout"
        }
      ]
    },
    {
      "metadata": {
        "id": "fV1vEfYGZrp_",
        "colab_type": "code",
        "colab": {
          "base_uri": "https://localhost:8080/",
          "height": 34
        },
        "outputId": "93672d3a-573a-4431-ad8a-4acd61e160e8"
      },
      "cell_type": "code",
      "source": [
        "print('Accuracy score:' ,met.accuracy_score(yyy_test,log_pca_predict1))"
      ],
      "execution_count": 239,
      "outputs": [
        {
          "output_type": "stream",
          "text": [
            "Accuracy score: 0.23055555555555557\n"
          ],
          "name": "stdout"
        }
      ]
    },
    {
      "metadata": {
        "id": "rccR37ZWji5Z",
        "colab_type": "text"
      },
      "cell_type": "markdown",
      "source": [
        "## Comparing all three models"
      ]
    },
    {
      "metadata": {
        "id": "TCNA-wfzmCgz",
        "colab_type": "code",
        "colab": {}
      },
      "cell_type": "code",
      "source": [
        "from collections import OrderedDict"
      ],
      "execution_count": 0,
      "outputs": []
    },
    {
      "metadata": {
        "id": "G-Qhhvxujm-y",
        "colab_type": "code",
        "colab": {}
      },
      "cell_type": "code",
      "source": [
        "compare=pd.DataFrame(OrderedDict({'Logistic Regression model':['PCA with Standard scalar','Without PCA','PCA without Standard Scalar'],'Fitting time':[pca_end-pca_start,end-start,t],'Score':[log_pca_score,log_score,log_pca_score1]}))"
      ],
      "execution_count": 0,
      "outputs": []
    },
    {
      "metadata": {
        "id": "2xpXwU1ikxPH",
        "colab_type": "code",
        "colab": {
          "base_uri": "https://localhost:8080/",
          "height": 142
        },
        "outputId": "627d2d71-5e55-43f4-9933-8eb77a114705"
      },
      "cell_type": "code",
      "source": [
        "compare"
      ],
      "execution_count": 258,
      "outputs": [
        {
          "output_type": "execute_result",
          "data": {
            "text/html": [
              "<div>\n",
              "<style scoped>\n",
              "    .dataframe tbody tr th:only-of-type {\n",
              "        vertical-align: middle;\n",
              "    }\n",
              "\n",
              "    .dataframe tbody tr th {\n",
              "        vertical-align: top;\n",
              "    }\n",
              "\n",
              "    .dataframe thead th {\n",
              "        text-align: right;\n",
              "    }\n",
              "</style>\n",
              "<table border=\"1\" class=\"dataframe\">\n",
              "  <thead>\n",
              "    <tr style=\"text-align: right;\">\n",
              "      <th></th>\n",
              "      <th>Logistic Regression model</th>\n",
              "      <th>Fitting time</th>\n",
              "      <th>Score</th>\n",
              "    </tr>\n",
              "  </thead>\n",
              "  <tbody>\n",
              "    <tr>\n",
              "      <th>0</th>\n",
              "      <td>PCA with Standard scalar</td>\n",
              "      <td>1.889946</td>\n",
              "      <td>0.861111</td>\n",
              "    </tr>\n",
              "    <tr>\n",
              "      <th>1</th>\n",
              "      <td>Without PCA</td>\n",
              "      <td>2.675350</td>\n",
              "      <td>0.958333</td>\n",
              "    </tr>\n",
              "    <tr>\n",
              "      <th>2</th>\n",
              "      <td>PCA without Standard Scalar</td>\n",
              "      <td>1.889946</td>\n",
              "      <td>0.230556</td>\n",
              "    </tr>\n",
              "  </tbody>\n",
              "</table>\n",
              "</div>"
            ],
            "text/plain": [
              "     Logistic Regression model  Fitting time     Score\n",
              "0     PCA with Standard scalar      1.889946  0.861111\n",
              "1                  Without PCA      2.675350  0.958333\n",
              "2  PCA without Standard Scalar      1.889946  0.230556"
            ]
          },
          "metadata": {
            "tags": []
          },
          "execution_count": 258
        }
      ]
    },
    {
      "metadata": {
        "id": "InpmquOtk3aA",
        "colab_type": "code",
        "colab": {
          "base_uri": "https://localhost:8080/",
          "height": 313
        },
        "outputId": "7d7458e2-1e84-4c11-b0e1-2cf08ad2fd9e"
      },
      "cell_type": "code",
      "source": [
        "plt.figure(figsize=(17,4))\n",
        "sns.pointplot(x='Logistic Regression model',y='Fitting time',data=compare)\n",
        "sns.despine()\n"
      ],
      "execution_count": 271,
      "outputs": [
        {
          "output_type": "stream",
          "text": [
            "/usr/local/lib/python3.6/dist-packages/seaborn/categorical.py:1428: FutureWarning: remove_na is deprecated and is a private function. Do not use.\n",
            "  stat_data = remove_na(group_data)\n"
          ],
          "name": "stderr"
        },
        {
          "output_type": "display_data",
          "data": {
            "image/png": "[encoded data removed]",
            "text/plain": [
              "<matplotlib.figure.Figure at 0x7f91046b8080>"
            ]
          },
          "metadata": {
            "tags": []
          }
        }
      ]
    },
    {
      "metadata": {
        "id": "zVsDQze2mpyv",
        "colab_type": "code",
        "colab": {
          "base_uri": "https://localhost:8080/",
          "height": 315
        },
        "outputId": "4d66723e-5da1-43b3-caaf-3ac415011fe6"
      },
      "cell_type": "code",
      "source": [
        "plt.figure(figsize=(17,4))\n",
        "sns.pointplot(x='Logistic Regression model',y='Score',data=compare)\n",
        "sns.despine()\n"
      ],
      "execution_count": 272,
      "outputs": [
        {
          "output_type": "stream",
          "text": [
            "/usr/local/lib/python3.6/dist-packages/seaborn/categorical.py:1428: FutureWarning: remove_na is deprecated and is a private function. Do not use.\n",
            "  stat_data = remove_na(group_data)\n"
          ],
          "name": "stderr"
        },
        {
          "output_type": "display_data",
          "data": {
            "image/png": "[encoded data removed]",
            "text/plain": [
              "<matplotlib.figure.Figure at 0x7f9104623828>"
            ]
          },
          "metadata": {
            "tags": []
          }
        }
      ]
    },
    {
      "metadata": {
        "id": "zsxlqCO2pA8p",
        "colab_type": "text"
      },
      "cell_type": "markdown",
      "source": [
        "#### Inferences: \n",
        "**Fitting time:** We can see from the graph that the fitting time for the logicstic regression model using PCA (with or without Standard Scalar) is much better than without PCA.The fitting time for logicstic regression models using PCA (with or without Standard Scalar) are around 1.8 whereas 2.7 for model without PCA. \n",
        "\n",
        "**Score:** \n",
        "The score of the model using PCA without Standard Scalar is  .23%.\n",
        "The score of the model using PCA with standard Scalar is .86%.\n",
        "The score of the model without PCA is .93%.\n",
        "\n",
        "We can see that score of model using PCA without Standard Scalar is much less than the rest two.This happens due to the fact that PCA seeks to identify the principal components with the highest variance, if the data are not properly normalized, attributes with large values and large variances (in absolute terms) will end up dominating the first principal component when they should not.Normalizing the data gets each attribute onto more or less the same scale, so that each attribute has an opportunity to contribute to the principal component analysis."
      ]
    },
    {
      "metadata": {
        "id": "zOMQOinzrbNH",
        "colab_type": "text"
      },
      "cell_type": "markdown",
      "source": [
        "## Conclusion:\n",
        "PCA is performed during data preprocessing so as to reduce the dimensions of the datasets .\n",
        "We have to perform Standardization before performing the PCA ,only then we will get better score."
      ]
    },
    {
      "metadata": {
        "id": "Ib0vNNh0r5mM",
        "colab_type": "code",
        "colab": {}
      },
      "cell_type": "code",
      "source": [
        ""
      ],
      "execution_count": 0,
      "outputs": []
    }
  ]
}