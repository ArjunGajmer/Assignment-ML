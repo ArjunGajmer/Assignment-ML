{
  "nbformat": 4,
  "nbformat_minor": 0,
  "metadata": {
    "colab": {
      "name": "Untitled1.ipynb",
      "version": "0.3.2",
      "provenance": []
    },
    "kernelspec": {
      "name": "python3",
      "display_name": "Python 3"
    }
  },
  "cells": [
    {
      "cell_type": "markdown",
      "metadata": {
        "id": "view-in-github",
        "colab_type": "text"
      },
      "source": [
        "[View in Colaboratory](https://colab.research.google.com/github/ArjunGajmer/Assignment-ML/blob/master/Assignment_2.ipynb)"
      ]
    },
    {
      "metadata": {
        "id": "oN9hEtuHYzDn",
        "colab_type": "text"
      },
      "cell_type": "markdown",
      "source": [
        "#Statistic and Numpy"
      ]
    },
    {
      "metadata": {
        "id": "Za5vSdYvY86B",
        "colab_type": "text"
      },
      "cell_type": "markdown",
      "source": [
        "QUESTION 1:Create a numpy array with 10 elements of the shape(10,1) using np.random and find out the mean of the elements using basic numpy functions."
      ]
    },
    {
      "metadata": {
        "id": "0Gbb8TRRZHze",
        "colab_type": "code",
        "colab": {}
      },
      "cell_type": "code",
      "source": [
        "import numpy as np"
      ],
      "execution_count": 0,
      "outputs": []
    },
    {
      "metadata": {
        "id": "MDLwWY1wZU7w",
        "colab_type": "code",
        "colab": {
          "base_uri": "https://localhost:8080/",
          "height": 34
        },
        "outputId": "8abc6837-9fad-4b99-ee8b-2191f87a4d73"
      },
      "cell_type": "code",
      "source": [
        "b=np.random.rand(10,1)\n",
        "np.mean(b)"
      ],
      "execution_count": 4,
      "outputs": [
        {
          "output_type": "execute_result",
          "data": {
            "text/plain": [
              "0.5035176415874191"
            ]
          },
          "metadata": {
            "tags": []
          },
          "execution_count": 4
        }
      ]
    },
    {
      "metadata": {
        "id": "mWsoSVDnZ0iK",
        "colab_type": "text"
      },
      "cell_type": "markdown",
      "source": [
        "QUESTION 2: Create a numpy array with 20 elements of the shape(20,1) using np.random find the variance and standard deviation of the elements."
      ]
    },
    {
      "metadata": {
        "id": "EV-n_nsHZ_pI",
        "colab_type": "code",
        "colab": {
          "base_uri": "https://localhost:8080/",
          "height": 34
        },
        "outputId": "47b8eb4e-ac98-4bcb-bd5e-7e8c5897be41"
      },
      "cell_type": "code",
      "source": [
        "c=np.random.rand(20,1)\n",
        "np.var(c)\n"
      ],
      "execution_count": 9,
      "outputs": [
        {
          "output_type": "execute_result",
          "data": {
            "text/plain": [
              "0.08284811927585627"
            ]
          },
          "metadata": {
            "tags": []
          },
          "execution_count": 9
        }
      ]
    },
    {
      "metadata": {
        "id": "oHfAdfTVbF6h",
        "colab_type": "code",
        "colab": {
          "base_uri": "https://localhost:8080/",
          "height": 34
        },
        "outputId": "44456e69-40f1-4303-b2fb-b2597f2dd819"
      },
      "cell_type": "code",
      "source": [
        "np.std(c)"
      ],
      "execution_count": 10,
      "outputs": [
        {
          "output_type": "execute_result",
          "data": {
            "text/plain": [
              "0.28783349227610094"
            ]
          },
          "metadata": {
            "tags": []
          },
          "execution_count": 10
        }
      ]
    },
    {
      "metadata": {
        "id": "Y-yqFUJ1bIO7",
        "colab_type": "text"
      },
      "cell_type": "markdown",
      "source": [
        "QUESTION 3:Create a numpy array A of shape(10,20) and B of shape (20,25) using np.random. Print the matrix which is the matrix multiplication of A and B. The shape of the new matrix should be (10,25). Using basic numpy math functions only find the sum of all the elements of the new matrix."
      ]
    },
    {
      "metadata": {
        "id": "B31lEyHrbSzd",
        "colab_type": "code",
        "colab": {
          "base_uri": "https://localhost:8080/",
          "height": 867
        },
        "outputId": "59f9af00-cc5f-4588-c6f3-94dde2b96e9b"
      },
      "cell_type": "code",
      "source": [
        "A=np.random.rand(10,20)\n",
        "B=np.random.rand(20,25)\n",
        "C=np.dot(A,B)\n",
        "C"
      ],
      "execution_count": 12,
      "outputs": [
        {
          "output_type": "execute_result",
          "data": {
            "text/plain": [
              "array([[5.32868441, 3.97635463, 4.65441736, 4.8760592 , 5.70732381,\n",
              "        4.01949043, 3.52753764, 5.60057689, 4.45819074, 4.20055367,\n",
              "        4.48988719, 3.83343202, 4.21771444, 4.39071114, 4.59821579,\n",
              "        4.07743627, 4.41790584, 5.89738851, 3.61377668, 3.3853159 ,\n",
              "        3.82840515, 4.21721259, 3.93890669, 4.97540215, 5.33809937],\n",
              "       [7.16813043, 6.04280949, 6.09070146, 6.11042098, 7.57424105,\n",
              "        5.2573923 , 4.9340391 , 6.99607073, 4.98338272, 5.30524517,\n",
              "        6.45101526, 5.72841092, 6.52056669, 5.86077797, 6.13189905,\n",
              "        5.95598487, 4.91674534, 6.07436254, 4.84878016, 5.13268815,\n",
              "        4.96181097, 5.81522754, 5.41996579, 7.76302731, 6.33674947],\n",
              "       [5.29933454, 3.93991133, 4.5857469 , 4.46399006, 4.96268148,\n",
              "        3.86915444, 2.72088486, 4.33236045, 4.17490471, 4.45503783,\n",
              "        4.87119635, 3.98644169, 4.18600013, 4.22845491, 4.06123297,\n",
              "        4.19244076, 3.48925167, 4.78224041, 3.27971676, 3.21975361,\n",
              "        2.90869883, 4.20677318, 3.59703406, 5.09123573, 3.85787794],\n",
              "       [7.17146496, 5.60603407, 6.41834532, 5.93723572, 7.10857109,\n",
              "        4.50166953, 4.51933491, 7.00981765, 5.51393272, 5.90607012,\n",
              "        6.0345391 , 5.67271729, 5.89104388, 5.61922476, 6.22817713,\n",
              "        5.49408237, 5.54404265, 6.79860437, 4.37555276, 4.44605883,\n",
              "        5.07344251, 6.45792255, 4.86071167, 6.4942058 , 6.83293994],\n",
              "       [7.35329378, 5.31826274, 5.89178922, 6.3573313 , 7.07477548,\n",
              "        5.19728944, 4.26659472, 6.12877845, 5.85174134, 6.28115175,\n",
              "        5.98958755, 5.88854318, 5.85476018, 6.23992518, 5.9089504 ,\n",
              "        5.29151881, 5.63762143, 6.5991337 , 5.20969381, 5.1221125 ,\n",
              "        4.3980256 , 6.19118057, 5.19464473, 6.98895676, 6.04343373],\n",
              "       [5.53464357, 4.71262019, 4.47924818, 3.99191984, 5.57342324,\n",
              "        3.6394683 , 3.5585732 , 4.91725899, 3.9714559 , 4.09910273,\n",
              "        4.16576182, 3.96280947, 4.40194042, 4.58991401, 5.29847507,\n",
              "        4.05245407, 3.35970234, 4.52369248, 4.0218639 , 3.85960846,\n",
              "        3.38653202, 4.84623757, 3.51673784, 5.92974448, 4.40317861],\n",
              "       [5.44604877, 4.23991725, 4.71625455, 5.83806369, 5.91372891,\n",
              "        4.42519538, 3.84226091, 5.55536538, 4.61045284, 4.80209168,\n",
              "        4.80116176, 4.34222801, 4.67351668, 4.8352293 , 4.51258811,\n",
              "        4.37889964, 4.75056305, 5.6948526 , 4.0461985 , 4.08662041,\n",
              "        3.93838222, 4.48723979, 4.36883872, 5.72887824, 5.55130276],\n",
              "       [7.1815621 , 4.91286192, 5.80531131, 6.45621813, 7.10421118,\n",
              "        4.73313115, 4.65456593, 5.84826655, 4.93851248, 5.5117013 ,\n",
              "        6.03890857, 4.86864176, 6.16803162, 5.52436348, 6.04112755,\n",
              "        5.21234889, 5.45722691, 6.56722265, 4.68430265, 5.1568856 ,\n",
              "        4.21781593, 5.52921496, 5.42006415, 6.83008267, 5.55396572],\n",
              "       [5.44467864, 3.84005577, 4.78912306, 4.60538388, 4.71782655,\n",
              "        3.63683593, 3.43313924, 4.19025567, 4.11878819, 4.37542838,\n",
              "        5.40090547, 4.66651695, 4.7197062 , 4.58498461, 4.05292189,\n",
              "        4.56690925, 3.62670376, 4.48115022, 3.08094178, 3.2654554 ,\n",
              "        3.34471927, 4.54241552, 3.47688335, 5.16658358, 4.19797407],\n",
              "       [8.05852322, 6.72818439, 7.25536383, 7.47719436, 7.96517766,\n",
              "        5.83314728, 5.1139648 , 7.29654944, 6.30439685, 6.69032121,\n",
              "        7.94426382, 6.22003704, 6.87052941, 7.36249855, 6.77588809,\n",
              "        6.13585968, 5.63689706, 7.25309499, 5.45945835, 5.54859016,\n",
              "        5.25550642, 6.21896507, 6.36081048, 8.01170618, 6.75369301]])"
            ]
          },
          "metadata": {
            "tags": []
          },
          "execution_count": 12
        }
      ]
    },
    {
      "metadata": {
        "id": "_m0pQTphb3O7",
        "colab_type": "code",
        "colab": {
          "base_uri": "https://localhost:8080/",
          "height": 34
        },
        "outputId": "0046df75-af0e-4ebd-f954-f210fbd64959"
      },
      "cell_type": "code",
      "source": [
        "C.shape"
      ],
      "execution_count": 14,
      "outputs": [
        {
          "output_type": "execute_result",
          "data": {
            "text/plain": [
              "(10, 25)"
            ]
          },
          "metadata": {
            "tags": []
          },
          "execution_count": 14
        }
      ]
    },
    {
      "metadata": {
        "id": "x4M29x18b9pI",
        "colab_type": "code",
        "colab": {
          "base_uri": "https://localhost:8080/",
          "height": 34
        },
        "outputId": "5df74d7d-f50b-40de-eacc-98ed7df1db56"
      },
      "cell_type": "code",
      "source": [
        "C.sum()"
      ],
      "execution_count": 15,
      "outputs": [
        {
          "output_type": "execute_result",
          "data": {
            "text/plain": [
              "1296.1623366083902"
            ]
          },
          "metadata": {
            "tags": []
          },
          "execution_count": 15
        }
      ]
    },
    {
      "metadata": {
        "id": "zdadg7C2cvSQ",
        "colab_type": "text"
      },
      "cell_type": "markdown",
      "source": [
        "QUESTION 4:"
      ]
    },
    {
      "metadata": {
        "id": "dC9WToNrdY2n",
        "colab_type": "code",
        "colab": {
          "base_uri": "https://localhost:8080/",
          "height": 187
        },
        "outputId": "0592c9b1-356b-43ab-f013-5fe856fdeadb"
      },
      "cell_type": "code",
      "source": [
        "A=np.arange(1,11).reshape(10,1)\n",
        "B=np.array(1/(1+np.exp(-A)))\n",
        "B"
      ],
      "execution_count": 21,
      "outputs": [
        {
          "output_type": "execute_result",
          "data": {
            "text/plain": [
              "array([[0.73105858],\n",
              "       [0.88079708],\n",
              "       [0.95257413],\n",
              "       [0.98201379],\n",
              "       [0.99330715],\n",
              "       [0.99752738],\n",
              "       [0.99908895],\n",
              "       [0.99966465],\n",
              "       [0.99987661],\n",
              "       [0.9999546 ]])"
            ]
          },
          "metadata": {
            "tags": []
          },
          "execution_count": 21
        }
      ]
    }
  ]
}