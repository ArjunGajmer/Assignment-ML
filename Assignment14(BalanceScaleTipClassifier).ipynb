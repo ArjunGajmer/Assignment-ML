{
  "nbformat": 4,
  "nbformat_minor": 0,
  "metadata": {
    "colab": {
      "name": "Untitled15.ipynb",
      "version": "0.3.2",
      "provenance": [],
      "include_colab_link": true
    },
    "kernelspec": {
      "name": "python3",
      "display_name": "Python 3"
    }
  },
  "cells": [
    {
      "cell_type": "markdown",
      "metadata": {
        "id": "view-in-github",
        "colab_type": "text"
      },
      "source": [
        "[View in Colaboratory](https://colab.research.google.com/github/ArjunGajmer/Assignment-ML/blob/master/Assignment14(BalanceScaleTipClassifier).ipynb)"
      ]
    },
    {
      "metadata": {
        "id": "0Aoq9Htadgmv",
        "colab_type": "text"
      },
      "cell_type": "markdown",
      "source": [
        "#Balance Scale Tip Classifier\n",
        "\n",
        "The motto of the project is to classify the balance scale tip.The dataset is taken from [Balance Datasheet](http://archive.ics.uci.edu/ml/machine-learning-databases/balance-scale/balance-scale.data).\n",
        "We will use the concept of  **Decision Tree** and **Random froest Tree** classifier under the *Sckit-Learning* for the classification ."
      ]
    },
    {
      "metadata": {
        "id": "Lnule5QVb66X",
        "colab_type": "text"
      },
      "cell_type": "markdown",
      "source": [
        "## Data Description\n",
        "This data set was generated to model psychological\n",
        "\texperimental results.  Each example is classified as having the\n",
        "\tbalance scale tip to the right, tip to the left, or be\n",
        "\tbalanced.  The attributes are the ***left weight***, the ***left\n",
        "\tdistance*** , the ***right weight***, and the ***right distance***.  The\n",
        "\tcorrect way to find the class is the greater of \n",
        "\t(**left-distance * left-weight)** and **(right-distance *\n",
        "\tright-weight)**.  If they are equal, it is balanced.\n",
        "  \n",
        " **Number of Instances:** 625 (49 balanced, 288 left, 288 right)\n",
        " **Number of Attributes:** 4 (numeric) + class name = 5\n",
        " \n",
        " ## Attribute Information:\n",
        "\t1.Class Name: 3 (L, B, R)\n",
        "\t2.Left-Weight: 5 (1, 2, 3, 4, 5)\n",
        "\t3.Left-Distance: 5 (1, 2, 3, 4, 5)\n",
        "\t4.Right-Weight: 5 (1, 2, 3, 4, 5)\n",
        "\t5.Right-Distance: 5 (1, 2, 3, 4, 5)"
      ]
    },
    {
      "metadata": {
        "id": "rv3DWeIlGpMt",
        "colab_type": "code",
        "colab": {}
      },
      "cell_type": "code",
      "source": [
        "import pandas as pd\n",
        "import matplotlib.pyplot as plt\n",
        "import seaborn as sns"
      ],
      "execution_count": 0,
      "outputs": []
    },
    {
      "metadata": {
        "id": "2I5d6WIZezGq",
        "colab_type": "text"
      },
      "cell_type": "markdown",
      "source": [
        "### Importing dataSet"
      ]
    },
    {
      "metadata": {
        "id": "w0DGMYajGv6a",
        "colab_type": "code",
        "colab": {}
      },
      "cell_type": "code",
      "source": [
        "df=pd.read_csv('https://archive.ics.uci.edu/ml/machine-learning-databases/balance-scale/balance-scale.data',names=['Class','Left_weight','Left_distance','right_weight','right_distance'])\n"
      ],
      "execution_count": 0,
      "outputs": []
    },
    {
      "metadata": {
        "id": "fMvAJgX8EkQM",
        "colab_type": "code",
        "colab": {
          "base_uri": "https://localhost:8080/",
          "height": 238
        },
        "outputId": "ab342781-5ca0-4bae-cf12-0f45e782bcad"
      },
      "cell_type": "code",
      "source": [
        "print('First five rows\\n')\n",
        "df.head()"
      ],
      "execution_count": 109,
      "outputs": [
        {
          "output_type": "stream",
          "text": [
            "First five rows\n",
            "\n"
          ],
          "name": "stdout"
        },
        {
          "output_type": "execute_result",
          "data": {
            "text/html": [
              "<div>\n",
              "<style scoped>\n",
              "    .dataframe tbody tr th:only-of-type {\n",
              "        vertical-align: middle;\n",
              "    }\n",
              "\n",
              "    .dataframe tbody tr th {\n",
              "        vertical-align: top;\n",
              "    }\n",
              "\n",
              "    .dataframe thead th {\n",
              "        text-align: right;\n",
              "    }\n",
              "</style>\n",
              "<table border=\"1\" class=\"dataframe\">\n",
              "  <thead>\n",
              "    <tr style=\"text-align: right;\">\n",
              "      <th></th>\n",
              "      <th>Class</th>\n",
              "      <th>Left_weight</th>\n",
              "      <th>Left_distance</th>\n",
              "      <th>right_weight</th>\n",
              "      <th>right_distance</th>\n",
              "    </tr>\n",
              "  </thead>\n",
              "  <tbody>\n",
              "    <tr>\n",
              "      <th>0</th>\n",
              "      <td>B</td>\n",
              "      <td>1</td>\n",
              "      <td>1</td>\n",
              "      <td>1</td>\n",
              "      <td>1</td>\n",
              "    </tr>\n",
              "    <tr>\n",
              "      <th>1</th>\n",
              "      <td>R</td>\n",
              "      <td>1</td>\n",
              "      <td>1</td>\n",
              "      <td>1</td>\n",
              "      <td>2</td>\n",
              "    </tr>\n",
              "    <tr>\n",
              "      <th>2</th>\n",
              "      <td>R</td>\n",
              "      <td>1</td>\n",
              "      <td>1</td>\n",
              "      <td>1</td>\n",
              "      <td>3</td>\n",
              "    </tr>\n",
              "    <tr>\n",
              "      <th>3</th>\n",
              "      <td>R</td>\n",
              "      <td>1</td>\n",
              "      <td>1</td>\n",
              "      <td>1</td>\n",
              "      <td>4</td>\n",
              "    </tr>\n",
              "    <tr>\n",
              "      <th>4</th>\n",
              "      <td>R</td>\n",
              "      <td>1</td>\n",
              "      <td>1</td>\n",
              "      <td>1</td>\n",
              "      <td>5</td>\n",
              "    </tr>\n",
              "  </tbody>\n",
              "</table>\n",
              "</div>"
            ],
            "text/plain": [
              "  Class  Left_weight  Left_distance  right_weight  right_distance\n",
              "0     B            1              1             1               1\n",
              "1     R            1              1             1               2\n",
              "2     R            1              1             1               3\n",
              "3     R            1              1             1               4\n",
              "4     R            1              1             1               5"
            ]
          },
          "metadata": {
            "tags": []
          },
          "execution_count": 109
        }
      ]
    },
    {
      "metadata": {
        "id": "dJtQUGLHEzgR",
        "colab_type": "code",
        "colab": {
          "base_uri": "https://localhost:8080/",
          "height": 51
        },
        "outputId": "ce9fd7bd-ed47-4b4a-9261-475f51336e23"
      },
      "cell_type": "code",
      "source": [
        "print('Shape of data')\n",
        "df.shape"
      ],
      "execution_count": 110,
      "outputs": [
        {
          "output_type": "stream",
          "text": [
            "Shape of data\n"
          ],
          "name": "stdout"
        },
        {
          "output_type": "execute_result",
          "data": {
            "text/plain": [
              "(625, 5)"
            ]
          },
          "metadata": {
            "tags": []
          },
          "execution_count": 110
        }
      ]
    },
    {
      "metadata": {
        "id": "iAcz4gtEE50J",
        "colab_type": "code",
        "colab": {
          "base_uri": "https://localhost:8080/",
          "height": 51
        },
        "outputId": "2b255bfc-2867-4136-eaf8-7a09f1285f3e"
      },
      "cell_type": "code",
      "source": [
        "print('Size of data')\n",
        "df.size"
      ],
      "execution_count": 111,
      "outputs": [
        {
          "output_type": "stream",
          "text": [
            "Size of data\n"
          ],
          "name": "stdout"
        },
        {
          "output_type": "execute_result",
          "data": {
            "text/plain": [
              "3125"
            ]
          },
          "metadata": {
            "tags": []
          },
          "execution_count": 111
        }
      ]
    },
    {
      "metadata": {
        "id": "DPxyvC9EE7Eh",
        "colab_type": "code",
        "colab": {
          "base_uri": "https://localhost:8080/",
          "height": 136
        },
        "outputId": "c3c7f1af-b4ae-4b78-fef1-8b3f1c5d1a4b"
      },
      "cell_type": "code",
      "source": [
        "print('Null check')\n",
        "df.isnull().sum()"
      ],
      "execution_count": 112,
      "outputs": [
        {
          "output_type": "stream",
          "text": [
            "Null check\n"
          ],
          "name": "stdout"
        },
        {
          "output_type": "execute_result",
          "data": {
            "text/plain": [
              "Class             0\n",
              "Left_weight       0\n",
              "Left_distance     0\n",
              "right_weight      0\n",
              "right_distance    0\n",
              "dtype: int64"
            ]
          },
          "metadata": {
            "tags": []
          },
          "execution_count": 112
        }
      ]
    },
    {
      "metadata": {
        "id": "6_O8yegUfd2E",
        "colab_type": "text"
      },
      "cell_type": "markdown",
      "source": [
        "We don't have any missing values here ."
      ]
    },
    {
      "metadata": {
        "id": "XK__DH5GfroP",
        "colab_type": "code",
        "colab": {
          "base_uri": "https://localhost:8080/",
          "height": 314
        },
        "outputId": "921e7a50-0fb7-422b-c347-1b18289a9a64"
      },
      "cell_type": "code",
      "source": [
        "print(\"Statistical Description of data\")\n",
        "df.describe()"
      ],
      "execution_count": 113,
      "outputs": [
        {
          "output_type": "stream",
          "text": [
            "Statistical Description of data\n"
          ],
          "name": "stdout"
        },
        {
          "output_type": "execute_result",
          "data": {
            "text/html": [
              "<div>\n",
              "<style scoped>\n",
              "    .dataframe tbody tr th:only-of-type {\n",
              "        vertical-align: middle;\n",
              "    }\n",
              "\n",
              "    .dataframe tbody tr th {\n",
              "        vertical-align: top;\n",
              "    }\n",
              "\n",
              "    .dataframe thead th {\n",
              "        text-align: right;\n",
              "    }\n",
              "</style>\n",
              "<table border=\"1\" class=\"dataframe\">\n",
              "  <thead>\n",
              "    <tr style=\"text-align: right;\">\n",
              "      <th></th>\n",
              "      <th>Left_weight</th>\n",
              "      <th>Left_distance</th>\n",
              "      <th>right_weight</th>\n",
              "      <th>right_distance</th>\n",
              "    </tr>\n",
              "  </thead>\n",
              "  <tbody>\n",
              "    <tr>\n",
              "      <th>count</th>\n",
              "      <td>625.000000</td>\n",
              "      <td>625.000000</td>\n",
              "      <td>625.000000</td>\n",
              "      <td>625.000000</td>\n",
              "    </tr>\n",
              "    <tr>\n",
              "      <th>mean</th>\n",
              "      <td>3.000000</td>\n",
              "      <td>3.000000</td>\n",
              "      <td>3.000000</td>\n",
              "      <td>3.000000</td>\n",
              "    </tr>\n",
              "    <tr>\n",
              "      <th>std</th>\n",
              "      <td>1.415346</td>\n",
              "      <td>1.415346</td>\n",
              "      <td>1.415346</td>\n",
              "      <td>1.415346</td>\n",
              "    </tr>\n",
              "    <tr>\n",
              "      <th>min</th>\n",
              "      <td>1.000000</td>\n",
              "      <td>1.000000</td>\n",
              "      <td>1.000000</td>\n",
              "      <td>1.000000</td>\n",
              "    </tr>\n",
              "    <tr>\n",
              "      <th>25%</th>\n",
              "      <td>2.000000</td>\n",
              "      <td>2.000000</td>\n",
              "      <td>2.000000</td>\n",
              "      <td>2.000000</td>\n",
              "    </tr>\n",
              "    <tr>\n",
              "      <th>50%</th>\n",
              "      <td>3.000000</td>\n",
              "      <td>3.000000</td>\n",
              "      <td>3.000000</td>\n",
              "      <td>3.000000</td>\n",
              "    </tr>\n",
              "    <tr>\n",
              "      <th>75%</th>\n",
              "      <td>4.000000</td>\n",
              "      <td>4.000000</td>\n",
              "      <td>4.000000</td>\n",
              "      <td>4.000000</td>\n",
              "    </tr>\n",
              "    <tr>\n",
              "      <th>max</th>\n",
              "      <td>5.000000</td>\n",
              "      <td>5.000000</td>\n",
              "      <td>5.000000</td>\n",
              "      <td>5.000000</td>\n",
              "    </tr>\n",
              "  </tbody>\n",
              "</table>\n",
              "</div>"
            ],
            "text/plain": [
              "       Left_weight  Left_distance  right_weight  right_distance\n",
              "count   625.000000     625.000000    625.000000      625.000000\n",
              "mean      3.000000       3.000000      3.000000        3.000000\n",
              "std       1.415346       1.415346      1.415346        1.415346\n",
              "min       1.000000       1.000000      1.000000        1.000000\n",
              "25%       2.000000       2.000000      2.000000        2.000000\n",
              "50%       3.000000       3.000000      3.000000        3.000000\n",
              "75%       4.000000       4.000000      4.000000        4.000000\n",
              "max       5.000000       5.000000      5.000000        5.000000"
            ]
          },
          "metadata": {
            "tags": []
          },
          "execution_count": 113
        }
      ]
    },
    {
      "metadata": {
        "id": "-JNWSsteE9VS",
        "colab_type": "code",
        "colab": {
          "base_uri": "https://localhost:8080/",
          "height": 221
        },
        "outputId": "dd0c66db-86db-40ee-c3e5-4606d129bab0"
      },
      "cell_type": "code",
      "source": [
        "print('Grouping the data on the basis of class')\n",
        "dfg=df.groupby(by='Class').agg(['mean'])\n",
        "dfg['Count']=df.groupby(by='Class')['Left_weight'].agg(['count'])\n",
        "dfg.head()"
      ],
      "execution_count": 114,
      "outputs": [
        {
          "output_type": "stream",
          "text": [
            "Grouping the data on the basis of class\n"
          ],
          "name": "stdout"
        },
        {
          "output_type": "execute_result",
          "data": {
            "text/html": [
              "<div>\n",
              "<style scoped>\n",
              "    .dataframe tbody tr th:only-of-type {\n",
              "        vertical-align: middle;\n",
              "    }\n",
              "\n",
              "    .dataframe tbody tr th {\n",
              "        vertical-align: top;\n",
              "    }\n",
              "\n",
              "    .dataframe thead tr th {\n",
              "        text-align: left;\n",
              "    }\n",
              "\n",
              "    .dataframe thead tr:last-of-type th {\n",
              "        text-align: right;\n",
              "    }\n",
              "</style>\n",
              "<table border=\"1\" class=\"dataframe\">\n",
              "  <thead>\n",
              "    <tr>\n",
              "      <th></th>\n",
              "      <th>Left_weight</th>\n",
              "      <th>Left_distance</th>\n",
              "      <th>right_weight</th>\n",
              "      <th>right_distance</th>\n",
              "      <th>Count</th>\n",
              "    </tr>\n",
              "    <tr>\n",
              "      <th></th>\n",
              "      <th>mean</th>\n",
              "      <th>mean</th>\n",
              "      <th>mean</th>\n",
              "      <th>mean</th>\n",
              "      <th></th>\n",
              "    </tr>\n",
              "    <tr>\n",
              "      <th>Class</th>\n",
              "      <th></th>\n",
              "      <th></th>\n",
              "      <th></th>\n",
              "      <th></th>\n",
              "      <th></th>\n",
              "    </tr>\n",
              "  </thead>\n",
              "  <tbody>\n",
              "    <tr>\n",
              "      <th>B</th>\n",
              "      <td>2.938776</td>\n",
              "      <td>2.938776</td>\n",
              "      <td>2.938776</td>\n",
              "      <td>2.938776</td>\n",
              "      <td>49</td>\n",
              "    </tr>\n",
              "    <tr>\n",
              "      <th>L</th>\n",
              "      <td>3.611111</td>\n",
              "      <td>3.611111</td>\n",
              "      <td>2.399306</td>\n",
              "      <td>2.399306</td>\n",
              "      <td>288</td>\n",
              "    </tr>\n",
              "    <tr>\n",
              "      <th>R</th>\n",
              "      <td>2.399306</td>\n",
              "      <td>2.399306</td>\n",
              "      <td>3.611111</td>\n",
              "      <td>3.611111</td>\n",
              "      <td>288</td>\n",
              "    </tr>\n",
              "  </tbody>\n",
              "</table>\n",
              "</div>"
            ],
            "text/plain": [
              "      Left_weight Left_distance right_weight right_distance Count\n",
              "             mean          mean         mean           mean      \n",
              "Class                                                            \n",
              "B        2.938776      2.938776     2.938776       2.938776    49\n",
              "L        3.611111      3.611111     2.399306       2.399306   288\n",
              "R        2.399306      2.399306     3.611111       3.611111   288"
            ]
          },
          "metadata": {
            "tags": []
          },
          "execution_count": 114
        }
      ]
    },
    {
      "metadata": {
        "id": "zj1QLZuiGtn8",
        "colab_type": "code",
        "colab": {
          "base_uri": "https://localhost:8080/",
          "height": 373
        },
        "outputId": "f5817b1d-3196-4fc7-fd8d-55de267b96d3"
      },
      "cell_type": "code",
      "source": [
        "dfg['Count'].plot(kind='bar')\n",
        "plt.ylabel('Count')\n",
        "plt.title('Count Vs Class')\n",
        "sns.despine()"
      ],
      "execution_count": 115,
      "outputs": [
        {
          "output_type": "display_data",
          "data": {
            "image/png": "[encoded data removed]",
            "text/plain": [
              "<matplotlib.figure.Figure at 0x7fa83c2f3668>"
            ]
          },
          "metadata": {
            "tags": []
          }
        }
      ]
    },
    {
      "metadata": {
        "id": "ybXaxrs5r4Fj",
        "colab_type": "text"
      },
      "cell_type": "markdown",
      "source": [
        "We can see that the balanced tips are much lesser than the left and right tips."
      ]
    },
    {
      "metadata": {
        "id": "EgncW8PWhodE",
        "colab_type": "text"
      },
      "cell_type": "markdown",
      "source": [
        "### Data Preprocessing"
      ]
    },
    {
      "metadata": {
        "id": "qN_AuZSiiKoo",
        "colab_type": "text"
      },
      "cell_type": "markdown",
      "source": [
        "Preparing Attributes"
      ]
    },
    {
      "metadata": {
        "id": "ag-VU_f9HlBB",
        "colab_type": "code",
        "colab": {}
      },
      "cell_type": "code",
      "source": [
        "\n",
        "X=df.drop(['Class'],axis=1)"
      ],
      "execution_count": 0,
      "outputs": []
    },
    {
      "metadata": {
        "id": "pcgxFULfiPS9",
        "colab_type": "text"
      },
      "cell_type": "markdown",
      "source": [
        "Preparing labels"
      ]
    },
    {
      "metadata": {
        "id": "Ad9uycQHPey-",
        "colab_type": "code",
        "colab": {}
      },
      "cell_type": "code",
      "source": [
        "Y=df.Class"
      ],
      "execution_count": 0,
      "outputs": []
    },
    {
      "metadata": {
        "id": "reEO3ikbiTSp",
        "colab_type": "text"
      },
      "cell_type": "markdown",
      "source": [
        "### Splitting dataset into training and testing set"
      ]
    },
    {
      "metadata": {
        "id": "-BdpzZ8SPmeg",
        "colab_type": "code",
        "colab": {}
      },
      "cell_type": "code",
      "source": [
        "from sklearn.cross_validation import train_test_split"
      ],
      "execution_count": 0,
      "outputs": []
    },
    {
      "metadata": {
        "id": "rLdOUoIuPuM-",
        "colab_type": "code",
        "colab": {}
      },
      "cell_type": "code",
      "source": [
        "x_train,x_test,y_train,y_test=train_test_split(X,Y,test_size=.2)"
      ],
      "execution_count": 0,
      "outputs": []
    },
    {
      "metadata": {
        "id": "KsRR6I_ximvS",
        "colab_type": "text"
      },
      "cell_type": "markdown",
      "source": [
        "### Building and training dataset using  Decision Tree model"
      ]
    },
    {
      "metadata": {
        "id": "oa_KnqVLjBNM",
        "colab_type": "text"
      },
      "cell_type": "markdown",
      "source": [
        "### gini index criterion"
      ]
    },
    {
      "metadata": {
        "id": "6_fPelAdP4mX",
        "colab_type": "code",
        "colab": {}
      },
      "cell_type": "code",
      "source": [
        "from sklearn.tree import * "
      ],
      "execution_count": 0,
      "outputs": []
    },
    {
      "metadata": {
        "id": "yobFVjZgQQvD",
        "colab_type": "code",
        "colab": {}
      },
      "cell_type": "code",
      "source": [
        "gini_criterion=DecisionTreeClassifier(criterion='gini')"
      ],
      "execution_count": 0,
      "outputs": []
    },
    {
      "metadata": {
        "id": "KTpUYZHYjNtr",
        "colab_type": "text"
      },
      "cell_type": "markdown",
      "source": [
        "**Training**"
      ]
    },
    {
      "metadata": {
        "id": "Gx-PDmELQrZb",
        "colab_type": "code",
        "colab": {
          "base_uri": "https://localhost:8080/",
          "height": 119
        },
        "outputId": "fe8b9202-39f8-475c-c3c7-72be17c047fe"
      },
      "cell_type": "code",
      "source": [
        "gini_criterion.fit(x_train,y_train)"
      ],
      "execution_count": 122,
      "outputs": [
        {
          "output_type": "execute_result",
          "data": {
            "text/plain": [
              "DecisionTreeClassifier(class_weight=None, criterion='gini', max_depth=None,\n",
              "            max_features=None, max_leaf_nodes=None,\n",
              "            min_impurity_decrease=0.0, min_impurity_split=None,\n",
              "            min_samples_leaf=1, min_samples_split=2,\n",
              "            min_weight_fraction_leaf=0.0, presort=False, random_state=None,\n",
              "            splitter='best')"
            ]
          },
          "metadata": {
            "tags": []
          },
          "execution_count": 122
        }
      ]
    },
    {
      "metadata": {
        "id": "GTlBaEt7jUsO",
        "colab_type": "text"
      },
      "cell_type": "markdown",
      "source": [
        "**Prediction**"
      ]
    },
    {
      "metadata": {
        "id": "gOL6mAmNQ0r3",
        "colab_type": "code",
        "colab": {}
      },
      "cell_type": "code",
      "source": [
        "gini_criterion_predict=gini_criterion.predict(x_test)"
      ],
      "execution_count": 0,
      "outputs": []
    },
    {
      "metadata": {
        "id": "Ok9AOv06jYr7",
        "colab_type": "text"
      },
      "cell_type": "markdown",
      "source": [
        "**Score**"
      ]
    },
    {
      "metadata": {
        "id": "rTs2Za__RBLR",
        "colab_type": "code",
        "colab": {
          "base_uri": "https://localhost:8080/",
          "height": 34
        },
        "outputId": "c9d084f8-9f54-4676-9979-820863810c37"
      },
      "cell_type": "code",
      "source": [
        "gd=gini_criterion.score(x_test,y_test)\n",
        "gd"
      ],
      "execution_count": 149,
      "outputs": [
        {
          "output_type": "execute_result",
          "data": {
            "text/plain": [
              "0.816"
            ]
          },
          "metadata": {
            "tags": []
          },
          "execution_count": 149
        }
      ]
    },
    {
      "metadata": {
        "id": "1hxzrperRCWY",
        "colab_type": "code",
        "colab": {}
      },
      "cell_type": "code",
      "source": [
        "import sklearn.metrics as met"
      ],
      "execution_count": 0,
      "outputs": []
    },
    {
      "metadata": {
        "id": "lQ5Y1edmjfIt",
        "colab_type": "text"
      },
      "cell_type": "markdown",
      "source": [
        "**Confusion Matrix**"
      ]
    },
    {
      "metadata": {
        "id": "yw-EsfFPRd20",
        "colab_type": "code",
        "colab": {
          "base_uri": "https://localhost:8080/",
          "height": 68
        },
        "outputId": "5ead090c-d2b0-498e-80cf-765ed7b47090"
      },
      "cell_type": "code",
      "source": [
        "print(met.confusion_matrix(y_test,gini_criterion_predict))"
      ],
      "execution_count": 126,
      "outputs": [
        {
          "output_type": "stream",
          "text": [
            "[[ 0  3  2]\n",
            " [ 8 44  2]\n",
            " [ 4  4 58]]\n"
          ],
          "name": "stdout"
        }
      ]
    },
    {
      "metadata": {
        "id": "TggSm4uRjjFM",
        "colab_type": "text"
      },
      "cell_type": "markdown",
      "source": [
        "**Classification Report**"
      ]
    },
    {
      "metadata": {
        "id": "NE_Rr5C1RlCX",
        "colab_type": "code",
        "colab": {
          "base_uri": "https://localhost:8080/",
          "height": 153
        },
        "outputId": "66bdf3f2-fa14-4d7c-bed1-c3c5acb66d86"
      },
      "cell_type": "code",
      "source": [
        "print(met.classification_report(y_test,gini_criterion_predict))"
      ],
      "execution_count": 127,
      "outputs": [
        {
          "output_type": "stream",
          "text": [
            "             precision    recall  f1-score   support\n",
            "\n",
            "          B       0.00      0.00      0.00         5\n",
            "          L       0.86      0.81      0.84        54\n",
            "          R       0.94      0.88      0.91        66\n",
            "\n",
            "avg / total       0.87      0.82      0.84       125\n",
            "\n"
          ],
          "name": "stdout"
        }
      ]
    },
    {
      "metadata": {
        "id": "1lC-1vIFjx8g",
        "colab_type": "text"
      },
      "cell_type": "markdown",
      "source": [
        "### **entropy criterion**"
      ]
    },
    {
      "metadata": {
        "id": "Vt7E4Y2ATf27",
        "colab_type": "code",
        "colab": {}
      },
      "cell_type": "code",
      "source": [
        "entropy_criterion=DecisionTreeClassifier(criterion='entropy')"
      ],
      "execution_count": 0,
      "outputs": []
    },
    {
      "metadata": {
        "id": "zsYAAqW_j3fK",
        "colab_type": "text"
      },
      "cell_type": "markdown",
      "source": [
        "**Training**"
      ]
    },
    {
      "metadata": {
        "id": "paaCo8NnTwI4",
        "colab_type": "code",
        "colab": {
          "base_uri": "https://localhost:8080/",
          "height": 119
        },
        "outputId": "6f12a610-f496-4356-8b9c-bc2288b57381"
      },
      "cell_type": "code",
      "source": [
        "  entropy_criterion.fit(x_train,y_train)"
      ],
      "execution_count": 129,
      "outputs": [
        {
          "output_type": "execute_result",
          "data": {
            "text/plain": [
              "DecisionTreeClassifier(class_weight=None, criterion='entropy', max_depth=None,\n",
              "            max_features=None, max_leaf_nodes=None,\n",
              "            min_impurity_decrease=0.0, min_impurity_split=None,\n",
              "            min_samples_leaf=1, min_samples_split=2,\n",
              "            min_weight_fraction_leaf=0.0, presort=False, random_state=None,\n",
              "            splitter='best')"
            ]
          },
          "metadata": {
            "tags": []
          },
          "execution_count": 129
        }
      ]
    },
    {
      "metadata": {
        "id": "W36om5E6j6uD",
        "colab_type": "text"
      },
      "cell_type": "markdown",
      "source": [
        "**Prediction**"
      ]
    },
    {
      "metadata": {
        "id": "cmGN-dNqT4Tk",
        "colab_type": "code",
        "colab": {}
      },
      "cell_type": "code",
      "source": [
        "entropy_criterion_predict=entropy_criterion.predict(x_test)"
      ],
      "execution_count": 0,
      "outputs": []
    },
    {
      "metadata": {
        "id": "FDi1wd95kATc",
        "colab_type": "text"
      },
      "cell_type": "markdown",
      "source": [
        "**Score**"
      ]
    },
    {
      "metadata": {
        "id": "JHA7ktHCT_ct",
        "colab_type": "code",
        "colab": {
          "base_uri": "https://localhost:8080/",
          "height": 34
        },
        "outputId": "17d57911-9707-407f-8830-f4d4c4943f1c"
      },
      "cell_type": "code",
      "source": [
        "  ed=entropy_criterion.score(x_test,y_test)\n",
        "  ed"
      ],
      "execution_count": 150,
      "outputs": [
        {
          "output_type": "execute_result",
          "data": {
            "text/plain": [
              "0.824"
            ]
          },
          "metadata": {
            "tags": []
          },
          "execution_count": 150
        }
      ]
    },
    {
      "metadata": {
        "id": "nH8cUuerkRnO",
        "colab_type": "text"
      },
      "cell_type": "markdown",
      "source": [
        "**Classification Report**"
      ]
    },
    {
      "metadata": {
        "id": "6UCVKGGNUFqZ",
        "colab_type": "code",
        "colab": {
          "base_uri": "https://localhost:8080/",
          "height": 153
        },
        "outputId": "a9f96bd0-8677-45c0-f28c-a192838ef231"
      },
      "cell_type": "code",
      "source": [
        "print(met.classification_report(y_test,entropy_criterion_predict))"
      ],
      "execution_count": 132,
      "outputs": [
        {
          "output_type": "stream",
          "text": [
            "             precision    recall  f1-score   support\n",
            "\n",
            "          B       0.00      0.00      0.00         5\n",
            "          L       0.88      0.81      0.85        54\n",
            "          R       0.94      0.89      0.91        66\n",
            "\n",
            "avg / total       0.87      0.82      0.85       125\n",
            "\n"
          ],
          "name": "stdout"
        }
      ]
    },
    {
      "metadata": {
        "id": "CR58JpnxkWvR",
        "colab_type": "text"
      },
      "cell_type": "markdown",
      "source": [
        "**Confusion Matrix**"
      ]
    },
    {
      "metadata": {
        "id": "JS7hwMYnUTOO",
        "colab_type": "code",
        "colab": {
          "base_uri": "https://localhost:8080/",
          "height": 68
        },
        "outputId": "84fde6e8-38f8-430e-87f4-ba92cc10ad46"
      },
      "cell_type": "code",
      "source": [
        "print(met.confusion_matrix(y_test,entropy_criterion_predict))"
      ],
      "execution_count": 133,
      "outputs": [
        {
          "output_type": "stream",
          "text": [
            "[[ 0  3  2]\n",
            " [ 8 44  2]\n",
            " [ 4  3 59]]\n"
          ],
          "name": "stdout"
        }
      ]
    },
    {
      "metadata": {
        "id": "5OZErNCTkaQw",
        "colab_type": "text"
      },
      "cell_type": "markdown",
      "source": [
        "## Building and training dataset using Random Forest model"
      ]
    },
    {
      "metadata": {
        "id": "J75wp_ziU964",
        "colab_type": "code",
        "colab": {}
      },
      "cell_type": "code",
      "source": [
        "from sklearn.ensemble import RandomForestClassifier"
      ],
      "execution_count": 0,
      "outputs": []
    },
    {
      "metadata": {
        "id": "j4pENbX4ktR3",
        "colab_type": "text"
      },
      "cell_type": "markdown",
      "source": [
        "### gini criterion"
      ]
    },
    {
      "metadata": {
        "id": "ITRhBk1fUaRm",
        "colab_type": "code",
        "colab": {}
      },
      "cell_type": "code",
      "source": [
        "gini_forest=RandomForestClassifier(criterion='gini')"
      ],
      "execution_count": 0,
      "outputs": []
    },
    {
      "metadata": {
        "id": "aJtigxVzk0Or",
        "colab_type": "text"
      },
      "cell_type": "markdown",
      "source": [
        "**Training**"
      ]
    },
    {
      "metadata": {
        "id": "s7Nv5pu_U4E3",
        "colab_type": "code",
        "colab": {
          "base_uri": "https://localhost:8080/",
          "height": 136
        },
        "outputId": "7db462fb-445f-4fd3-a2ab-576749e81bd5"
      },
      "cell_type": "code",
      "source": [
        "gini_forest.fit(x_train,y_train)"
      ],
      "execution_count": 136,
      "outputs": [
        {
          "output_type": "execute_result",
          "data": {
            "text/plain": [
              "RandomForestClassifier(bootstrap=True, class_weight=None, criterion='gini',\n",
              "            max_depth=None, max_features='auto', max_leaf_nodes=None,\n",
              "            min_impurity_decrease=0.0, min_impurity_split=None,\n",
              "            min_samples_leaf=1, min_samples_split=2,\n",
              "            min_weight_fraction_leaf=0.0, n_estimators=10, n_jobs=1,\n",
              "            oob_score=False, random_state=None, verbose=0,\n",
              "            warm_start=False)"
            ]
          },
          "metadata": {
            "tags": []
          },
          "execution_count": 136
        }
      ]
    },
    {
      "metadata": {
        "id": "9kWwTtNEk6nk",
        "colab_type": "text"
      },
      "cell_type": "markdown",
      "source": [
        "**Prediction**"
      ]
    },
    {
      "metadata": {
        "id": "A1cZwMA4VOX2",
        "colab_type": "code",
        "colab": {}
      },
      "cell_type": "code",
      "source": [
        "gini_forest_predict=gini_forest.predict(x_test)"
      ],
      "execution_count": 0,
      "outputs": []
    },
    {
      "metadata": {
        "id": "fgcedgihk99z",
        "colab_type": "text"
      },
      "cell_type": "markdown",
      "source": [
        "**Score**"
      ]
    },
    {
      "metadata": {
        "id": "98t7T-fVVXMo",
        "colab_type": "code",
        "colab": {
          "base_uri": "https://localhost:8080/",
          "height": 34
        },
        "outputId": "56119375-c32e-4a7d-cf44-b9a656697fa1"
      },
      "cell_type": "code",
      "source": [
        "gf=gini_forest.score(x_test,y_test)\n",
        "gf"
      ],
      "execution_count": 151,
      "outputs": [
        {
          "output_type": "execute_result",
          "data": {
            "text/plain": [
              "0.816"
            ]
          },
          "metadata": {
            "tags": []
          },
          "execution_count": 151
        }
      ]
    },
    {
      "metadata": {
        "id": "4_kaSocClEf2",
        "colab_type": "text"
      },
      "cell_type": "markdown",
      "source": [
        "**Classficiation report**"
      ]
    },
    {
      "metadata": {
        "id": "8MVXNu0MVgbz",
        "colab_type": "code",
        "colab": {
          "base_uri": "https://localhost:8080/",
          "height": 153
        },
        "outputId": "23daa6d8-7940-4627-8751-8ac7ab840ed1"
      },
      "cell_type": "code",
      "source": [
        "print(met.classification_report(y_test,gini_forest_predict))"
      ],
      "execution_count": 139,
      "outputs": [
        {
          "output_type": "stream",
          "text": [
            "             precision    recall  f1-score   support\n",
            "\n",
            "          B       0.00      0.00      0.00         5\n",
            "          L       0.87      0.85      0.86        54\n",
            "          R       0.93      0.85      0.89        66\n",
            "\n",
            "avg / total       0.87      0.82      0.84       125\n",
            "\n"
          ],
          "name": "stdout"
        }
      ]
    },
    {
      "metadata": {
        "id": "Ob1hpohkb44b",
        "colab_type": "text"
      },
      "cell_type": "markdown",
      "source": [
        "**Confusion Matrix**"
      ]
    },
    {
      "metadata": {
        "id": "BgmaeMnIVmmw",
        "colab_type": "code",
        "colab": {
          "base_uri": "https://localhost:8080/",
          "height": 68
        },
        "outputId": "fa28bd56-150e-4b52-f2b9-ce4ccd00c505"
      },
      "cell_type": "code",
      "source": [
        "print(met.confusion_matrix(y_test,gini_forest_predict))"
      ],
      "execution_count": 140,
      "outputs": [
        {
          "output_type": "stream",
          "text": [
            "[[ 0  4  1]\n",
            " [ 5 46  3]\n",
            " [ 7  3 56]]\n"
          ],
          "name": "stdout"
        }
      ]
    },
    {
      "metadata": {
        "id": "KHKsaZ0xlSoY",
        "colab_type": "text"
      },
      "cell_type": "markdown",
      "source": [
        "### entropy criterion"
      ]
    },
    {
      "metadata": {
        "id": "puDXBJwDVsdm",
        "colab_type": "code",
        "colab": {}
      },
      "cell_type": "code",
      "source": [
        "entropy_forest=RandomForestClassifier(criterion='entropy')"
      ],
      "execution_count": 0,
      "outputs": []
    },
    {
      "metadata": {
        "id": "ErAx-G_HlaGf",
        "colab_type": "text"
      },
      "cell_type": "markdown",
      "source": [
        "**Training**"
      ]
    },
    {
      "metadata": {
        "id": "ovNxZ1l6XZQY",
        "colab_type": "code",
        "colab": {
          "base_uri": "https://localhost:8080/",
          "height": 136
        },
        "outputId": "c9efe44b-1633-4392-eaa8-42ed1ba3270a"
      },
      "cell_type": "code",
      "source": [
        "entropy_forest.fit(x_train,y_train)"
      ],
      "execution_count": 142,
      "outputs": [
        {
          "output_type": "execute_result",
          "data": {
            "text/plain": [
              "RandomForestClassifier(bootstrap=True, class_weight=None, criterion='entropy',\n",
              "            max_depth=None, max_features='auto', max_leaf_nodes=None,\n",
              "            min_impurity_decrease=0.0, min_impurity_split=None,\n",
              "            min_samples_leaf=1, min_samples_split=2,\n",
              "            min_weight_fraction_leaf=0.0, n_estimators=10, n_jobs=1,\n",
              "            oob_score=False, random_state=None, verbose=0,\n",
              "            warm_start=False)"
            ]
          },
          "metadata": {
            "tags": []
          },
          "execution_count": 142
        }
      ]
    },
    {
      "metadata": {
        "id": "kXnD2VAUleYK",
        "colab_type": "text"
      },
      "cell_type": "markdown",
      "source": [
        "**Prediction**"
      ]
    },
    {
      "metadata": {
        "id": "Off_F4oLXdQ3",
        "colab_type": "code",
        "colab": {}
      },
      "cell_type": "code",
      "source": [
        "entropy_forest_predict=entropy_forest.predict(x_test)"
      ],
      "execution_count": 0,
      "outputs": []
    },
    {
      "metadata": {
        "id": "9cB8V_I8lhUs",
        "colab_type": "text"
      },
      "cell_type": "markdown",
      "source": [
        "**Score**"
      ]
    },
    {
      "metadata": {
        "id": "R9-eYUwtXi5r",
        "colab_type": "code",
        "colab": {
          "base_uri": "https://localhost:8080/",
          "height": 34
        },
        "outputId": "12bec9c6-6b34-4d57-d91f-d7d993ec703f"
      },
      "cell_type": "code",
      "source": [
        "ef=entropy_forest.score(x_test,y_test)\n",
        "ef"
      ],
      "execution_count": 152,
      "outputs": [
        {
          "output_type": "execute_result",
          "data": {
            "text/plain": [
              "0.848"
            ]
          },
          "metadata": {
            "tags": []
          },
          "execution_count": 152
        }
      ]
    },
    {
      "metadata": {
        "id": "nK2NCBToloQa",
        "colab_type": "text"
      },
      "cell_type": "markdown",
      "source": [
        "**Classification Report**"
      ]
    },
    {
      "metadata": {
        "id": "8IraAOR5XnRA",
        "colab_type": "code",
        "colab": {
          "base_uri": "https://localhost:8080/",
          "height": 153
        },
        "outputId": "21f0dc11-67b3-429a-f9da-04a77ab78348"
      },
      "cell_type": "code",
      "source": [
        "print(met.classification_report(y_test,entropy_forest_predict))"
      ],
      "execution_count": 145,
      "outputs": [
        {
          "output_type": "stream",
          "text": [
            "             precision    recall  f1-score   support\n",
            "\n",
            "          B       0.00      0.00      0.00         5\n",
            "          L       0.90      0.85      0.88        54\n",
            "          R       0.94      0.91      0.92        66\n",
            "\n",
            "avg / total       0.88      0.85      0.87       125\n",
            "\n"
          ],
          "name": "stdout"
        }
      ]
    },
    {
      "metadata": {
        "id": "0Nq0SM6nlttK",
        "colab_type": "text"
      },
      "cell_type": "markdown",
      "source": [
        "**Confusion Matrix**"
      ]
    },
    {
      "metadata": {
        "id": "LG9--WqPX2vd",
        "colab_type": "code",
        "colab": {
          "base_uri": "https://localhost:8080/",
          "height": 173
        },
        "outputId": "29ba7e2c-aa4e-4cab-99ed-f9850aaaf9cb"
      },
      "cell_type": "code",
      "source": [
        "\n",
        "pd.crosstab(y_test,entropy_forest_predict,rownames=['Actual'],colnames=['Predicted'])"
      ],
      "execution_count": 147,
      "outputs": [
        {
          "output_type": "execute_result",
          "data": {
            "text/html": [
              "<div>\n",
              "<style scoped>\n",
              "    .dataframe tbody tr th:only-of-type {\n",
              "        vertical-align: middle;\n",
              "    }\n",
              "\n",
              "    .dataframe tbody tr th {\n",
              "        vertical-align: top;\n",
              "    }\n",
              "\n",
              "    .dataframe thead th {\n",
              "        text-align: right;\n",
              "    }\n",
              "</style>\n",
              "<table border=\"1\" class=\"dataframe\">\n",
              "  <thead>\n",
              "    <tr style=\"text-align: right;\">\n",
              "      <th>Predicted</th>\n",
              "      <th>B</th>\n",
              "      <th>L</th>\n",
              "      <th>R</th>\n",
              "    </tr>\n",
              "    <tr>\n",
              "      <th>Actual</th>\n",
              "      <th></th>\n",
              "      <th></th>\n",
              "      <th></th>\n",
              "    </tr>\n",
              "  </thead>\n",
              "  <tbody>\n",
              "    <tr>\n",
              "      <th>B</th>\n",
              "      <td>0</td>\n",
              "      <td>3</td>\n",
              "      <td>2</td>\n",
              "    </tr>\n",
              "    <tr>\n",
              "      <th>L</th>\n",
              "      <td>6</td>\n",
              "      <td>46</td>\n",
              "      <td>2</td>\n",
              "    </tr>\n",
              "    <tr>\n",
              "      <th>R</th>\n",
              "      <td>4</td>\n",
              "      <td>2</td>\n",
              "      <td>60</td>\n",
              "    </tr>\n",
              "  </tbody>\n",
              "</table>\n",
              "</div>"
            ],
            "text/plain": [
              "Predicted  B   L   R\n",
              "Actual              \n",
              "B          0   3   2\n",
              "L          6  46   2\n",
              "R          4   2  60"
            ]
          },
          "metadata": {
            "tags": []
          },
          "execution_count": 147
        }
      ]
    },
    {
      "metadata": {
        "id": "2st0hfkTnxdX",
        "colab_type": "text"
      },
      "cell_type": "markdown",
      "source": [
        "## Comapring  all the scores"
      ]
    },
    {
      "metadata": {
        "id": "2BUR5mi3mzgS",
        "colab_type": "code",
        "colab": {}
      },
      "cell_type": "code",
      "source": [
        "compare=pd.DataFrame({'Model':['Decision_Tree_Gini_Crietrion','Decision_Tree_Entropy_Crietrion','Random_Forest_Gini_Criterion','Random_Forest_Entropy_Crieterion'],\n",
        "                      'Score':[gd,ed,gf,ef]})"
      ],
      "execution_count": 0,
      "outputs": []
    },
    {
      "metadata": {
        "id": "tY-twrVTpZ6Q",
        "colab_type": "code",
        "colab": {
          "base_uri": "https://localhost:8080/",
          "height": 173
        },
        "outputId": "a469f839-3f6b-483e-fd4d-3018eae09753"
      },
      "cell_type": "code",
      "source": [
        "compare"
      ],
      "execution_count": 167,
      "outputs": [
        {
          "output_type": "execute_result",
          "data": {
            "text/html": [
              "<div>\n",
              "<style scoped>\n",
              "    .dataframe tbody tr th:only-of-type {\n",
              "        vertical-align: middle;\n",
              "    }\n",
              "\n",
              "    .dataframe tbody tr th {\n",
              "        vertical-align: top;\n",
              "    }\n",
              "\n",
              "    .dataframe thead th {\n",
              "        text-align: right;\n",
              "    }\n",
              "</style>\n",
              "<table border=\"1\" class=\"dataframe\">\n",
              "  <thead>\n",
              "    <tr style=\"text-align: right;\">\n",
              "      <th></th>\n",
              "      <th>Model</th>\n",
              "      <th>Score</th>\n",
              "    </tr>\n",
              "  </thead>\n",
              "  <tbody>\n",
              "    <tr>\n",
              "      <th>0</th>\n",
              "      <td>Decision_Tree_Gini_Crietrion</td>\n",
              "      <td>0.816</td>\n",
              "    </tr>\n",
              "    <tr>\n",
              "      <th>1</th>\n",
              "      <td>Decision_Tree_Entropy_Crietrion</td>\n",
              "      <td>0.824</td>\n",
              "    </tr>\n",
              "    <tr>\n",
              "      <th>2</th>\n",
              "      <td>Random_Forest_Gini_Criterion</td>\n",
              "      <td>0.816</td>\n",
              "    </tr>\n",
              "    <tr>\n",
              "      <th>3</th>\n",
              "      <td>Random_Forest_Entropy_Crieterion</td>\n",
              "      <td>0.848</td>\n",
              "    </tr>\n",
              "  </tbody>\n",
              "</table>\n",
              "</div>"
            ],
            "text/plain": [
              "                              Model  Score\n",
              "0      Decision_Tree_Gini_Crietrion  0.816\n",
              "1   Decision_Tree_Entropy_Crietrion  0.824\n",
              "2      Random_Forest_Gini_Criterion  0.816\n",
              "3  Random_Forest_Entropy_Crieterion  0.848"
            ]
          },
          "metadata": {
            "tags": []
          },
          "execution_count": 167
        }
      ]
    },
    {
      "metadata": {
        "id": "NC1zCTvvqDHm",
        "colab_type": "code",
        "colab": {
          "base_uri": "https://localhost:8080/",
          "height": 330
        },
        "outputId": "4ca28ae8-cc71-4163-aa63-5bba4c582a9b"
      },
      "cell_type": "code",
      "source": [
        "plt.figure(figsize=(17,4))\n",
        "sns.barplot(x='Model',y='Score',data=compare)\n",
        "plt.show()\n",
        "sns.despine()"
      ],
      "execution_count": 168,
      "outputs": [
        {
          "output_type": "stream",
          "text": [
            "/usr/local/lib/python3.6/dist-packages/seaborn/categorical.py:1428: FutureWarning: remove_na is deprecated and is a private function. Do not use.\n",
            "  stat_data = remove_na(group_data)\n"
          ],
          "name": "stderr"
        },
        {
          "output_type": "display_data",
          "data": {
            "image/png": "[encoded data removed]",
            "text/plain": [
              "<matplotlib.figure.Figure at 0x7fa83b498390>"
            ]
          },
          "metadata": {
            "tags": []
          }
        },
        {
          "output_type": "display_data",
          "data": {
            "text/plain": [
              "<matplotlib.figure.Figure at 0x7fa83b498b70>"
            ]
          },
          "metadata": {
            "tags": []
          }
        }
      ]
    },
    {
      "metadata": {
        "id": "3Q9pIgM0rxp1",
        "colab_type": "text"
      },
      "cell_type": "markdown",
      "source": [
        "## Conclusion"
      ]
    },
    {
      "metadata": {
        "id": "wTons6a1q5yT",
        "colab_type": "text"
      },
      "cell_type": "markdown",
      "source": [
        "We can see that entropy based criterion is better than gini based criterion as it has better score in both random forest and decision tree. The score entropy criterion model  for random forest is more than entropy criterion of decision tree.The score of gini criterion for both model is same ."
      ]
    },
    {
      "metadata": {
        "id": "jGiMbLUpqSB5",
        "colab_type": "code",
        "colab": {}
      },
      "cell_type": "code",
      "source": [
        ""
      ],
      "execution_count": 0,
      "outputs": []
    }
  ]
}