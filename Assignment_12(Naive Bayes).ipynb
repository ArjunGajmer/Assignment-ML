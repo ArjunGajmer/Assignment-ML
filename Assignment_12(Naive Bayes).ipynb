{
  "nbformat": 4,
  "nbformat_minor": 0,
  "metadata": {
    "colab": {
      "name": "Untitled13.ipynb",
      "version": "0.3.2",
      "provenance": []
    },
    "kernelspec": {
      "name": "python3",
      "display_name": "Python 3"
    }
  },
  "cells": [
    {
      "cell_type": "markdown",
      "metadata": {
        "id": "view-in-github",
        "colab_type": "text"
      },
      "source": [
        "[View in Colaboratory](https://colab.research.google.com/github/ArjunGajmer/Assignment-ML/blob/master/Assignment_12(Naive%20Bayes).ipynb)"
      ]
    },
    {
      "metadata": {
        "id": "zTApa4Mp1IqM",
        "colab_type": "text"
      },
      "cell_type": "markdown",
      "source": [
        "# NAIVE BAYES \n",
        "\n",
        "\n",
        "\n",
        "\n",
        "\n",
        "\n"
      ]
    },
    {
      "metadata": {
        "id": "kSdZGMub1PDW",
        "colab_type": "text"
      },
      "cell_type": "markdown",
      "source": [
        "Q.1- What is the probability of a person playing when the weather is sunny? Find P(Yes|Sunny).\n",
        "\n",
        "\n"
      ]
    },
    {
      "metadata": {
        "id": "qlHTizCF1DXl",
        "colab_type": "code",
        "colab": {}
      },
      "cell_type": "code",
      "source": [
        "import pandas as pd"
      ],
      "execution_count": 0,
      "outputs": []
    },
    {
      "metadata": {
        "id": "VtxHmU-X1VY7",
        "colab_type": "code",
        "colab": {
          "base_uri": "https://localhost:8080/",
          "height": 142
        },
        "outputId": "9071c197-8be9-411a-ad2a-2d86461f6abc"
      },
      "cell_type": "code",
      "source": [
        "dic={'Sunny':(3,2),'Overcast':(4,0),'Rainy':(2,3)}\n",
        "df=pd.DataFrame(dic,index=[u'Yes',u'No'])\n",
        "df.T"
      ],
      "execution_count": 91,
      "outputs": [
        {
          "output_type": "execute_result",
          "data": {
            "text/html": [
              "<div>\n",
              "<style scoped>\n",
              "    .dataframe tbody tr th:only-of-type {\n",
              "        vertical-align: middle;\n",
              "    }\n",
              "\n",
              "    .dataframe tbody tr th {\n",
              "        vertical-align: top;\n",
              "    }\n",
              "\n",
              "    .dataframe thead th {\n",
              "        text-align: right;\n",
              "    }\n",
              "</style>\n",
              "<table border=\"1\" class=\"dataframe\">\n",
              "  <thead>\n",
              "    <tr style=\"text-align: right;\">\n",
              "      <th></th>\n",
              "      <th>Yes</th>\n",
              "      <th>No</th>\n",
              "    </tr>\n",
              "  </thead>\n",
              "  <tbody>\n",
              "    <tr>\n",
              "      <th>Overcast</th>\n",
              "      <td>4</td>\n",
              "      <td>0</td>\n",
              "    </tr>\n",
              "    <tr>\n",
              "      <th>Rainy</th>\n",
              "      <td>2</td>\n",
              "      <td>3</td>\n",
              "    </tr>\n",
              "    <tr>\n",
              "      <th>Sunny</th>\n",
              "      <td>3</td>\n",
              "      <td>2</td>\n",
              "    </tr>\n",
              "  </tbody>\n",
              "</table>\n",
              "</div>"
            ],
            "text/plain": [
              "          Yes  No\n",
              "Overcast    4   0\n",
              "Rainy       2   3\n",
              "Sunny       3   2"
            ]
          },
          "metadata": {
            "tags": []
          },
          "execution_count": 91
        }
      ]
    },
    {
      "metadata": {
        "id": "zD6oybKd3RO0",
        "colab_type": "code",
        "colab": {
          "base_uri": "https://localhost:8080/",
          "height": 34
        },
        "outputId": "c3ee1f07-ad01-460f-f5e7-d4cb61a13559"
      },
      "cell_type": "code",
      "source": [
        "#p(yes/sunny)={p(sunny/yes)*p(yes)}/P(sunny)\n",
        "p=((3/9)*(9/14))/(5/14)\n",
        "p"
      ],
      "execution_count": 92,
      "outputs": [
        {
          "output_type": "execute_result",
          "data": {
            "text/plain": [
              "0.6"
            ]
          },
          "metadata": {
            "tags": []
          },
          "execution_count": 92
        }
      ]
    },
    {
      "metadata": {
        "id": "7VXo-vFi5a5K",
        "colab_type": "text"
      },
      "cell_type": "markdown",
      "source": [
        "Q.2- Solve the following:\n",
        "a) Import iris dataset from sklearn.\n",
        "b) Split the dataset into training and testing sets using train_test_split() \n",
        "c) Use GaussianNB and print the following:\n",
        "i. Confusion matrix\n",
        "ii. Classification report\n",
        "\n",
        "d) Use MultinomialNB and print the following:\n",
        "i. Confusion matrix\n",
        "ii. Classification report"
      ]
    },
    {
      "metadata": {
        "id": "CLcoLG6xDUx3",
        "colab_type": "text"
      },
      "cell_type": "markdown",
      "source": [
        "#### Import iris dataset from sklearn."
      ]
    },
    {
      "metadata": {
        "id": "FP9aOZUr5K6w",
        "colab_type": "code",
        "colab": {}
      },
      "cell_type": "code",
      "source": [
        "from sklearn import datasets"
      ],
      "execution_count": 0,
      "outputs": []
    },
    {
      "metadata": {
        "id": "0M82Y3ey54Xc",
        "colab_type": "code",
        "colab": {
          "base_uri": "https://localhost:8080/",
          "height": 34
        },
        "outputId": "be84a937-6ba8-4c2f-b675-d125444ce987"
      },
      "cell_type": "code",
      "source": [
        "iris=datasets.load_iris()\n",
        "iris.keys()"
      ],
      "execution_count": 94,
      "outputs": [
        {
          "output_type": "execute_result",
          "data": {
            "text/plain": [
              "dict_keys(['data', 'target', 'target_names', 'DESCR', 'feature_names'])"
            ]
          },
          "metadata": {
            "tags": []
          },
          "execution_count": 94
        }
      ]
    },
    {
      "metadata": {
        "id": "S5u75zSt7EI9",
        "colab_type": "code",
        "colab": {
          "base_uri": "https://localhost:8080/",
          "height": 34
        },
        "outputId": "d5a9e55a-2539-40ff-ac42-24b8bb7c3a3f"
      },
      "cell_type": "code",
      "source": [
        "iris.data.shape"
      ],
      "execution_count": 95,
      "outputs": [
        {
          "output_type": "execute_result",
          "data": {
            "text/plain": [
              "(150, 4)"
            ]
          },
          "metadata": {
            "tags": []
          },
          "execution_count": 95
        }
      ]
    },
    {
      "metadata": {
        "id": "awBUfV2t7RLY",
        "colab_type": "code",
        "colab": {
          "base_uri": "https://localhost:8080/",
          "height": 34
        },
        "outputId": "dcad5efb-e554-4167-e74e-f644c0172516"
      },
      "cell_type": "code",
      "source": [
        "iris.target.shape"
      ],
      "execution_count": 96,
      "outputs": [
        {
          "output_type": "execute_result",
          "data": {
            "text/plain": [
              "(150,)"
            ]
          },
          "metadata": {
            "tags": []
          },
          "execution_count": 96
        }
      ]
    },
    {
      "metadata": {
        "id": "IDokAiy27Wkh",
        "colab_type": "code",
        "colab": {
          "base_uri": "https://localhost:8080/",
          "height": 34
        },
        "outputId": "993ea054-f775-4236-d0e2-e0287103bff8"
      },
      "cell_type": "code",
      "source": [
        "iris.target_names"
      ],
      "execution_count": 97,
      "outputs": [
        {
          "output_type": "execute_result",
          "data": {
            "text/plain": [
              "array(['setosa', 'versicolor', 'virginica'], dtype='<U10')"
            ]
          },
          "metadata": {
            "tags": []
          },
          "execution_count": 97
        }
      ]
    },
    {
      "metadata": {
        "id": "SxdVvSir7eXD",
        "colab_type": "code",
        "colab": {
          "base_uri": "https://localhost:8080/",
          "height": 85
        },
        "outputId": "ffc71db2-1118-4f0b-a70a-485cded916d3"
      },
      "cell_type": "code",
      "source": [
        "iris.feature_names"
      ],
      "execution_count": 98,
      "outputs": [
        {
          "output_type": "execute_result",
          "data": {
            "text/plain": [
              "['sepal length (cm)',\n",
              " 'sepal width (cm)',\n",
              " 'petal length (cm)',\n",
              " 'petal width (cm)']"
            ]
          },
          "metadata": {
            "tags": []
          },
          "execution_count": 98
        }
      ]
    },
    {
      "metadata": {
        "id": "qXoBub9y7mVp",
        "colab_type": "code",
        "colab": {
          "base_uri": "https://localhost:8080/",
          "height": 34
        },
        "outputId": "d9ede4f0-93fe-4662-bfa4-54d7785cc879"
      },
      "cell_type": "code",
      "source": [
        "X=iris.data\n",
        "X.shape"
      ],
      "execution_count": 99,
      "outputs": [
        {
          "output_type": "execute_result",
          "data": {
            "text/plain": [
              "(150, 4)"
            ]
          },
          "metadata": {
            "tags": []
          },
          "execution_count": 99
        }
      ]
    },
    {
      "metadata": {
        "id": "ZpjOG1aG8PLa",
        "colab_type": "code",
        "colab": {
          "base_uri": "https://localhost:8080/",
          "height": 34
        },
        "outputId": "3bded4f4-a693-425a-8ac9-f55dfcce919e"
      },
      "cell_type": "code",
      "source": [
        "Y=iris.target\n",
        "Y.shape"
      ],
      "execution_count": 100,
      "outputs": [
        {
          "output_type": "execute_result",
          "data": {
            "text/plain": [
              "(150,)"
            ]
          },
          "metadata": {
            "tags": []
          },
          "execution_count": 100
        }
      ]
    },
    {
      "metadata": {
        "id": "_fU94nmcDeGC",
        "colab_type": "text"
      },
      "cell_type": "markdown",
      "source": [
        "#### Split the dataset into training and testing sets using train_test_split() "
      ]
    },
    {
      "metadata": {
        "id": "jeJzkdZb8TCJ",
        "colab_type": "code",
        "colab": {}
      },
      "cell_type": "code",
      "source": [
        "from sklearn.cross_validation  import train_test_split"
      ],
      "execution_count": 0,
      "outputs": []
    },
    {
      "metadata": {
        "id": "ZVCqZMfS8lZc",
        "colab_type": "code",
        "colab": {}
      },
      "cell_type": "code",
      "source": [
        "x_train,x_test,y_train,y_test=train_test_split(X,Y,test_size=.2,random_state=7)"
      ],
      "execution_count": 0,
      "outputs": []
    },
    {
      "metadata": {
        "id": "C7P0821aDkw4",
        "colab_type": "text"
      },
      "cell_type": "markdown",
      "source": [
        "#### Use GaussianNB and print the following:\n",
        "i. Confusion matrix\n",
        "ii. Classification report\n"
      ]
    },
    {
      "metadata": {
        "id": "jMJ3f88J_uah",
        "colab_type": "code",
        "colab": {}
      },
      "cell_type": "code",
      "source": [
        "from sklearn.naive_bayes import  GaussianNB "
      ],
      "execution_count": 0,
      "outputs": []
    },
    {
      "metadata": {
        "id": "Z0Dclt1x_8BV",
        "colab_type": "code",
        "colab": {}
      },
      "cell_type": "code",
      "source": [
        "gnb=GaussianNB()"
      ],
      "execution_count": 0,
      "outputs": []
    },
    {
      "metadata": {
        "id": "swnqzW8hAEIo",
        "colab_type": "code",
        "colab": {
          "base_uri": "https://localhost:8080/",
          "height": 34
        },
        "outputId": "b5d63057-3a16-4108-daed-de1d3e4401c3"
      },
      "cell_type": "code",
      "source": [
        "gnb.fit(x_train,y_train)"
      ],
      "execution_count": 105,
      "outputs": [
        {
          "output_type": "execute_result",
          "data": {
            "text/plain": [
              "GaussianNB(priors=None)"
            ]
          },
          "metadata": {
            "tags": []
          },
          "execution_count": 105
        }
      ]
    },
    {
      "metadata": {
        "id": "-yWkUFkcALll",
        "colab_type": "code",
        "colab": {
          "base_uri": "https://localhost:8080/",
          "height": 51
        },
        "outputId": "6f7a04f5-f5d6-44e3-b055-40c350be0a12"
      },
      "cell_type": "code",
      "source": [
        "predict=gnb.predict(x_test)\n",
        "predict"
      ],
      "execution_count": 106,
      "outputs": [
        {
          "output_type": "execute_result",
          "data": {
            "text/plain": [
              "array([2, 1, 0, 1, 1, 0, 2, 1, 0, 1, 2, 1, 0, 2, 0, 2, 2, 2, 0, 0, 1, 2,\n",
              "       1, 1, 2, 2, 1, 1, 2, 2])"
            ]
          },
          "metadata": {
            "tags": []
          },
          "execution_count": 106
        }
      ]
    },
    {
      "metadata": {
        "id": "gFY9LWl-Ag1C",
        "colab_type": "code",
        "colab": {
          "base_uri": "https://localhost:8080/",
          "height": 51
        },
        "outputId": "555fd7bb-7c77-45dc-a8c6-47601bdb87d2"
      },
      "cell_type": "code",
      "source": [
        "y_test"
      ],
      "execution_count": 107,
      "outputs": [
        {
          "output_type": "execute_result",
          "data": {
            "text/plain": [
              "array([2, 1, 0, 1, 2, 0, 1, 1, 0, 1, 1, 1, 0, 2, 0, 1, 2, 2, 0, 0, 1, 2,\n",
              "       1, 2, 2, 2, 1, 1, 2, 2])"
            ]
          },
          "metadata": {
            "tags": []
          },
          "execution_count": 107
        }
      ]
    },
    {
      "metadata": {
        "id": "hjWv23QVAP00",
        "colab_type": "code",
        "colab": {
          "base_uri": "https://localhost:8080/",
          "height": 34
        },
        "outputId": "de5da377-f91f-4dc3-dd9c-8f8caf9c5fb7"
      },
      "cell_type": "code",
      "source": [
        "gnb.score(x_test,y_test)"
      ],
      "execution_count": 108,
      "outputs": [
        {
          "output_type": "execute_result",
          "data": {
            "text/plain": [
              "0.8333333333333334"
            ]
          },
          "metadata": {
            "tags": []
          },
          "execution_count": 108
        }
      ]
    },
    {
      "metadata": {
        "id": "imHfC1HJAdiE",
        "colab_type": "code",
        "colab": {}
      },
      "cell_type": "code",
      "source": [
        "import sklearn.metrics as met"
      ],
      "execution_count": 0,
      "outputs": []
    },
    {
      "metadata": {
        "id": "KQA8AYtwAvqU",
        "colab_type": "code",
        "colab": {
          "base_uri": "https://localhost:8080/",
          "height": 68
        },
        "outputId": "e87cca96-568c-4fae-baab-cc3a493c18ba"
      },
      "cell_type": "code",
      "source": [
        "matrix=met.confusion_matrix(y_test,predict)\n",
        "matrix"
      ],
      "execution_count": 110,
      "outputs": [
        {
          "output_type": "execute_result",
          "data": {
            "text/plain": [
              "array([[7, 0, 0],\n",
              "       [0, 9, 3],\n",
              "       [0, 2, 9]])"
            ]
          },
          "metadata": {
            "tags": []
          },
          "execution_count": 110
        }
      ]
    },
    {
      "metadata": {
        "id": "GLEUXRR7BIkv",
        "colab_type": "code",
        "colab": {
          "base_uri": "https://localhost:8080/",
          "height": 153
        },
        "outputId": "cfe4d882-a676-4d02-9e1e-65551202396f"
      },
      "cell_type": "code",
      "source": [
        "report =met.classification_report(y_test,predict)\n",
        "print(report)"
      ],
      "execution_count": 111,
      "outputs": [
        {
          "output_type": "stream",
          "text": [
            "             precision    recall  f1-score   support\n",
            "\n",
            "          0       1.00      1.00      1.00         7\n",
            "          1       0.82      0.75      0.78        12\n",
            "          2       0.75      0.82      0.78        11\n",
            "\n",
            "avg / total       0.84      0.83      0.83        30\n",
            "\n"
          ],
          "name": "stdout"
        }
      ]
    },
    {
      "metadata": {
        "id": "r58hBSEEDtGr",
        "colab_type": "text"
      },
      "cell_type": "markdown",
      "source": [
        "#### Use MultinomialNB and print the following:\n",
        "i. Confusion matrix\n",
        "ii. Classification report"
      ]
    },
    {
      "metadata": {
        "id": "dqhhmYTABmkv",
        "colab_type": "code",
        "colab": {}
      },
      "cell_type": "code",
      "source": [
        "from sklearn.naive_bayes import MultinomialNB"
      ],
      "execution_count": 0,
      "outputs": []
    },
    {
      "metadata": {
        "id": "pMsiHI5BB-Oq",
        "colab_type": "code",
        "colab": {}
      },
      "cell_type": "code",
      "source": [
        "mnb=MultinomialNB()"
      ],
      "execution_count": 0,
      "outputs": []
    },
    {
      "metadata": {
        "id": "6YFIZ2BdCB9M",
        "colab_type": "code",
        "colab": {
          "base_uri": "https://localhost:8080/",
          "height": 34
        },
        "outputId": "dcc7a621-ff29-475e-9294-269e84f235f4"
      },
      "cell_type": "code",
      "source": [
        "mnb.fit(x_train,y_train)"
      ],
      "execution_count": 114,
      "outputs": [
        {
          "output_type": "execute_result",
          "data": {
            "text/plain": [
              "MultinomialNB(alpha=1.0, class_prior=None, fit_prior=True)"
            ]
          },
          "metadata": {
            "tags": []
          },
          "execution_count": 114
        }
      ]
    },
    {
      "metadata": {
        "id": "k7i_q8zRCKMO",
        "colab_type": "code",
        "colab": {
          "base_uri": "https://localhost:8080/",
          "height": 51
        },
        "outputId": "b5099566-f33a-49cc-f7f3-b0cda065f95c"
      },
      "cell_type": "code",
      "source": [
        "predict=mnb.predict(x_test)\n",
        "predict"
      ],
      "execution_count": 115,
      "outputs": [
        {
          "output_type": "execute_result",
          "data": {
            "text/plain": [
              "array([2, 2, 0, 2, 2, 0, 1, 1, 0, 1, 2, 1, 0, 2, 0, 2, 2, 2, 0, 0, 1, 2,\n",
              "       1, 2, 1, 2, 1, 1, 2, 2])"
            ]
          },
          "metadata": {
            "tags": []
          },
          "execution_count": 115
        }
      ]
    },
    {
      "metadata": {
        "id": "DZ0S9blqCPXF",
        "colab_type": "code",
        "colab": {
          "base_uri": "https://localhost:8080/",
          "height": 51
        },
        "outputId": "03990fd6-cddd-4a98-9616-187a9905c26f"
      },
      "cell_type": "code",
      "source": [
        "y_test"
      ],
      "execution_count": 116,
      "outputs": [
        {
          "output_type": "execute_result",
          "data": {
            "text/plain": [
              "array([2, 1, 0, 1, 2, 0, 1, 1, 0, 1, 1, 1, 0, 2, 0, 1, 2, 2, 0, 0, 1, 2,\n",
              "       1, 2, 2, 2, 1, 1, 2, 2])"
            ]
          },
          "metadata": {
            "tags": []
          },
          "execution_count": 116
        }
      ]
    },
    {
      "metadata": {
        "id": "5V7SVDzsCRBb",
        "colab_type": "code",
        "colab": {
          "base_uri": "https://localhost:8080/",
          "height": 34
        },
        "outputId": "e77574f9-f4e3-4473-b0c3-34a68439b7f1"
      },
      "cell_type": "code",
      "source": [
        "mnb.score(x_test,y_test)"
      ],
      "execution_count": 117,
      "outputs": [
        {
          "output_type": "execute_result",
          "data": {
            "text/plain": [
              "0.8333333333333334"
            ]
          },
          "metadata": {
            "tags": []
          },
          "execution_count": 117
        }
      ]
    },
    {
      "metadata": {
        "id": "-8K4r60DCUYX",
        "colab_type": "code",
        "colab": {
          "base_uri": "https://localhost:8080/",
          "height": 68
        },
        "outputId": "9ae42170-e421-4b06-eebf-83ec2f445b2d"
      },
      "cell_type": "code",
      "source": [
        "matrix1=met.confusion_matrix(y_test,predict)\n",
        "matrix1"
      ],
      "execution_count": 118,
      "outputs": [
        {
          "output_type": "execute_result",
          "data": {
            "text/plain": [
              "array([[ 7,  0,  0],\n",
              "       [ 0,  8,  4],\n",
              "       [ 0,  1, 10]])"
            ]
          },
          "metadata": {
            "tags": []
          },
          "execution_count": 118
        }
      ]
    },
    {
      "metadata": {
        "id": "oK60NkvbC-Ua",
        "colab_type": "code",
        "colab": {
          "base_uri": "https://localhost:8080/",
          "height": 153
        },
        "outputId": "bdf91923-e4be-46e8-d5ba-aa9d0416d398"
      },
      "cell_type": "code",
      "source": [
        "report1 =met.classification_report(y_test,predict)\n",
        "print(report1)"
      ],
      "execution_count": 119,
      "outputs": [
        {
          "output_type": "stream",
          "text": [
            "             precision    recall  f1-score   support\n",
            "\n",
            "          0       1.00      1.00      1.00         7\n",
            "          1       0.89      0.67      0.76        12\n",
            "          2       0.71      0.91      0.80        11\n",
            "\n",
            "avg / total       0.85      0.83      0.83        30\n",
            "\n"
          ],
          "name": "stdout"
        }
      ]
    }
  ]
}