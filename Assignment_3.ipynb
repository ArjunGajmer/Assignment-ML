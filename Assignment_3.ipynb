{
  "nbformat": 4,
  "nbformat_minor": 0,
  "metadata": {
    "colab": {
      "name": "Untitled0.ipynb",
      "version": "0.3.2",
      "provenance": []
    },
    "kernelspec": {
      "name": "python3",
      "display_name": "Python 3"
    }
  },
  "cells": [
    {
      "cell_type": "markdown",
      "metadata": {
        "id": "view-in-github",
        "colab_type": "text"
      },
      "source": [
        "[View in Colaboratory](https://colab.research.google.com/github/ArjunGajmer/Assignment-ML/blob/master/Assignment_3.ipynb)"
      ]
    },
    {
      "metadata": {
        "id": "OoE7-8P4PSOo",
        "colab_type": "text"
      },
      "cell_type": "markdown",
      "source": [
        "# ***Probability***"
      ]
    },
    {
      "metadata": {
        "id": "asgic1nRPFwf",
        "colab_type": "text"
      },
      "cell_type": "markdown",
      "source": [
        "Q.1 - Consider the below given probabilities: \n",
        "P(A) = 11 / 36\n",
        "P(B) = 6 / 36\n",
        "P(A|B) = 2 / 36\n",
        "Write a function in Python which takes 3 probabilities as argument and outputs the Conditional probability P(B|A)."
      ]
    },
    {
      "metadata": {
        "id": "8xZ_cgwlPj9R",
        "colab_type": "code",
        "colab": {
          "base_uri": "https://localhost:8080/",
          "height": 34
        },
        "outputId": "e1f55578-b4c4-473d-f0c6-64f089c2802e"
      },
      "cell_type": "code",
      "source": [
        "def funct(A,B,A_given_B):\n",
        "  B_given_A=(A_given_B*B)/A\n",
        "  print(B_given_A)\n",
        "A=11/36\n",
        "B=6/16\n",
        "A_given_B=2/36\n",
        "funct(A,B,A_given_B)\n"
      ],
      "execution_count": 0,
      "outputs": [
        {
          "output_type": "stream",
          "text": [
            "0.06818181818181818\n"
          ],
          "name": "stdout"
        }
      ]
    },
    {
      "metadata": {
        "id": "sllT67NfRBa7",
        "colab_type": "text"
      },
      "cell_type": "markdown",
      "source": [
        "Q.2 - Bag I contains 4 white and 6 black balls while another Bag II contains 4 white and 3 black balls. One ball is drawn at random from one of the bags and it is found to be black. Find the probability that it was drawn from Bag I."
      ]
    },
    {
      "metadata": {
        "id": "abnR5zICRG9n",
        "colab_type": "code",
        "colab": {
          "base_uri": "https://localhost:8080/",
          "height": 34
        },
        "outputId": "fd824a81-35e6-4482-95ea-0d39ecf51b67"
      },
      "cell_type": "code",
      "source": [
        "def p(fav,total):\n",
        "  return fav/total\n",
        "Bag1={'WHITE':4,'BLACK':6}\n",
        "Bag2={'WHITE':4,'BLACK':3}\n",
        "B_intersect_bag1=Bag1['BLACK']\n",
        "B_intersect_bag2=Bag2['BLACK']\n",
        "x=p(B_intersect_bag1,10)/(p(B_intersect_bag1,10)+p(B_intersect_bag2,7))\n",
        "x"
      ],
      "execution_count": 1,
      "outputs": [
        {
          "output_type": "execute_result",
          "data": {
            "text/plain": [
              "0.5833333333333334"
            ]
          },
          "metadata": {
            "tags": []
          },
          "execution_count": 1
        }
      ]
    },
    {
      "metadata": {
        "id": "ePDXqTO7Rklg",
        "colab_type": "text"
      },
      "cell_type": "markdown",
      "source": [
        "Q.3 - A man is known to speak truth 2 out of 3 times. He throws a die and reports that number obtained is a four. Find the probability that the number obtained is actually a four."
      ]
    },
    {
      "metadata": {
        "id": "8FIR3PovR3Vn",
        "colab_type": "code",
        "colab": {
          "base_uri": "https://localhost:8080/",
          "height": 34
        },
        "outputId": "13f9af23-8a83-419e-da61-db048430d489"
      },
      "cell_type": "code",
      "source": [
        "truth=2/3               \n",
        "lie=1/3  * 1/5\n",
        "A=1/6  \n",
        "B=5/6\n",
        "getting_four_for_truth=truth*A/(truth*A+lie*B)  \n",
        "getting_four_for_truth"
      ],
      "execution_count": 0,
      "outputs": [
        {
          "output_type": "execute_result",
          "data": {
            "text/plain": [
              "0.6666666666666666"
            ]
          },
          "metadata": {
            "tags": []
          },
          "execution_count": 13
        }
      ]
    }
  ]
}