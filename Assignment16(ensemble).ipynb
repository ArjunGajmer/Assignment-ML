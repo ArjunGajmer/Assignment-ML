{
  "nbformat": 4,
  "nbformat_minor": 0,
  "metadata": {
    "colab": {
      "name": "Untitled17.ipynb",
      "version": "0.3.2",
      "provenance": [],
      "include_colab_link": true
    },
    "kernelspec": {
      "name": "python3",
      "display_name": "Python 3"
    }
  },
  "cells": [
    {
      "cell_type": "markdown",
      "metadata": {
        "id": "view-in-github",
        "colab_type": "text"
      },
      "source": [
        "[View in Colaboratory](https://colab.research.google.com/github/ArjunGajmer/Assignment-ML/blob/master/Assignment16(ensemble).ipynb)"
      ]
    },
    {
      "metadata": {
        "id": "69DhfGnNonMR",
        "colab_type": "text"
      },
      "cell_type": "markdown",
      "source": [
        "# Ensemble Model"
      ]
    },
    {
      "metadata": {
        "id": "mWP_4Q1WorXS",
        "colab_type": "text"
      },
      "cell_type": "markdown",
      "source": [
        "## Importing Dataset"
      ]
    },
    {
      "metadata": {
        "id": "c8AsYPy5hjIG",
        "colab_type": "code",
        "colab": {}
      },
      "cell_type": "code",
      "source": [
        "import pandas as pd\n",
        "from sklearn import datasets"
      ],
      "execution_count": 0,
      "outputs": []
    },
    {
      "metadata": {
        "id": "hkGqUayphm_l",
        "colab_type": "code",
        "colab": {}
      },
      "cell_type": "code",
      "source": [
        "df=datasets.load_wine()"
      ],
      "execution_count": 0,
      "outputs": []
    },
    {
      "metadata": {
        "id": "alAp8cadhy-c",
        "colab_type": "code",
        "colab": {
          "base_uri": "https://localhost:8080/",
          "height": 34
        },
        "outputId": "ca83e50b-fc2c-4873-b8f8-2c594b1762b2"
      },
      "cell_type": "code",
      "source": [
        "df.keys()"
      ],
      "execution_count": 8,
      "outputs": [
        {
          "output_type": "execute_result",
          "data": {
            "text/plain": [
              "dict_keys(['data', 'target', 'target_names', 'DESCR', 'feature_names'])"
            ]
          },
          "metadata": {
            "tags": []
          },
          "execution_count": 8
        }
      ]
    },
    {
      "metadata": {
        "id": "brN013-Xh7sx",
        "colab_type": "code",
        "colab": {
          "base_uri": "https://localhost:8080/",
          "height": 34
        },
        "outputId": "99dc389e-123c-402f-d3f9-b08642367f4b"
      },
      "cell_type": "code",
      "source": [
        "df.data.shape"
      ],
      "execution_count": 9,
      "outputs": [
        {
          "output_type": "execute_result",
          "data": {
            "text/plain": [
              "(178, 13)"
            ]
          },
          "metadata": {
            "tags": []
          },
          "execution_count": 9
        }
      ]
    },
    {
      "metadata": {
        "id": "_-Gjzf4aiHj-",
        "colab_type": "code",
        "colab": {
          "base_uri": "https://localhost:8080/",
          "height": 34
        },
        "outputId": "468b848c-a1e7-4b98-c3bb-edd721ec90ae"
      },
      "cell_type": "code",
      "source": [
        "df.target.shape"
      ],
      "execution_count": 10,
      "outputs": [
        {
          "output_type": "execute_result",
          "data": {
            "text/plain": [
              "(178,)"
            ]
          },
          "metadata": {
            "tags": []
          },
          "execution_count": 10
        }
      ]
    },
    {
      "metadata": {
        "id": "msrqJkQ8iMMN",
        "colab_type": "code",
        "colab": {
          "base_uri": "https://localhost:8080/",
          "height": 34
        },
        "outputId": "d8b4fabf-3a03-4418-ee02-b978583d3b82"
      },
      "cell_type": "code",
      "source": [
        "df.target_names"
      ],
      "execution_count": 11,
      "outputs": [
        {
          "output_type": "execute_result",
          "data": {
            "text/plain": [
              "array(['class_0', 'class_1', 'class_2'], dtype='<U7')"
            ]
          },
          "metadata": {
            "tags": []
          },
          "execution_count": 11
        }
      ]
    },
    {
      "metadata": {
        "id": "pobQewS4iOrY",
        "colab_type": "code",
        "colab": {
          "base_uri": "https://localhost:8080/",
          "height": 1649
        },
        "outputId": "61498b7c-c1ff-4565-8cca-4428c2e37080"
      },
      "cell_type": "code",
      "source": [
        "print(df.DESCR)"
      ],
      "execution_count": 13,
      "outputs": [
        {
          "output_type": "stream",
          "text": [
            "Wine Data Database\n",
            "====================\n",
            "\n",
            "Notes\n",
            "-----\n",
            "Data Set Characteristics:\n",
            "    :Number of Instances: 178 (50 in each of three classes)\n",
            "    :Number of Attributes: 13 numeric, predictive attributes and the class\n",
            "    :Attribute Information:\n",
            " \t\t- 1) Alcohol\n",
            " \t\t- 2) Malic acid\n",
            " \t\t- 3) Ash\n",
            "\t\t- 4) Alcalinity of ash  \n",
            " \t\t- 5) Magnesium\n",
            "\t\t- 6) Total phenols\n",
            " \t\t- 7) Flavanoids\n",
            " \t\t- 8) Nonflavanoid phenols\n",
            " \t\t- 9) Proanthocyanins\n",
            "\t\t- 10)Color intensity\n",
            " \t\t- 11)Hue\n",
            " \t\t- 12)OD280/OD315 of diluted wines\n",
            " \t\t- 13)Proline\n",
            "        \t- class:\n",
            "                - class_0\n",
            "                - class_1\n",
            "                - class_2\n",
            "\t\t\n",
            "    :Summary Statistics:\n",
            "    \n",
            "    ============================= ==== ===== ======= =====\n",
            "                                   Min   Max   Mean     SD\n",
            "    ============================= ==== ===== ======= =====\n",
            "    Alcohol:                      11.0  14.8    13.0   0.8\n",
            "    Malic Acid:                   0.74  5.80    2.34  1.12\n",
            "    Ash:                          1.36  3.23    2.36  0.27\n",
            "    Alcalinity of Ash:            10.6  30.0    19.5   3.3\n",
            "    Magnesium:                    70.0 162.0    99.7  14.3\n",
            "    Total Phenols:                0.98  3.88    2.29  0.63\n",
            "    Flavanoids:                   0.34  5.08    2.03  1.00\n",
            "    Nonflavanoid Phenols:         0.13  0.66    0.36  0.12\n",
            "    Proanthocyanins:              0.41  3.58    1.59  0.57\n",
            "    Colour Intensity:              1.3  13.0     5.1   2.3\n",
            "    Hue:                          0.48  1.71    0.96  0.23\n",
            "    OD280/OD315 of diluted wines: 1.27  4.00    2.61  0.71\n",
            "    Proline:                       278  1680     746   315\n",
            "    ============================= ==== ===== ======= =====\n",
            "\n",
            "    :Missing Attribute Values: None\n",
            "    :Class Distribution: class_0 (59), class_1 (71), class_2 (48)\n",
            "    :Creator: R.A. Fisher\n",
            "    :Donor: Michael Marshall (MARSHALL%PLU@io.arc.nasa.gov)\n",
            "    :Date: July, 1988\n",
            "\n",
            "This is a copy of UCI ML Wine recognition datasets.\n",
            "https://archive.ics.uci.edu/ml/machine-learning-databases/wine/wine.data\n",
            "\n",
            "The data is the results of a chemical analysis of wines grown in the same\n",
            "region in Italy by three different cultivators. There are thirteen different\n",
            "measurements taken for different constituents found in the three types of\n",
            "wine.\n",
            "\n",
            "Original Owners: \n",
            "\n",
            "Forina, M. et al, PARVUS - \n",
            "An Extendible Package for Data Exploration, Classification and Correlation. \n",
            "Institute of Pharmaceutical and Food Analysis and Technologies,\n",
            "Via Brigata Salerno, 16147 Genoa, Italy.\n",
            "\n",
            "Citation:\n",
            "\n",
            "Lichman, M. (2013). UCI Machine Learning Repository\n",
            "[http://archive.ics.uci.edu/ml]. Irvine, CA: University of California,\n",
            "School of Information and Computer Science. \n",
            "\n",
            "References\n",
            "----------\n",
            "(1) \n",
            "S. Aeberhard, D. Coomans and O. de Vel, \n",
            "Comparison of Classifiers in High Dimensional Settings, \n",
            "Tech. Rep. no. 92-02, (1992), Dept. of Computer Science and Dept. of \n",
            "Mathematics and Statistics, James Cook University of North Queensland. \n",
            "(Also submitted to Technometrics). \n",
            "\n",
            "The data was used with many others for comparing various \n",
            "classifiers. The classes are separable, though only RDA \n",
            "has achieved 100% correct classification. \n",
            "(RDA : 100%, QDA 99.4%, LDA 98.9%, 1NN 96.1% (z-transformed data)) \n",
            "(All results using the leave-one-out technique) \n",
            "\n",
            "(2) \n",
            "S. Aeberhard, D. Coomans and O. de Vel, \n",
            "\"THE CLASSIFICATION PERFORMANCE OF RDA\" \n",
            "Tech. Rep. no. 92-01, (1992), Dept. of Computer Science and Dept. of \n",
            "Mathematics and Statistics, James Cook University of North Queensland. \n",
            "(Also submitted to Journal of Chemometrics). \n",
            "\n"
          ],
          "name": "stdout"
        }
      ]
    },
    {
      "metadata": {
        "id": "Z4xEEeoQo1I8",
        "colab_type": "text"
      },
      "cell_type": "markdown",
      "source": [
        "## Data Preprocessing"
      ]
    },
    {
      "metadata": {
        "id": "wEFdO1EGiSSO",
        "colab_type": "code",
        "colab": {
          "base_uri": "https://localhost:8080/",
          "height": 34
        },
        "outputId": "663104b8-2ae3-40db-8a63-35c8dcfc9561"
      },
      "cell_type": "code",
      "source": [
        "X=pd.DataFrame(df.data)\n",
        "X.shape"
      ],
      "execution_count": 73,
      "outputs": [
        {
          "output_type": "execute_result",
          "data": {
            "text/plain": [
              "(178, 13)"
            ]
          },
          "metadata": {
            "tags": []
          },
          "execution_count": 73
        }
      ]
    },
    {
      "metadata": {
        "id": "2S-9qfJeiefj",
        "colab_type": "code",
        "colab": {
          "base_uri": "https://localhost:8080/",
          "height": 34
        },
        "outputId": "646c7585-57dd-411f-8cac-8b42053687c6"
      },
      "cell_type": "code",
      "source": [
        "Y=pd.DataFrame(df.target)\n",
        "Y.shape"
      ],
      "execution_count": 17,
      "outputs": [
        {
          "output_type": "execute_result",
          "data": {
            "text/plain": [
              "(178, 1)"
            ]
          },
          "metadata": {
            "tags": []
          },
          "execution_count": 17
        }
      ]
    },
    {
      "metadata": {
        "id": "agBikbWspCo5",
        "colab_type": "text"
      },
      "cell_type": "markdown",
      "source": [
        "## Splitting Dataset"
      ]
    },
    {
      "metadata": {
        "id": "UqpEkix6ivp4",
        "colab_type": "code",
        "colab": {
          "base_uri": "https://localhost:8080/",
          "height": 71
        },
        "outputId": "0af0b339-8088-452e-8d00-e74f9959fc2a"
      },
      "cell_type": "code",
      "source": [
        "from sklearn.cross_validation import train_test_split"
      ],
      "execution_count": 21,
      "outputs": [
        {
          "output_type": "stream",
          "text": [
            "/usr/local/lib/python3.6/dist-packages/sklearn/cross_validation.py:41: DeprecationWarning: This module was deprecated in version 0.18 in favor of the model_selection module into which all the refactored classes and functions are moved. Also note that the interface of the new CV iterators are different from that of this module. This module will be removed in 0.20.\n",
            "  \"This module will be removed in 0.20.\", DeprecationWarning)\n"
          ],
          "name": "stderr"
        }
      ]
    },
    {
      "metadata": {
        "id": "AbycNVDljiDA",
        "colab_type": "code",
        "colab": {}
      },
      "cell_type": "code",
      "source": [
        "x_train,x_test,y_train,y_test=train_test_split(X,Y,test_size=.30,random_state=8)"
      ],
      "execution_count": 0,
      "outputs": []
    },
    {
      "metadata": {
        "id": "f843efMfpKN2",
        "colab_type": "text"
      },
      "cell_type": "markdown",
      "source": [
        "## Working on various ensemble models "
      ]
    },
    {
      "metadata": {
        "id": "EFV4BFW9j9Mm",
        "colab_type": "code",
        "colab": {}
      },
      "cell_type": "code",
      "source": [
        "from sklearn.ensemble import *"
      ],
      "execution_count": 0,
      "outputs": []
    },
    {
      "metadata": {
        "id": "EDbWg7DppU4B",
        "colab_type": "text"
      },
      "cell_type": "markdown",
      "source": [
        "## Bagging Tree"
      ]
    },
    {
      "metadata": {
        "id": "31D_QUsskq6p",
        "colab_type": "code",
        "colab": {}
      },
      "cell_type": "code",
      "source": [
        "bag=BaggingClassifier()"
      ],
      "execution_count": 0,
      "outputs": []
    },
    {
      "metadata": {
        "id": "zCYGGJgJkwRi",
        "colab_type": "code",
        "colab": {
          "base_uri": "https://localhost:8080/",
          "height": 139
        },
        "outputId": "fb25cfcc-e600-4ed8-acc3-b1026f887b76"
      },
      "cell_type": "code",
      "source": [
        "bag.fit(x_train,y_train)"
      ],
      "execution_count": 75,
      "outputs": [
        {
          "output_type": "stream",
          "text": [
            "/usr/local/lib/python3.6/dist-packages/sklearn/utils/validation.py:578: DataConversionWarning: A column-vector y was passed when a 1d array was expected. Please change the shape of y to (n_samples, ), for example using ravel().\n",
            "  y = column_or_1d(y, warn=True)\n"
          ],
          "name": "stderr"
        },
        {
          "output_type": "execute_result",
          "data": {
            "text/plain": [
              "BaggingClassifier(base_estimator=None, bootstrap=True,\n",
              "         bootstrap_features=False, max_features=1.0, max_samples=1.0,\n",
              "         n_estimators=10, n_jobs=1, oob_score=False, random_state=None,\n",
              "         verbose=0, warm_start=False)"
            ]
          },
          "metadata": {
            "tags": []
          },
          "execution_count": 75
        }
      ]
    },
    {
      "metadata": {
        "id": "SYcft4dEk1wq",
        "colab_type": "code",
        "colab": {}
      },
      "cell_type": "code",
      "source": [
        "bag_predict=bag.predict(x_test)"
      ],
      "execution_count": 0,
      "outputs": []
    },
    {
      "metadata": {
        "id": "SvXE-_45k7cX",
        "colab_type": "code",
        "colab": {}
      },
      "cell_type": "code",
      "source": [
        "import sklearn.metrics as met"
      ],
      "execution_count": 0,
      "outputs": []
    },
    {
      "metadata": {
        "id": "iAD_wBSvlDt2",
        "colab_type": "code",
        "colab": {
          "base_uri": "https://localhost:8080/",
          "height": 34
        },
        "outputId": "70bf86d2-17a0-4bba-b3d4-25ce22043f0a"
      },
      "cell_type": "code",
      "source": [
        "print(met.accuracy_score(y_test,bag_predict))"
      ],
      "execution_count": 78,
      "outputs": [
        {
          "output_type": "stream",
          "text": [
            "0.9629629629629629\n"
          ],
          "name": "stdout"
        }
      ]
    },
    {
      "metadata": {
        "id": "dP8GVP-OpeaX",
        "colab_type": "text"
      },
      "cell_type": "markdown",
      "source": [
        "## Random Forest "
      ]
    },
    {
      "metadata": {
        "id": "hfHn3KlplKi4",
        "colab_type": "code",
        "colab": {}
      },
      "cell_type": "code",
      "source": [
        "rf=RandomForestClassifier()"
      ],
      "execution_count": 0,
      "outputs": []
    },
    {
      "metadata": {
        "id": "ACghXgs5lZ4T",
        "colab_type": "code",
        "colab": {
          "base_uri": "https://localhost:8080/",
          "height": 190
        },
        "outputId": "68f87b75-dd19-47b3-996d-5dbfa16fb98e"
      },
      "cell_type": "code",
      "source": [
        "rf.fit(x_train,y_train)"
      ],
      "execution_count": 80,
      "outputs": [
        {
          "output_type": "stream",
          "text": [
            "/usr/local/lib/python3.6/dist-packages/ipykernel_launcher.py:1: DataConversionWarning: A column-vector y was passed when a 1d array was expected. Please change the shape of y to (n_samples,), for example using ravel().\n",
            "  \"\"\"Entry point for launching an IPython kernel.\n"
          ],
          "name": "stderr"
        },
        {
          "output_type": "execute_result",
          "data": {
            "text/plain": [
              "RandomForestClassifier(bootstrap=True, class_weight=None, criterion='gini',\n",
              "            max_depth=None, max_features='auto', max_leaf_nodes=None,\n",
              "            min_impurity_decrease=0.0, min_impurity_split=None,\n",
              "            min_samples_leaf=1, min_samples_split=2,\n",
              "            min_weight_fraction_leaf=0.0, n_estimators=10, n_jobs=1,\n",
              "            oob_score=False, random_state=None, verbose=0,\n",
              "            warm_start=False)"
            ]
          },
          "metadata": {
            "tags": []
          },
          "execution_count": 80
        }
      ]
    },
    {
      "metadata": {
        "id": "BNKt63jKldwl",
        "colab_type": "code",
        "colab": {}
      },
      "cell_type": "code",
      "source": [
        "rf_predict=rf.predict(x_test)"
      ],
      "execution_count": 0,
      "outputs": []
    },
    {
      "metadata": {
        "id": "IAEJd5egljV2",
        "colab_type": "code",
        "colab": {
          "base_uri": "https://localhost:8080/",
          "height": 34
        },
        "outputId": "1e35fe1f-db1a-432c-f6a5-a086487ef109"
      },
      "cell_type": "code",
      "source": [
        "print(met.accuracy_score(y_test,bag_predict))"
      ],
      "execution_count": 82,
      "outputs": [
        {
          "output_type": "stream",
          "text": [
            "0.9629629629629629\n"
          ],
          "name": "stdout"
        }
      ]
    },
    {
      "metadata": {
        "id": "BDRy4nKppmaT",
        "colab_type": "text"
      },
      "cell_type": "markdown",
      "source": [
        "## Stochastic Gradient Boosting Classification"
      ]
    },
    {
      "metadata": {
        "id": "xI0yMCivlsHD",
        "colab_type": "code",
        "colab": {}
      },
      "cell_type": "code",
      "source": [
        "gbc=GradientBoostingClassifier()"
      ],
      "execution_count": 0,
      "outputs": []
    },
    {
      "metadata": {
        "id": "_VtnAjZul-BI",
        "colab_type": "code",
        "colab": {
          "base_uri": "https://localhost:8080/",
          "height": 207
        },
        "outputId": "e4be6402-09c3-4d4e-cdda-30a13c1ca31e"
      },
      "cell_type": "code",
      "source": [
        "gbc.fit(x_train,y_train)"
      ],
      "execution_count": 65,
      "outputs": [
        {
          "output_type": "stream",
          "text": [
            "/usr/local/lib/python3.6/dist-packages/sklearn/utils/validation.py:578: DataConversionWarning: A column-vector y was passed when a 1d array was expected. Please change the shape of y to (n_samples, ), for example using ravel().\n",
            "  y = column_or_1d(y, warn=True)\n"
          ],
          "name": "stderr"
        },
        {
          "output_type": "execute_result",
          "data": {
            "text/plain": [
              "GradientBoostingClassifier(criterion='friedman_mse', init=None,\n",
              "              learning_rate=0.1, loss='deviance', max_depth=3,\n",
              "              max_features=None, max_leaf_nodes=None,\n",
              "              min_impurity_decrease=0.0, min_impurity_split=None,\n",
              "              min_samples_leaf=1, min_samples_split=2,\n",
              "              min_weight_fraction_leaf=0.0, n_estimators=100,\n",
              "              presort='auto', random_state=None, subsample=1.0, verbose=0,\n",
              "              warm_start=False)"
            ]
          },
          "metadata": {
            "tags": []
          },
          "execution_count": 65
        }
      ]
    },
    {
      "metadata": {
        "id": "2bY4jJQzmOyW",
        "colab_type": "code",
        "colab": {}
      },
      "cell_type": "code",
      "source": [
        "gbc_predict=gbc.predict(x_test)"
      ],
      "execution_count": 0,
      "outputs": []
    },
    {
      "metadata": {
        "id": "CGxaGGQbmTJd",
        "colab_type": "code",
        "colab": {
          "base_uri": "https://localhost:8080/",
          "height": 34
        },
        "outputId": "4529c2a4-d95d-4ffc-92a2-102e3fc63096"
      },
      "cell_type": "code",
      "source": [
        "print(met.accuracy_score(y_test,gbc_predict))"
      ],
      "execution_count": 67,
      "outputs": [
        {
          "output_type": "stream",
          "text": [
            "0.9629629629629629\n"
          ],
          "name": "stdout"
        }
      ]
    },
    {
      "metadata": {
        "id": "vcyjf2ySpwet",
        "colab_type": "text"
      },
      "cell_type": "markdown",
      "source": [
        "## Voting Ensemble (Decision Tree, Logistic Regression, SVM)"
      ]
    },
    {
      "metadata": {
        "id": "ymS6vEBGmz6F",
        "colab_type": "code",
        "colab": {}
      },
      "cell_type": "code",
      "source": [
        "from sklearn.linear_model import LogisticRegression\n",
        "from sklearn.tree import DecisionTreeClassifier\n",
        "from sklearn.svm import SVC"
      ],
      "execution_count": 0,
      "outputs": []
    },
    {
      "metadata": {
        "id": "f2eqlVqpm6WU",
        "colab_type": "code",
        "colab": {}
      },
      "cell_type": "code",
      "source": [
        "vc=VotingClassifier([('tree',DecisionTreeClassifier()),('log',LogisticRegression()),('svm',SVC())])"
      ],
      "execution_count": 0,
      "outputs": []
    },
    {
      "metadata": {
        "id": "mKHPvMrpnczX",
        "colab_type": "code",
        "colab": {
          "base_uri": "https://localhost:8080/",
          "height": 241
        },
        "outputId": "4c6813a0-c6d3-41a8-d52d-0faf78c97d00"
      },
      "cell_type": "code",
      "source": [
        "vc.fit(x_train,y_train)"
      ],
      "execution_count": 85,
      "outputs": [
        {
          "output_type": "stream",
          "text": [
            "/usr/local/lib/python3.6/dist-packages/sklearn/preprocessing/label.py:95: DataConversionWarning: A column-vector y was passed when a 1d array was expected. Please change the shape of y to (n_samples, ), for example using ravel().\n",
            "  y = column_or_1d(y, warn=True)\n",
            "/usr/local/lib/python3.6/dist-packages/sklearn/preprocessing/label.py:128: DataConversionWarning: A column-vector y was passed when a 1d array was expected. Please change the shape of y to (n_samples, ), for example using ravel().\n",
            "  y = column_or_1d(y, warn=True)\n"
          ],
          "name": "stderr"
        },
        {
          "output_type": "execute_result",
          "data": {
            "text/plain": [
              "VotingClassifier(estimators=[('tree', DecisionTreeClassifier(class_weight=None, criterion='gini', max_depth=None,\n",
              "            max_features=None, max_leaf_nodes=None,\n",
              "            min_impurity_decrease=0.0, min_impurity_split=None,\n",
              "            min_samples_leaf=1, min_samples_split=2,\n",
              "            min_weight_fraction_le...,\n",
              "  max_iter=-1, probability=False, random_state=None, shrinking=True,\n",
              "  tol=0.001, verbose=False))],\n",
              "         flatten_transform=None, n_jobs=1, voting='hard', weights=None)"
            ]
          },
          "metadata": {
            "tags": []
          },
          "execution_count": 85
        }
      ]
    },
    {
      "metadata": {
        "id": "QMspOf-snmV2",
        "colab_type": "code",
        "colab": {
          "base_uri": "https://localhost:8080/",
          "height": 71
        },
        "outputId": "df51ef32-26a9-4e00-c406-62c278ecbe0c"
      },
      "cell_type": "code",
      "source": [
        "vc_predict=vc.predict(x_test)"
      ],
      "execution_count": 86,
      "outputs": [
        {
          "output_type": "stream",
          "text": [
            "/usr/local/lib/python3.6/dist-packages/sklearn/preprocessing/label.py:151: DeprecationWarning: The truth value of an empty array is ambiguous. Returning False, but in future this will result in an error. Use `array.size > 0` to check that an array is not empty.\n",
            "  if diff:\n"
          ],
          "name": "stderr"
        }
      ]
    },
    {
      "metadata": {
        "id": "08go46uZoCy8",
        "colab_type": "code",
        "colab": {
          "base_uri": "https://localhost:8080/",
          "height": 34
        },
        "outputId": "79568348-f86f-4ddc-b819-7a9a4421ccef"
      },
      "cell_type": "code",
      "source": [
        "print(met.accuracy_score(y_test,vc_predict))"
      ],
      "execution_count": 87,
      "outputs": [
        {
          "output_type": "stream",
          "text": [
            "0.9074074074074074\n"
          ],
          "name": "stdout"
        }
      ]
    }
  ]
}