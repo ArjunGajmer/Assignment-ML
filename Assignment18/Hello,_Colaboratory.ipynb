{
  "nbformat": 4,
  "nbformat_minor": 0,
  "metadata": {
    "colab": {
      "name": "Hello, Colaboratory",
      "version": "0.3.2",
      "views": {},
      "default_view": {},
      "provenance": [],
      "collapsed_sections": []
    },
    "kernelspec": {
      "display_name": "Python 3",
      "name": "python3"
    }
  },
  "cells": [
    {
      "metadata": {
        "id": "e4LY335g9js_",
        "colab_type": "code",
        "colab": {
          "autoexec": {
            "startup": false,
            "wait_interval": 0
          },
          "base_uri": "https://localhost:8080/",
          "height": 17
        },
        "outputId": "801914bd-9100-4fd3-bf3d-e3ffef699bf0",
        "executionInfo": {
          "status": "ok",
          "timestamp": 1529999338478,
          "user_tz": -330,
          "elapsed": 1036,
          "user": {
            "displayName": "",
            "photoUrl": "",
            "userId": ""
          }
        }
      },
      "cell_type": "code",
      "source": [
        "import pandas as pd\n",
        "\n",
        "import numpy as np\n",
        "\n",
        "from scipy.stats import mode \n",
        "import sklearn.datasets as dt\n",
        "\n",
        "import matplotlib.pyplot as plt\n",
        "import seaborn as sns\n",
        "\n",
        "from sklearn.cluster import KMeans\n",
        "import sklearn.metrics as met"
      ],
      "execution_count": 26,
      "outputs": []
    },
    {
      "metadata": {
        "id": "6YG8Cn6F9oMZ",
        "colab_type": "code",
        "colab": {
          "autoexec": {
            "startup": false,
            "wait_interval": 0
          },
          "base_uri": "https://localhost:8080/",
          "height": 17
        },
        "outputId": "a91af962-fbfa-4eaa-9681-2fa436d33a1a",
        "executionInfo": {
          "status": "ok",
          "timestamp": 1529999220144,
          "user_tz": -330,
          "elapsed": 1242,
          "user": {
            "displayName": "",
            "photoUrl": "",
            "userId": ""
          }
        }
      },
      "cell_type": "code",
      "source": [
        "df=dt.load_digits()"
      ],
      "execution_count": 17,
      "outputs": []
    },
    {
      "metadata": {
        "id": "w9KVFZwB9tjj",
        "colab_type": "code",
        "colab": {
          "autoexec": {
            "startup": false,
            "wait_interval": 0
          },
          "base_uri": "https://localhost:8080/",
          "height": 17
        },
        "outputId": "73b4e6aa-927b-4b32-8a90-9d7f250dae9c",
        "executionInfo": {
          "status": "ok",
          "timestamp": 1529999221144,
          "user_tz": -330,
          "elapsed": 866,
          "user": {
            "displayName": "",
            "photoUrl": "",
            "userId": ""
          }
        }
      },
      "cell_type": "code",
      "source": [
        "X=df.data"
      ],
      "execution_count": 18,
      "outputs": []
    },
    {
      "metadata": {
        "id": "WOyH4RNW_FAd",
        "colab_type": "code",
        "colab": {
          "autoexec": {
            "startup": false,
            "wait_interval": 0
          },
          "base_uri": "https://localhost:8080/",
          "height": 17
        },
        "outputId": "922a84a5-371c-4571-a910-5d921fb0cf8a",
        "executionInfo": {
          "status": "ok",
          "timestamp": 1529999222153,
          "user_tz": -330,
          "elapsed": 886,
          "user": {
            "displayName": "",
            "photoUrl": "",
            "userId": ""
          }
        }
      },
      "cell_type": "code",
      "source": [
        "Y=df.target"
      ],
      "execution_count": 19,
      "outputs": []
    },
    {
      "metadata": {
        "id": "kl0dy0_J_GRx",
        "colab_type": "code",
        "colab": {
          "autoexec": {
            "startup": false,
            "wait_interval": 0
          },
          "base_uri": "https://localhost:8080/",
          "height": 17
        },
        "outputId": "289c3b1e-12d0-4b4e-e7e1-1e02f3948555",
        "executionInfo": {
          "status": "ok",
          "timestamp": 1529999223235,
          "user_tz": -330,
          "elapsed": 963,
          "user": {
            "displayName": "",
            "photoUrl": "",
            "userId": ""
          }
        }
      },
      "cell_type": "code",
      "source": [
        "kmeans=KMeans(n_clusters=10)"
      ],
      "execution_count": 20,
      "outputs": []
    },
    {
      "metadata": {
        "id": "VsvkBI5f_KWc",
        "colab_type": "code",
        "colab": {
          "autoexec": {
            "startup": false,
            "wait_interval": 0
          },
          "base_uri": "https://localhost:8080/",
          "height": 17
        },
        "outputId": "9eb8f1c9-0cea-4e20-b119-e33e64aed564",
        "executionInfo": {
          "status": "ok",
          "timestamp": 1529999224294,
          "user_tz": -330,
          "elapsed": 943,
          "user": {
            "displayName": "",
            "photoUrl": "",
            "userId": ""
          }
        }
      },
      "cell_type": "code",
      "source": [
        "predict=kmeans.fit_predict(X)"
      ],
      "execution_count": 21,
      "outputs": []
    },
    {
      "metadata": {
        "id": "iPmAySle_ipt",
        "colab_type": "code",
        "colab": {
          "autoexec": {
            "startup": false,
            "wait_interval": 0
          },
          "base_uri": "https://localhost:8080/",
          "height": 17
        },
        "outputId": "9d8067f1-a42f-421a-b933-44eec250d0ee",
        "executionInfo": {
          "status": "ok",
          "timestamp": 1529999263434,
          "user_tz": -330,
          "elapsed": 1052,
          "user": {
            "displayName": "",
            "photoUrl": "",
            "userId": ""
          }
        }
      },
      "cell_type": "code",
      "source": [
        "labels = np.zeros_like(predict)\n",
        "for i in range(10):\n",
        "    mask = (predict==i)\n",
        "    labels[mask] = mode(Y[mask])[0]"
      ],
      "execution_count": 25,
      "outputs": []
    },
    {
      "metadata": {
        "id": "C-4zm6diDaYM",
        "colab_type": "code",
        "colab": {
          "autoexec": {
            "startup": false,
            "wait_interval": 0
          },
          "base_uri": "https://localhost:8080/",
          "height": 51
        },
        "outputId": "6c44f52d-fc40-4f38-9747-045431b42030",
        "executionInfo": {
          "status": "ok",
          "timestamp": 1529999512219,
          "user_tz": -330,
          "elapsed": 1072,
          "user": {
            "displayName": "",
            "photoUrl": "",
            "userId": ""
          }
        }
      },
      "cell_type": "code",
      "source": [
        "print(\"Accuracy Score\\n\\t\",met.accuracy_score(Y,labels))\n"
      ],
      "execution_count": 30,
      "outputs": [
        {
          "output_type": "stream",
          "text": [
            "Accuracy Score\n",
            "\t 0.7952142459654981\n"
          ],
          "name": "stdout"
        }
      ]
    },
    {
      "metadata": {
        "id": "Bm3ZLV4rEvGU",
        "colab_type": "code",
        "colab": {
          "autoexec": {
            "startup": false,
            "wait_interval": 0
          },
          "base_uri": "https://localhost:8080/",
          "height": 204
        },
        "outputId": "b5abfb5c-00e0-4a77-c9e7-787bf455c0da",
        "executionInfo": {
          "status": "ok",
          "timestamp": 1529999527215,
          "user_tz": -330,
          "elapsed": 998,
          "user": {
            "displayName": "",
            "photoUrl": "",
            "userId": ""
          }
        }
      },
      "cell_type": "code",
      "source": [
        "print(\"Confusion Matrix::\\n\",met.confusion_matrix(Y,labels))"
      ],
      "execution_count": 32,
      "outputs": [
        {
          "output_type": "stream",
          "text": [
            "Confusion Matrix::\n",
            " [[176   0   0   0   2   0   0   0   0   0]\n",
            " [  0  55  24   1   0   1   2   0  99   0]\n",
            " [  1   2 148  13   0   0   0   3   8   2]\n",
            " [  0   0   0 155   0   2   0   7   7  12]\n",
            " [  0   3   0   0 166   0   0   8   4   0]\n",
            " [  0   0   0   1   2 136   1   0   0  42]\n",
            " [  1   1   0   0   0   0 177   0   2   0]\n",
            " [  0   0   0   0   0   0   0 176   3   0]\n",
            " [  0   6   3   2   0   4   2   5 101  51]\n",
            " [  0  20   0   6   0   6   0   7   2 139]]\n"
          ],
          "name": "stdout"
        }
      ]
    },
    {
      "metadata": {
        "id": "wY8hskfLFAjh",
        "colab_type": "code",
        "colab": {
          "autoexec": {
            "startup": false,
            "wait_interval": 0
          },
          "base_uri": "https://localhost:8080/",
          "height": 289
        },
        "outputId": "d8bc2683-2893-490e-87d1-be44736f75cb",
        "executionInfo": {
          "status": "ok",
          "timestamp": 1529999567059,
          "user_tz": -330,
          "elapsed": 955,
          "user": {
            "displayName": "",
            "photoUrl": "",
            "userId": ""
          }
        }
      },
      "cell_type": "code",
      "source": [
        "print(\"Classification Report::\\n\",met.classification_report(Y,labels))"
      ],
      "execution_count": 33,
      "outputs": [
        {
          "output_type": "stream",
          "text": [
            "Classification Report::\n",
            "              precision    recall  f1-score   support\n",
            "\n",
            "          0       0.99      0.99      0.99       178\n",
            "          1       0.63      0.30      0.41       182\n",
            "          2       0.85      0.84      0.84       177\n",
            "          3       0.87      0.85      0.86       183\n",
            "          4       0.98      0.92      0.95       181\n",
            "          5       0.91      0.75      0.82       182\n",
            "          6       0.97      0.98      0.98       181\n",
            "          7       0.85      0.98      0.91       179\n",
            "          8       0.45      0.58      0.51       174\n",
            "          9       0.57      0.77      0.65       180\n",
            "\n",
            "avg / total       0.81      0.80      0.79      1797\n",
            "\n"
          ],
          "name": "stdout"
        }
      ]
    },
    {
      "metadata": {
        "id": "nBpaaAo6FKSF",
        "colab_type": "code",
        "colab": {
          "autoexec": {
            "startup": false,
            "wait_interval": 0
          }
        }
      },
      "cell_type": "code",
      "source": [
        ""
      ],
      "execution_count": 0,
      "outputs": []
    }
  ]
}