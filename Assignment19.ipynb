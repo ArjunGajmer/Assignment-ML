{
  "nbformat": 4,
  "nbformat_minor": 0,
  "metadata": {
    "colab": {
      "name": "Untitled19.ipynb",
      "version": "0.3.2",
      "provenance": [],
      "include_colab_link": true
    },
    "kernelspec": {
      "name": "python3",
      "display_name": "Python 3"
    }
  },
  "cells": [
    {
      "cell_type": "markdown",
      "metadata": {
        "id": "view-in-github",
        "colab_type": "text"
      },
      "source": [
        "[View in Colaboratory](https://colab.research.google.com/github/ArjunGajmer/Assignment-ML/blob/master/Assignment19.ipynb)"
      ]
    },
    {
      "metadata": {
        "id": "GBVt0QbNwWlc",
        "colab_type": "text"
      },
      "cell_type": "markdown",
      "source": [
        "# Question 1"
      ]
    },
    {
      "metadata": {
        "id": "KNmxpU7iJGXy",
        "colab_type": "code",
        "colab": {
          "base_uri": "https://localhost:8080/",
          "height": 17
        },
        "outputId": "7e9f5549-bf89-4a11-e3dc-315764d53ea0"
      },
      "cell_type": "code",
      "source": [
        "print('(a-1)*(b+c)')"
      ],
      "execution_count": 0,
      "outputs": []
    },
    {
      "metadata": {
        "id": "2eoRmUE5wcdk",
        "colab_type": "text"
      },
      "cell_type": "markdown",
      "source": [
        "# Question 2"
      ]
    },
    {
      "metadata": {
        "id": "vPx7KrxTwWDd",
        "colab_type": "code",
        "colab": {
          "base_uri": "https://localhost:8080/",
          "height": 17
        },
        "outputId": "75a1c6ae-292b-40dc-a213-dc4f0b50165e"
      },
      "cell_type": "code",
      "source": [
        "x1 = -0.06\n",
        "x2 = -2.5\n",
        "x3 = 1.4"
      ],
      "execution_count": 1,
      "outputs": []
    },
    {
      "metadata": {
        "id": "APJLUtZxwmPM",
        "colab_type": "code",
        "colab": {
          "base_uri": "https://localhost:8080/",
          "height": 17
        },
        "outputId": "904470ac-0162-4439-b011-a2b05607b0c1"
      },
      "cell_type": "code",
      "source": [
        "w1 = 2.7\n",
        "w2 = -8.6\n",
        "w3 = 0.002"
      ],
      "execution_count": 2,
      "outputs": []
    },
    {
      "metadata": {
        "id": "Hjrbyoqow0lW",
        "colab_type": "code",
        "colab": {
          "base_uri": "https://localhost:8080/",
          "height": 17
        },
        "outputId": "fe4045cd-5d9c-4679-8ebd-fdfa478ff7f7"
      },
      "cell_type": "code",
      "source": [
        "X = (w1*x1) + (w2*x2) +(w3*x3)"
      ],
      "execution_count": 4,
      "outputs": []
    },
    {
      "metadata": {
        "id": "GeEGt_KJwpwD",
        "colab_type": "code",
        "colab": {
          "base_uri": "https://localhost:8080/",
          "height": 17
        },
        "outputId": "9f3d7323-8041-46c6-d3a2-7f31dd355669"
      },
      "cell_type": "code",
      "source": [
        "import math"
      ],
      "execution_count": 5,
      "outputs": []
    },
    {
      "metadata": {
        "id": "kVKiS1UNwu8c",
        "colab_type": "code",
        "colab": {
          "base_uri": "https://localhost:8080/",
          "height": 17
        },
        "outputId": "79a61d0a-14e7-469b-8c2f-e83d466e5ce7"
      },
      "cell_type": "code",
      "source": [
        "f = 1 / (1 + math.exp(-X))"
      ],
      "execution_count": 6,
      "outputs": []
    },
    {
      "metadata": {
        "id": "bqDrbPSiw4XB",
        "colab_type": "code",
        "colab": {
          "base_uri": "https://localhost:8080/",
          "height": 34
        },
        "outputId": "7eb1d297-d6ca-4fd2-d24d-271b81ab5999"
      },
      "cell_type": "code",
      "source": [
        "f"
      ],
      "execution_count": 7,
      "outputs": [
        {
          "output_type": "execute_result",
          "data": {
            "text/plain": [
              "0.9999999994607274"
            ]
          },
          "metadata": {
            "tags": []
          },
          "execution_count": 7
        }
      ]
    },
    {
      "metadata": {
        "id": "ZrOrJSeVxBoU",
        "colab_type": "code",
        "colab": {
          "base_uri": "https://localhost:8080/",
          "height": 17
        },
        "outputId": "e1d3f8cf-69c4-44d5-9071-35ee5c162499"
      },
      "cell_type": "code",
      "source": [
        "bias = -1.1"
      ],
      "execution_count": 8,
      "outputs": []
    },
    {
      "metadata": {
        "id": "N-adrbEgxEwy",
        "colab_type": "code",
        "colab": {
          "base_uri": "https://localhost:8080/",
          "height": 17
        },
        "outputId": "bfee159b-8882-445a-9917-111266122f7a"
      },
      "cell_type": "code",
      "source": [
        "XX = X + bias"
      ],
      "execution_count": 9,
      "outputs": []
    },
    {
      "metadata": {
        "id": "pgy7dICMxIVQ",
        "colab_type": "code",
        "colab": {
          "base_uri": "https://localhost:8080/",
          "height": 17
        },
        "outputId": "25695eb4-554e-454b-d8a9-59166c4f672e"
      },
      "cell_type": "code",
      "source": [
        "ff = 1 / (1 + math.exp(-XX))"
      ],
      "execution_count": 11,
      "outputs": []
    },
    {
      "metadata": {
        "id": "5bgfwiZoxL9p",
        "colab_type": "code",
        "colab": {
          "base_uri": "https://localhost:8080/",
          "height": 34
        },
        "outputId": "a0114d10-a7a5-4ded-fd9c-c20b40fc390c"
      },
      "cell_type": "code",
      "source": [
        "ff"
      ],
      "execution_count": 12,
      "outputs": [
        {
          "output_type": "execute_result",
          "data": {
            "text/plain": [
              "0.9999999983799357"
            ]
          },
          "metadata": {
            "tags": []
          },
          "execution_count": 12
        }
      ]
    },
    {
      "metadata": {
        "id": "mjsqyd6DxPks",
        "colab_type": "code",
        "colab": {}
      },
      "cell_type": "code",
      "source": [
        ""
      ],
      "execution_count": 0,
      "outputs": []
    }
  ]
}