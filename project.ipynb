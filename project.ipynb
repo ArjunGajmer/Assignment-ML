{
 "cells": [
  {
   "cell_type": "markdown",
   "metadata": {
    "colab_type": "text",
    "id": "MLNLtqV1a1NW"
   },
   "source": [
    "# United States Census Income"
   ]
  },
  {
   "cell_type": "markdown",
   "metadata": {
    "colab_type": "text",
    "id": "1yTW94p4VR7-"
   },
   "source": [
    "The  aim of the project  is to  working on United States Census datasets for predicting  the income of a person ,preparing EDA,Datacleaning and feature engineering.\n"
   ]
  },
  {
   "cell_type": "markdown",
   "metadata": {
    "colab_type": "text",
    "id": "Xx2J5AmvZ8M1"
   },
   "source": [
    "## Data Description\n",
    "\n",
    "The Us Adult income dataset was extracted by Barry Becker from the 1994 US Census [Database](https://github.com/ArjunGajmer/United-State-Census/blob/master/census.csv). The data set consists of anonymous information such as occupation, age, native country, race, capital gain, capital loss, education, work class and more. Each row is labelled as either having a salary greater than \">50K\" or \"<=50K\".\n",
    "\n",
    "The dataset doesn't have specified the columns so it has been specified manually .\n",
    "The dataset consists of continous and categorical data along with some missing values.It has 32,561 rows and 15 columns.\n",
    "\n",
    "## Attributes\n",
    "1. age: continuous.\n",
    "2. workclass: Private, Self-emp-not-inc, Self-emp-inc, Federal-gov, Local-gov, State-gov, Without-pay, Never-worked.\n",
    "3. fnlwgt: continuous.\n",
    "4. education: Bachelors, Some-college, 11th, HS-grad, Prof-school, Assoc-acdm, Assoc-voc, 9th, 7th-8th, 12th, Masters, 1st-4th, 10th, Doctorate, 5th-6th, Preschool.\n",
    "5. education-num: continuous.\n",
    "6. marital-status: Married-civ-spouse, Divorced, Never-married, Separated, Widowed, Married-spouse-absent, Married-AF-spouse.\n",
    "7. occupation: Tech-support, Craft-repair, Other-service, Sales, Exec-managerial, Prof-specialty, 8. Handlers-cleaners, Machine-op-inspct, Adm-clerical, Farming-fishing, Transport-moving, Priv-house-serv, Protective-serv, Armed-Forces.\n",
    "8. relationship: Wife, Own-child, Husband, Not-in-family, Other-relative, Unmarried.\n",
    "9. race: White, Asian-Pac-Islander, Amer-Indian-Eskimo, Other, Black.\n",
    "10. sex: Female, Male.\n",
    "11. capital-gain: continuous.\n",
    "12. capital-loss: continuous.\n",
    "13. hours-per-week: continuous.\n",
    "14. native-country: United-States, Cambodia, England, Puerto-Rico, Canada, Germany, Outlying-US(Guam-USVI-etc), India, Japan, Greece, South, China, Cuba, Iran, Honduras, Philippines, Italy, Poland, Jamaica, Vietnam, Mexico, Portugal, Ireland, France, Dominican-Republic, Laos, Ecuador, Taiwan, Haiti, Columbia, Hungary, Guatemala, Nicaragua, Scotland, Thailand, Yugoslavia, El-Salvador, Trinadad&Tobago, Peru, Hong, Holand-Netherlands.\n",
    "15. Inome\n",
    " \n",
    " \n",
    " \n",
    " "
   ]
  },
  {
   "cell_type": "markdown",
   "metadata": {
    "colab_type": "text",
    "id": "Cbb-THE4eSD1"
   },
   "source": [
    "## Importing Libraries "
   ]
  },
  {
   "cell_type": "code",
   "execution_count": 224,
   "metadata": {
    "colab": {},
    "colab_type": "code",
    "id": "XZYicQsU6UKq"
   },
   "outputs": [],
   "source": [
    "import pandas as pd\n",
    "import numpy as np\n",
    "\n",
    "import matplotlib.pyplot as plt\n",
    "import seaborn as sns\n",
    "from sklearn import preprocessing\n",
    "\n",
    "from sklearn.cross_validation import train_test_split\n",
    "from sklearn.linear_model import LogisticRegression\n",
    "import sklearn.metrics  as met\n",
    "from sklearn.svm import SVC\n",
    "from sklearn.tree import DecisionTreeClassifier\n",
    "from sklearn.ensemble import *"
   ]
  },
  {
   "cell_type": "code",
   "execution_count": 225,
   "metadata": {
    "colab": {},
    "colab_type": "code",
    "id": "hrvBGXkQHFEa"
   },
   "outputs": [],
   "source": [
    "columns=['Age','Workclass','fnlgwt','Education','Education_num','Marital_Status',\n",
    "           'Occupation','Relationship','Race','Sex','Capital_Gain','Capital_Loss',\n",
    "           'HoursperWeek','Native_country','Income']"
   ]
  },
  {
   "cell_type": "markdown",
   "metadata": {
    "colab_type": "text",
    "id": "FJpUgtPnVWTV"
   },
   "source": [
    "## Loading dataset"
   ]
  },
  {
   "cell_type": "code",
   "execution_count": 226,
   "metadata": {
    "colab": {},
    "colab_type": "code",
    "id": "7QUlH2ko6Vpv"
   },
   "outputs": [],
   "source": [
    "df=pd.read_csv('https://raw.githubusercontent.com/ArjunGajmer/United-State-Census/master/census.csv',names=columns)\n"
   ]
  },
  {
   "cell_type": "code",
   "execution_count": 227,
   "metadata": {
    "colab": {
     "base_uri": "https://localhost:8080/",
     "height": 326
    },
    "colab_type": "code",
    "id": "-AHiD_s886S9",
    "outputId": "bb665346-bc6e-4152-ec0d-f989ada00236"
   },
   "outputs": [
    {
     "name": "stdout",
     "output_type": "stream",
     "text": [
      "First five rows of dataframe:\n",
      " \n"
     ]
    },
    {
     "data": {
      "text/html": [
       "<div>\n",
       "<style scoped>\n",
       "    .dataframe tbody tr th:only-of-type {\n",
       "        vertical-align: middle;\n",
       "    }\n",
       "\n",
       "    .dataframe tbody tr th {\n",
       "        vertical-align: top;\n",
       "    }\n",
       "\n",
       "    .dataframe thead th {\n",
       "        text-align: right;\n",
       "    }\n",
       "</style>\n",
       "<table border=\"1\" class=\"dataframe\">\n",
       "  <thead>\n",
       "    <tr style=\"text-align: right;\">\n",
       "      <th></th>\n",
       "      <th>Age</th>\n",
       "      <th>Workclass</th>\n",
       "      <th>fnlgwt</th>\n",
       "      <th>Education</th>\n",
       "      <th>Education_num</th>\n",
       "      <th>Marital_Status</th>\n",
       "      <th>Occupation</th>\n",
       "      <th>Relationship</th>\n",
       "      <th>Race</th>\n",
       "      <th>Sex</th>\n",
       "      <th>Capital_Gain</th>\n",
       "      <th>Capital_Loss</th>\n",
       "      <th>HoursperWeek</th>\n",
       "      <th>Native_country</th>\n",
       "      <th>Income</th>\n",
       "    </tr>\n",
       "  </thead>\n",
       "  <tbody>\n",
       "    <tr>\n",
       "      <th>0</th>\n",
       "      <td>39</td>\n",
       "      <td>State-gov</td>\n",
       "      <td>77516</td>\n",
       "      <td>Bachelors</td>\n",
       "      <td>13</td>\n",
       "      <td>Never-married</td>\n",
       "      <td>Adm-clerical</td>\n",
       "      <td>Not-in-family</td>\n",
       "      <td>White</td>\n",
       "      <td>Male</td>\n",
       "      <td>2174</td>\n",
       "      <td>0</td>\n",
       "      <td>40</td>\n",
       "      <td>United-States</td>\n",
       "      <td>&lt;=50K</td>\n",
       "    </tr>\n",
       "    <tr>\n",
       "      <th>1</th>\n",
       "      <td>50</td>\n",
       "      <td>Self-emp-not-inc</td>\n",
       "      <td>83311</td>\n",
       "      <td>Bachelors</td>\n",
       "      <td>13</td>\n",
       "      <td>Married-civ-spouse</td>\n",
       "      <td>Exec-managerial</td>\n",
       "      <td>Husband</td>\n",
       "      <td>White</td>\n",
       "      <td>Male</td>\n",
       "      <td>0</td>\n",
       "      <td>0</td>\n",
       "      <td>13</td>\n",
       "      <td>United-States</td>\n",
       "      <td>&lt;=50K</td>\n",
       "    </tr>\n",
       "    <tr>\n",
       "      <th>2</th>\n",
       "      <td>38</td>\n",
       "      <td>Private</td>\n",
       "      <td>215646</td>\n",
       "      <td>HS-grad</td>\n",
       "      <td>9</td>\n",
       "      <td>Divorced</td>\n",
       "      <td>Handlers-cleaners</td>\n",
       "      <td>Not-in-family</td>\n",
       "      <td>White</td>\n",
       "      <td>Male</td>\n",
       "      <td>0</td>\n",
       "      <td>0</td>\n",
       "      <td>40</td>\n",
       "      <td>United-States</td>\n",
       "      <td>&lt;=50K</td>\n",
       "    </tr>\n",
       "    <tr>\n",
       "      <th>3</th>\n",
       "      <td>53</td>\n",
       "      <td>Private</td>\n",
       "      <td>234721</td>\n",
       "      <td>11th</td>\n",
       "      <td>7</td>\n",
       "      <td>Married-civ-spouse</td>\n",
       "      <td>Handlers-cleaners</td>\n",
       "      <td>Husband</td>\n",
       "      <td>Black</td>\n",
       "      <td>Male</td>\n",
       "      <td>0</td>\n",
       "      <td>0</td>\n",
       "      <td>40</td>\n",
       "      <td>United-States</td>\n",
       "      <td>&lt;=50K</td>\n",
       "    </tr>\n",
       "    <tr>\n",
       "      <th>4</th>\n",
       "      <td>28</td>\n",
       "      <td>Private</td>\n",
       "      <td>338409</td>\n",
       "      <td>Bachelors</td>\n",
       "      <td>13</td>\n",
       "      <td>Married-civ-spouse</td>\n",
       "      <td>Prof-specialty</td>\n",
       "      <td>Wife</td>\n",
       "      <td>Black</td>\n",
       "      <td>Female</td>\n",
       "      <td>0</td>\n",
       "      <td>0</td>\n",
       "      <td>40</td>\n",
       "      <td>Cuba</td>\n",
       "      <td>&lt;=50K</td>\n",
       "    </tr>\n",
       "  </tbody>\n",
       "</table>\n",
       "</div>"
      ],
      "text/plain": [
       "   Age          Workclass  fnlgwt   Education  Education_num  \\\n",
       "0   39          State-gov   77516   Bachelors             13   \n",
       "1   50   Self-emp-not-inc   83311   Bachelors             13   \n",
       "2   38            Private  215646     HS-grad              9   \n",
       "3   53            Private  234721        11th              7   \n",
       "4   28            Private  338409   Bachelors             13   \n",
       "\n",
       "        Marital_Status          Occupation    Relationship    Race      Sex  \\\n",
       "0        Never-married        Adm-clerical   Not-in-family   White     Male   \n",
       "1   Married-civ-spouse     Exec-managerial         Husband   White     Male   \n",
       "2             Divorced   Handlers-cleaners   Not-in-family   White     Male   \n",
       "3   Married-civ-spouse   Handlers-cleaners         Husband   Black     Male   \n",
       "4   Married-civ-spouse      Prof-specialty            Wife   Black   Female   \n",
       "\n",
       "   Capital_Gain  Capital_Loss  HoursperWeek  Native_country  Income  \n",
       "0          2174             0            40   United-States   <=50K  \n",
       "1             0             0            13   United-States   <=50K  \n",
       "2             0             0            40   United-States   <=50K  \n",
       "3             0             0            40   United-States   <=50K  \n",
       "4             0             0            40            Cuba   <=50K  "
      ]
     },
     "execution_count": 227,
     "metadata": {},
     "output_type": "execute_result"
    }
   ],
   "source": [
    "print('First five rows of dataframe:\\n ')\n",
    "df.head()"
   ]
  },
  {
   "cell_type": "code",
   "execution_count": 228,
   "metadata": {
    "colab": {
     "base_uri": "https://localhost:8080/",
     "height": 51
    },
    "colab_type": "code",
    "id": "cvJdxzdv8_j5",
    "outputId": "c8dd2dfe-ab15-48a2-c6b5-25ed5ced4830"
   },
   "outputs": [
    {
     "name": "stdout",
     "output_type": "stream",
     "text": [
      "Shape: \n"
     ]
    },
    {
     "data": {
      "text/plain": [
       "(32561, 15)"
      ]
     },
     "execution_count": 228,
     "metadata": {},
     "output_type": "execute_result"
    }
   ],
   "source": [
    "\n",
    "print('Shape: ')\n",
    "original_shape=df.shape\n",
    "original_shape\n"
   ]
  },
  {
   "cell_type": "code",
   "execution_count": 229,
   "metadata": {
    "colab": {
     "base_uri": "https://localhost:8080/",
     "height": 51
    },
    "colab_type": "code",
    "id": "uqqqFPCfRnEI",
    "outputId": "e3df3267-d335-45df-fb39-3be7c261be03"
   },
   "outputs": [
    {
     "name": "stdout",
     "output_type": "stream",
     "text": [
      "Size: \n"
     ]
    },
    {
     "data": {
      "text/plain": [
       "488415"
      ]
     },
     "execution_count": 229,
     "metadata": {},
     "output_type": "execute_result"
    }
   ],
   "source": [
    "print('Size: ')\n",
    "df.size"
   ]
  },
  {
   "cell_type": "code",
   "execution_count": 230,
   "metadata": {
    "colab": {
     "base_uri": "https://localhost:8080/",
     "height": 314
    },
    "colab_type": "code",
    "id": "Hei7LcgH9p4L",
    "outputId": "d09c5c2f-9adf-4093-eef3-a277e77f6427"
   },
   "outputs": [
    {
     "name": "stdout",
     "output_type": "stream",
     "text": [
      "Statistical Decription of nummerical data:\n"
     ]
    },
    {
     "data": {
      "text/html": [
       "<div>\n",
       "<style scoped>\n",
       "    .dataframe tbody tr th:only-of-type {\n",
       "        vertical-align: middle;\n",
       "    }\n",
       "\n",
       "    .dataframe tbody tr th {\n",
       "        vertical-align: top;\n",
       "    }\n",
       "\n",
       "    .dataframe thead th {\n",
       "        text-align: right;\n",
       "    }\n",
       "</style>\n",
       "<table border=\"1\" class=\"dataframe\">\n",
       "  <thead>\n",
       "    <tr style=\"text-align: right;\">\n",
       "      <th></th>\n",
       "      <th>Age</th>\n",
       "      <th>fnlgwt</th>\n",
       "      <th>Education_num</th>\n",
       "      <th>Capital_Gain</th>\n",
       "      <th>Capital_Loss</th>\n",
       "      <th>HoursperWeek</th>\n",
       "    </tr>\n",
       "  </thead>\n",
       "  <tbody>\n",
       "    <tr>\n",
       "      <th>count</th>\n",
       "      <td>32561.000000</td>\n",
       "      <td>3.256100e+04</td>\n",
       "      <td>32561.000000</td>\n",
       "      <td>32561.000000</td>\n",
       "      <td>32561.000000</td>\n",
       "      <td>32561.000000</td>\n",
       "    </tr>\n",
       "    <tr>\n",
       "      <th>mean</th>\n",
       "      <td>38.581647</td>\n",
       "      <td>1.897784e+05</td>\n",
       "      <td>10.080679</td>\n",
       "      <td>1077.648844</td>\n",
       "      <td>87.303830</td>\n",
       "      <td>40.437456</td>\n",
       "    </tr>\n",
       "    <tr>\n",
       "      <th>std</th>\n",
       "      <td>13.640433</td>\n",
       "      <td>1.055500e+05</td>\n",
       "      <td>2.572720</td>\n",
       "      <td>7385.292085</td>\n",
       "      <td>402.960219</td>\n",
       "      <td>12.347429</td>\n",
       "    </tr>\n",
       "    <tr>\n",
       "      <th>min</th>\n",
       "      <td>17.000000</td>\n",
       "      <td>1.228500e+04</td>\n",
       "      <td>1.000000</td>\n",
       "      <td>0.000000</td>\n",
       "      <td>0.000000</td>\n",
       "      <td>1.000000</td>\n",
       "    </tr>\n",
       "    <tr>\n",
       "      <th>25%</th>\n",
       "      <td>28.000000</td>\n",
       "      <td>1.178270e+05</td>\n",
       "      <td>9.000000</td>\n",
       "      <td>0.000000</td>\n",
       "      <td>0.000000</td>\n",
       "      <td>40.000000</td>\n",
       "    </tr>\n",
       "    <tr>\n",
       "      <th>50%</th>\n",
       "      <td>37.000000</td>\n",
       "      <td>1.783560e+05</td>\n",
       "      <td>10.000000</td>\n",
       "      <td>0.000000</td>\n",
       "      <td>0.000000</td>\n",
       "      <td>40.000000</td>\n",
       "    </tr>\n",
       "    <tr>\n",
       "      <th>75%</th>\n",
       "      <td>48.000000</td>\n",
       "      <td>2.370510e+05</td>\n",
       "      <td>12.000000</td>\n",
       "      <td>0.000000</td>\n",
       "      <td>0.000000</td>\n",
       "      <td>45.000000</td>\n",
       "    </tr>\n",
       "    <tr>\n",
       "      <th>max</th>\n",
       "      <td>90.000000</td>\n",
       "      <td>1.484705e+06</td>\n",
       "      <td>16.000000</td>\n",
       "      <td>99999.000000</td>\n",
       "      <td>4356.000000</td>\n",
       "      <td>99.000000</td>\n",
       "    </tr>\n",
       "  </tbody>\n",
       "</table>\n",
       "</div>"
      ],
      "text/plain": [
       "                Age        fnlgwt  Education_num  Capital_Gain  Capital_Loss  \\\n",
       "count  32561.000000  3.256100e+04   32561.000000  32561.000000  32561.000000   \n",
       "mean      38.581647  1.897784e+05      10.080679   1077.648844     87.303830   \n",
       "std       13.640433  1.055500e+05       2.572720   7385.292085    402.960219   \n",
       "min       17.000000  1.228500e+04       1.000000      0.000000      0.000000   \n",
       "25%       28.000000  1.178270e+05       9.000000      0.000000      0.000000   \n",
       "50%       37.000000  1.783560e+05      10.000000      0.000000      0.000000   \n",
       "75%       48.000000  2.370510e+05      12.000000      0.000000      0.000000   \n",
       "max       90.000000  1.484705e+06      16.000000  99999.000000   4356.000000   \n",
       "\n",
       "       HoursperWeek  \n",
       "count  32561.000000  \n",
       "mean      40.437456  \n",
       "std       12.347429  \n",
       "min        1.000000  \n",
       "25%       40.000000  \n",
       "50%       40.000000  \n",
       "75%       45.000000  \n",
       "max       99.000000  "
      ]
     },
     "execution_count": 230,
     "metadata": {},
     "output_type": "execute_result"
    }
   ],
   "source": [
    "print('Statistical Decription of nummerical data:')\n",
    "df.describe()"
   ]
  },
  {
   "cell_type": "code",
   "execution_count": 231,
   "metadata": {
    "colab": {
     "base_uri": "https://localhost:8080/",
     "height": 190
    },
    "colab_type": "code",
    "id": "fQY_-P0J91fF",
    "outputId": "f92f35a5-9208-400d-e132-74083203f692"
   },
   "outputs": [
    {
     "name": "stdout",
     "output_type": "stream",
     "text": [
      "Statistical Decription of object\n"
     ]
    },
    {
     "data": {
      "text/html": [
       "<div>\n",
       "<style scoped>\n",
       "    .dataframe tbody tr th:only-of-type {\n",
       "        vertical-align: middle;\n",
       "    }\n",
       "\n",
       "    .dataframe tbody tr th {\n",
       "        vertical-align: top;\n",
       "    }\n",
       "\n",
       "    .dataframe thead th {\n",
       "        text-align: right;\n",
       "    }\n",
       "</style>\n",
       "<table border=\"1\" class=\"dataframe\">\n",
       "  <thead>\n",
       "    <tr style=\"text-align: right;\">\n",
       "      <th></th>\n",
       "      <th>Workclass</th>\n",
       "      <th>Education</th>\n",
       "      <th>Marital_Status</th>\n",
       "      <th>Occupation</th>\n",
       "      <th>Relationship</th>\n",
       "      <th>Race</th>\n",
       "      <th>Sex</th>\n",
       "      <th>Native_country</th>\n",
       "      <th>Income</th>\n",
       "    </tr>\n",
       "  </thead>\n",
       "  <tbody>\n",
       "    <tr>\n",
       "      <th>count</th>\n",
       "      <td>32561</td>\n",
       "      <td>32561</td>\n",
       "      <td>32561</td>\n",
       "      <td>32561</td>\n",
       "      <td>32561</td>\n",
       "      <td>32561</td>\n",
       "      <td>32561</td>\n",
       "      <td>32561</td>\n",
       "      <td>32561</td>\n",
       "    </tr>\n",
       "    <tr>\n",
       "      <th>unique</th>\n",
       "      <td>9</td>\n",
       "      <td>16</td>\n",
       "      <td>7</td>\n",
       "      <td>15</td>\n",
       "      <td>6</td>\n",
       "      <td>5</td>\n",
       "      <td>2</td>\n",
       "      <td>42</td>\n",
       "      <td>2</td>\n",
       "    </tr>\n",
       "    <tr>\n",
       "      <th>top</th>\n",
       "      <td>Private</td>\n",
       "      <td>HS-grad</td>\n",
       "      <td>Married-civ-spouse</td>\n",
       "      <td>Prof-specialty</td>\n",
       "      <td>Husband</td>\n",
       "      <td>White</td>\n",
       "      <td>Male</td>\n",
       "      <td>United-States</td>\n",
       "      <td>&lt;=50K</td>\n",
       "    </tr>\n",
       "    <tr>\n",
       "      <th>freq</th>\n",
       "      <td>22696</td>\n",
       "      <td>10501</td>\n",
       "      <td>14976</td>\n",
       "      <td>4140</td>\n",
       "      <td>13193</td>\n",
       "      <td>27816</td>\n",
       "      <td>21790</td>\n",
       "      <td>29170</td>\n",
       "      <td>24720</td>\n",
       "    </tr>\n",
       "  </tbody>\n",
       "</table>\n",
       "</div>"
      ],
      "text/plain": [
       "       Workclass Education       Marital_Status       Occupation Relationship  \\\n",
       "count      32561     32561                32561            32561        32561   \n",
       "unique         9        16                    7               15            6   \n",
       "top      Private   HS-grad   Married-civ-spouse   Prof-specialty      Husband   \n",
       "freq       22696     10501                14976             4140        13193   \n",
       "\n",
       "          Race    Sex  Native_country  Income  \n",
       "count    32561  32561           32561   32561  \n",
       "unique       5      2              42       2  \n",
       "top      White   Male   United-States   <=50K  \n",
       "freq     27816  21790           29170   24720  "
      ]
     },
     "execution_count": 231,
     "metadata": {},
     "output_type": "execute_result"
    }
   ],
   "source": [
    "print('Statistical Decription of object')\n",
    "df.describe(include='object')"
   ]
  },
  {
   "cell_type": "markdown",
   "metadata": {
    "colab_type": "text",
    "id": "9JtkJvO-SatP"
   },
   "source": [
    "## Data Cleaning"
   ]
  },
  {
   "cell_type": "markdown",
   "metadata": {
    "colab_type": "text",
    "id": "pXuphmhiSj-D"
   },
   "source": [
    "**Checking Null Values**"
   ]
  },
  {
   "cell_type": "code",
   "execution_count": 232,
   "metadata": {
    "colab": {
     "base_uri": "https://localhost:8080/",
     "height": 289
    },
    "colab_type": "code",
    "id": "f8dz5l5Y9Co7",
    "outputId": "e79d1261-95ea-4b64-a9cc-710ed0676c71"
   },
   "outputs": [
    {
     "data": {
      "text/plain": [
       "Age               0\n",
       "Workclass         0\n",
       "fnlgwt            0\n",
       "Education         0\n",
       "Education_num     0\n",
       "Marital_Status    0\n",
       "Occupation        0\n",
       "Relationship      0\n",
       "Race              0\n",
       "Sex               0\n",
       "Capital_Gain      0\n",
       "Capital_Loss      0\n",
       "HoursperWeek      0\n",
       "Native_country    0\n",
       "Income            0\n",
       "dtype: int64"
      ]
     },
     "execution_count": 232,
     "metadata": {},
     "output_type": "execute_result"
    }
   ],
   "source": [
    "df.isnull().sum()"
   ]
  },
  {
   "cell_type": "markdown",
   "metadata": {
    "colab_type": "text",
    "id": "m954r5ynSwVJ"
   },
   "source": [
    "We can see that there is no null value present in the datasets.However there are unkonwn values present in form of '? in the dataset.'"
   ]
  },
  {
   "cell_type": "code",
   "execution_count": 233,
   "metadata": {
    "colab": {
     "base_uri": "https://localhost:8080/",
     "height": 170
    },
    "colab_type": "code",
    "id": "63ouLcE0yg6I",
    "outputId": "39184df4-d9ff-4b15-f24b-28726c716f86"
   },
   "outputs": [
    {
     "name": "stdout",
     "output_type": "stream",
     "text": [
      "Workclass 1836\n",
      "Education 0\n",
      "Marital_Status 0\n",
      "Occupation 1843\n",
      "Relationship 0\n",
      "Race 0\n",
      "Sex 0\n",
      "Native_country 583\n",
      "Income 0\n"
     ]
    }
   ],
   "source": [
    "for col in df.columns:\n",
    "  if df[col].dtypes==object:\n",
    "     print(col,(df[col]==' ?').sum()) "
   ]
  },
  {
   "cell_type": "markdown",
   "metadata": {
    "colab_type": "text",
    "id": "Vw0eXbHtZ5p2"
   },
   "source": [
    "So,we can see that three columns Workclass,Education and Native_country have some unknown values.Let us remove the them."
   ]
  },
  {
   "cell_type": "code",
   "execution_count": 234,
   "metadata": {
    "colab": {},
    "colab_type": "code",
    "id": "8aD-HUN9I1DX"
   },
   "outputs": [],
   "source": [
    "df=df.drop(df[df['Native_country']==' ?'].index,axis=0)\n"
   ]
  },
  {
   "cell_type": "code",
   "execution_count": 235,
   "metadata": {
    "colab": {},
    "colab_type": "code",
    "id": "9DNC0IOxNlCr"
   },
   "outputs": [],
   "source": [
    "df=df.drop(df[df['Workclass']==' ?'].index,axis=0)"
   ]
  },
  {
   "cell_type": "code",
   "execution_count": 236,
   "metadata": {
    "colab": {},
    "colab_type": "code",
    "id": "kqWub6B9SDtn"
   },
   "outputs": [],
   "source": [
    "df=df.drop(df[df['Occupation']==' ?'].index,axis=0)"
   ]
  },
  {
   "cell_type": "code",
   "execution_count": 237,
   "metadata": {
    "colab": {
     "base_uri": "https://localhost:8080/",
     "height": 51
    },
    "colab_type": "code",
    "id": "Nxq3m1YaUPlw",
    "outputId": "ecc2140d-95e3-46e9-a3e6-549012fb8716"
   },
   "outputs": [
    {
     "name": "stdout",
     "output_type": "stream",
     "text": [
      "Shape: \n"
     ]
    },
    {
     "data": {
      "text/plain": [
       "(30162, 15)"
      ]
     },
     "execution_count": 237,
     "metadata": {},
     "output_type": "execute_result"
    }
   ],
   "source": [
    "print('Shape: ')\n",
    "df.shape"
   ]
  },
  {
   "cell_type": "markdown",
   "metadata": {
    "colab_type": "text",
    "id": "CsSpxD4NUGzF"
   },
   "source": [
    "After removing the unknown values we  are reduced to 30162 rows .Let us check whether any unknown values are present in datasets or not. \n",
    "\n"
   ]
  },
  {
   "cell_type": "code",
   "execution_count": 238,
   "metadata": {
    "colab": {
     "base_uri": "https://localhost:8080/",
     "height": 170
    },
    "colab_type": "code",
    "id": "6lcrht1IUBhn",
    "outputId": "a546bb47-ab22-40e0-9f24-7376aed482bf"
   },
   "outputs": [
    {
     "name": "stdout",
     "output_type": "stream",
     "text": [
      "Workclass 0\n",
      "Education 0\n",
      "Marital_Status 0\n",
      "Occupation 0\n",
      "Relationship 0\n",
      "Race 0\n",
      "Sex 0\n",
      "Native_country 0\n",
      "Income 0\n"
     ]
    }
   ],
   "source": [
    "for col in df.columns:\n",
    "  if df[col].dtypes==object:\n",
    "     print(col,(df[col]==' ?').sum()) "
   ]
  },
  {
   "cell_type": "markdown",
   "metadata": {
    "colab_type": "text",
    "id": "9RIEM-Z_U2gy"
   },
   "source": [
    "We have now no null values or unknown values ,hence we have cleaned our datasets."
   ]
  },
  {
   "cell_type": "markdown",
   "metadata": {
    "colab_type": "text",
    "id": "alKoARdkew8E"
   },
   "source": [
    "## Exploratory data analysis(EDA)\n",
    " Here we will try to analysis the data.We will find the relation between various attributes and also find the main factors for responsible the income of a person."
   ]
  },
  {
   "cell_type": "markdown",
   "metadata": {
    "colab_type": "text",
    "id": "gA170vs_htfK"
   },
   "source": [
    "### Univariate Analysis\n",
    "\n",
    "In univariate analysis we will try to analysis the each features separately(one at a time)."
   ]
  },
  {
   "cell_type": "markdown",
   "metadata": {
    "colab_type": "text",
    "id": "ES1PdH0Zg-WD"
   },
   "source": [
    "#### AGE distribution plot\n",
    "\n",
    "\n",
    " The age distribution plot shows that:\n",
    " 1. The census has recorded information most for the age between 30 to 50  years.\n",
    " 2. Some of people are older than 80 years."
   ]
  },
  {
   "cell_type": "code",
   "execution_count": 239,
   "metadata": {
    "colab": {
     "base_uri": "https://localhost:8080/",
     "height": 364
    },
    "colab_type": "code",
    "id": "LyhhrVZ-g9bz",
    "outputId": "2c99fb9d-442d-45e1-9daf-d4fb037dc2f9"
   },
   "outputs": [
    {
     "data": {
      "text/plain": [
       "<matplotlib.axes._subplots.AxesSubplot at 0x1d6b19736d8>"
      ]
     },
     "execution_count": 239,
     "metadata": {},
     "output_type": "execute_result"
    },
    {
     "data": {
      "image/png": "[encoded data removed]",
      "text/plain": [
       "<Figure size 432x288 with 1 Axes>"
      ]
     },
     "metadata": {},
     "output_type": "display_data"
    }
   ],
   "source": [
    "sns.kdeplot(df['Age'],color='black',shade='True')\n"
   ]
  },
  {
   "cell_type": "code",
   "execution_count": 240,
   "metadata": {
    "colab": {
     "base_uri": "https://localhost:8080/",
     "height": 361
    },
    "colab_type": "code",
    "id": "aAfDYgbEhQ_N",
    "outputId": "fe3ec93e-af61-4bd9-ef35-bfc797664484"
   },
   "outputs": [
    {
     "data": {
      "image/png": "[encoded data removed]",
      "text/plain": [
       "<Figure size 432x288 with 1 Axes>"
      ]
     },
     "metadata": {},
     "output_type": "display_data"
    }
   ],
   "source": [
    "sns.boxplot(df.Age,color='red')\n",
    "sns.despine()"
   ]
  },
  {
   "cell_type": "markdown",
   "metadata": {
    "colab_type": "text",
    "id": "4BA26UMuh4uy"
   },
   "source": [
    "#### Race Countplot\n",
    "\n",
    "The race countplot suggests us that white race in numbers is most dominanat over other.There are also people whose race are not verfied yet."
   ]
  },
  {
   "cell_type": "code",
   "execution_count": 241,
   "metadata": {
    "colab": {
     "base_uri": "https://localhost:8080/",
     "height": 361
    },
    "colab_type": "code",
    "id": "qqJDMmoihRTs",
    "outputId": "e6bf3786-2456-4da1-8038-82a18f7c5393"
   },
   "outputs": [
    {
     "data": {
      "image/png": "[encoded data removed]",
      "text/plain": [
       "<Figure size 432x288 with 1 Axes>"
      ]
     },
     "metadata": {},
     "output_type": "display_data"
    }
   ],
   "source": [
    "sns.countplot(df.Race)\n",
    "sns.despine()"
   ]
  },
  {
   "cell_type": "markdown",
   "metadata": {
    "colab_type": "text",
    "id": "4vnUGFB0if0j"
   },
   "source": [
    "#### Income Count Plot\n",
    "\n",
    "The plot suggests us that most of the people are earning less than 50k.Infact people earning more that 50k are even less than half in terms of number  to people who are earning below or equal to 50k."
   ]
  },
  {
   "cell_type": "code",
   "execution_count": 242,
   "metadata": {
    "colab": {
     "base_uri": "https://localhost:8080/",
     "height": 361
    },
    "colab_type": "code",
    "id": "mhwpsBmmhSH2",
    "outputId": "7a8bf85b-e421-4a93-8066-424c88007a54"
   },
   "outputs": [
    {
     "data": {
      "image/png": "[encoded data removed]",
      "text/plain": [
       "<Figure size 432x288 with 1 Axes>"
      ]
     },
     "metadata": {},
     "output_type": "display_data"
    }
   ],
   "source": [
    "sns.countplot(df.Income)\n",
    "sns.despine()\n"
   ]
  },
  {
   "cell_type": "markdown",
   "metadata": {
    "colab_type": "text",
    "id": "4GHmCl18k24z"
   },
   "source": [
    "#### Workclass plot\n",
    "\n",
    "The plot suggests us: \n",
    "1. That most of the population are working in private firm .\n",
    "2. Although there are people working in other department also but are incomparable to population working in private firm.\n",
    "3. People who are self employed are mostly  not in inc,  \n",
    "4. There are also few people who are not paid (around 14)."
   ]
  },
  {
   "cell_type": "code",
   "execution_count": 243,
   "metadata": {
    "colab": {
     "base_uri": "https://localhost:8080/",
     "height": 361
    },
    "colab_type": "code",
    "id": "YfYgxLA1hSE4",
    "outputId": "a9fe3e4a-ac5e-4c82-d9c3-63cf501e6516"
   },
   "outputs": [
    {
     "data": {
      "image/png": "[encoded data removed]",
      "text/plain": [
       "<Figure size 432x288 with 1 Axes>"
      ]
     },
     "metadata": {},
     "output_type": "display_data"
    }
   ],
   "source": [
    "sns.countplot(df.Workclass)\n",
    "sns.despine()"
   ]
  },
  {
   "cell_type": "code",
   "execution_count": 244,
   "metadata": {
    "colab": {
     "base_uri": "https://localhost:8080/",
     "height": 34
    },
    "colab_type": "code",
    "id": "HinI-RBxlnor",
    "outputId": "c38d0621-07bc-47c4-d7a5-7d5e582cfcdb"
   },
   "outputs": [
    {
     "data": {
      "text/plain": [
       "14"
      ]
     },
     "execution_count": 244,
     "metadata": {},
     "output_type": "execute_result"
    }
   ],
   "source": [
    "(df['Workclass']==' Without-pay').sum() "
   ]
  },
  {
   "cell_type": "markdown",
   "metadata": {
    "colab_type": "text",
    "id": "epmFz8kIlQcB"
   },
   "source": [
    "#### Education plot\n",
    "\n",
    "The plot shows that :\n",
    "1. Most popluation are high school garduates ( near about 9500). \n",
    "2. People around 7000 went to some college and around 5000 are bachelors.\n",
    "3. Most people have degree more than 12th satandard.\n"
   ]
  },
  {
   "cell_type": "code",
   "execution_count": 245,
   "metadata": {
    "colab": {
     "base_uri": "https://localhost:8080/",
     "height": 388
    },
    "colab_type": "code",
    "id": "AsxEC9tVhSCC",
    "outputId": "43802470-27f6-4cda-ea58-93f48ee5fdd2"
   },
   "outputs": [
    {
     "data": {
      "image/png": "[encoded data removed]",
      "text/plain": [
       "<Figure size 1296x432 with 1 Axes>"
      ]
     },
     "metadata": {},
     "output_type": "display_data"
    }
   ],
   "source": [
    "plt.figure(figsize=(18,6))\n",
    "sns.countplot(df.Education)\n",
    "sns.despine()\n",
    "plt.show()"
   ]
  },
  {
   "cell_type": "markdown",
   "metadata": {
    "colab_type": "text",
    "id": "mGo8_PKvXslW"
   },
   "source": [
    "#### Working  Hours per week distriburion plot\n",
    "\n",
    "The plot suggest us that:\n",
    "1. Most of the people work for around 40 hours in a week.\n",
    "2. There are few  people who works less than  5 hours in a week .\n",
    "3. There are also few people who are working more than 80 hours in a week."
   ]
  },
  {
   "cell_type": "code",
   "execution_count": 246,
   "metadata": {
    "colab": {
     "base_uri": "https://localhost:8080/",
     "height": 347
    },
    "colab_type": "code",
    "id": "qbpBKEUGa_t_",
    "outputId": "dbd2f9d2-b720-4445-bda8-2229f5deab2a"
   },
   "outputs": [
    {
     "data": {
      "image/png": "[encoded data removed]",
      "text/plain": [
       "<Figure size 432x288 with 1 Axes>"
      ]
     },
     "metadata": {},
     "output_type": "display_data"
    }
   ],
   "source": [
    "sns.kdeplot(df['HoursperWeek'])\n",
    "sns.despine()"
   ]
  },
  {
   "cell_type": "markdown",
   "metadata": {
    "colab_type": "text",
    "id": "t1VxqdGcmZWV"
   },
   "source": [
    "### Bivariate Analysis\n",
    "\n",
    "In bivariate analysis we will use two features each time to analysis the datasets and find out the affects on Income.\n",
    "\n"
   ]
  },
  {
   "cell_type": "markdown",
   "metadata": {
    "colab_type": "text",
    "id": "w93dxwIxbwni"
   },
   "source": [
    "Since the 'Income' features is very important so I have made  a new column for encoding the values  of 'income' fatures into a numerical value to that I can find its co-relation with other features."
   ]
  },
  {
   "cell_type": "code",
   "execution_count": 247,
   "metadata": {
    "colab": {},
    "colab_type": "code",
    "id": "coEAdh2P9BbI"
   },
   "outputs": [],
   "source": [
    "pre=preprocessing.LabelEncoder()"
   ]
  },
  {
   "cell_type": "code",
   "execution_count": 248,
   "metadata": {
    "colab": {
     "base_uri": "https://localhost:8080/",
     "height": 34
    },
    "colab_type": "code",
    "id": "mYFjf2UV-78k",
    "outputId": "1a480321-7e6c-4785-936e-21b4b1ccb4db"
   },
   "outputs": [
    {
     "data": {
      "text/plain": [
       "LabelEncoder()"
      ]
     },
     "execution_count": 248,
     "metadata": {},
     "output_type": "execute_result"
    }
   ],
   "source": [
    "pre.fit(df.Income)"
   ]
  },
  {
   "cell_type": "code",
   "execution_count": 249,
   "metadata": {
    "colab": {},
    "colab_type": "code",
    "id": "6Ohj9wec_HGW"
   },
   "outputs": [],
   "source": [
    "df['Income(>50k)']=pre.transform(df.Income)\n"
   ]
  },
  {
   "cell_type": "markdown",
   "metadata": {
    "colab_type": "text",
    "id": "8-b33Y0Jb3df"
   },
   "source": [
    "**Co-relation among the different features.**"
   ]
  },
  {
   "cell_type": "code",
   "execution_count": 250,
   "metadata": {
    "colab": {
     "base_uri": "https://localhost:8080/",
     "height": 266
    },
    "colab_type": "code",
    "id": "ILJfNinchR_N",
    "outputId": "8942ecf5-1a83-4059-f4bc-46eababd9dd8"
   },
   "outputs": [
    {
     "data": {
      "text/html": [
       "<div>\n",
       "<style scoped>\n",
       "    .dataframe tbody tr th:only-of-type {\n",
       "        vertical-align: middle;\n",
       "    }\n",
       "\n",
       "    .dataframe tbody tr th {\n",
       "        vertical-align: top;\n",
       "    }\n",
       "\n",
       "    .dataframe thead th {\n",
       "        text-align: right;\n",
       "    }\n",
       "</style>\n",
       "<table border=\"1\" class=\"dataframe\">\n",
       "  <thead>\n",
       "    <tr style=\"text-align: right;\">\n",
       "      <th></th>\n",
       "      <th>Age</th>\n",
       "      <th>fnlgwt</th>\n",
       "      <th>Education_num</th>\n",
       "      <th>Capital_Gain</th>\n",
       "      <th>Capital_Loss</th>\n",
       "      <th>HoursperWeek</th>\n",
       "      <th>Income(&gt;50k)</th>\n",
       "    </tr>\n",
       "  </thead>\n",
       "  <tbody>\n",
       "    <tr>\n",
       "      <th>Age</th>\n",
       "      <td>1.000000</td>\n",
       "      <td>-0.076511</td>\n",
       "      <td>0.043526</td>\n",
       "      <td>0.080154</td>\n",
       "      <td>0.060165</td>\n",
       "      <td>0.101599</td>\n",
       "      <td>0.241998</td>\n",
       "    </tr>\n",
       "    <tr>\n",
       "      <th>fnlgwt</th>\n",
       "      <td>-0.076511</td>\n",
       "      <td>1.000000</td>\n",
       "      <td>-0.044992</td>\n",
       "      <td>0.000422</td>\n",
       "      <td>-0.009750</td>\n",
       "      <td>-0.022886</td>\n",
       "      <td>-0.008957</td>\n",
       "    </tr>\n",
       "    <tr>\n",
       "      <th>Education_num</th>\n",
       "      <td>0.043526</td>\n",
       "      <td>-0.044992</td>\n",
       "      <td>1.000000</td>\n",
       "      <td>0.124416</td>\n",
       "      <td>0.079646</td>\n",
       "      <td>0.152522</td>\n",
       "      <td>0.335286</td>\n",
       "    </tr>\n",
       "    <tr>\n",
       "      <th>Capital_Gain</th>\n",
       "      <td>0.080154</td>\n",
       "      <td>0.000422</td>\n",
       "      <td>0.124416</td>\n",
       "      <td>1.000000</td>\n",
       "      <td>-0.032229</td>\n",
       "      <td>0.080432</td>\n",
       "      <td>0.221196</td>\n",
       "    </tr>\n",
       "    <tr>\n",
       "      <th>Capital_Loss</th>\n",
       "      <td>0.060165</td>\n",
       "      <td>-0.009750</td>\n",
       "      <td>0.079646</td>\n",
       "      <td>-0.032229</td>\n",
       "      <td>1.000000</td>\n",
       "      <td>0.052417</td>\n",
       "      <td>0.150053</td>\n",
       "    </tr>\n",
       "    <tr>\n",
       "      <th>HoursperWeek</th>\n",
       "      <td>0.101599</td>\n",
       "      <td>-0.022886</td>\n",
       "      <td>0.152522</td>\n",
       "      <td>0.080432</td>\n",
       "      <td>0.052417</td>\n",
       "      <td>1.000000</td>\n",
       "      <td>0.229480</td>\n",
       "    </tr>\n",
       "    <tr>\n",
       "      <th>Income(&gt;50k)</th>\n",
       "      <td>0.241998</td>\n",
       "      <td>-0.008957</td>\n",
       "      <td>0.335286</td>\n",
       "      <td>0.221196</td>\n",
       "      <td>0.150053</td>\n",
       "      <td>0.229480</td>\n",
       "      <td>1.000000</td>\n",
       "    </tr>\n",
       "  </tbody>\n",
       "</table>\n",
       "</div>"
      ],
      "text/plain": [
       "                    Age    fnlgwt  Education_num  Capital_Gain  Capital_Loss  \\\n",
       "Age            1.000000 -0.076511       0.043526      0.080154      0.060165   \n",
       "fnlgwt        -0.076511  1.000000      -0.044992      0.000422     -0.009750   \n",
       "Education_num  0.043526 -0.044992       1.000000      0.124416      0.079646   \n",
       "Capital_Gain   0.080154  0.000422       0.124416      1.000000     -0.032229   \n",
       "Capital_Loss   0.060165 -0.009750       0.079646     -0.032229      1.000000   \n",
       "HoursperWeek   0.101599 -0.022886       0.152522      0.080432      0.052417   \n",
       "Income(>50k)   0.241998 -0.008957       0.335286      0.221196      0.150053   \n",
       "\n",
       "               HoursperWeek  Income(>50k)  \n",
       "Age                0.101599      0.241998  \n",
       "fnlgwt            -0.022886     -0.008957  \n",
       "Education_num      0.152522      0.335286  \n",
       "Capital_Gain       0.080432      0.221196  \n",
       "Capital_Loss       0.052417      0.150053  \n",
       "HoursperWeek       1.000000      0.229480  \n",
       "Income(>50k)       0.229480      1.000000  "
      ]
     },
     "execution_count": 250,
     "metadata": {},
     "output_type": "execute_result"
    }
   ],
   "source": [
    "df.corr()"
   ]
  },
  {
   "cell_type": "markdown",
   "metadata": {
    "colab_type": "text",
    "id": "cmmrLCsmcz4C"
   },
   "source": [
    "**Heat Map**"
   ]
  },
  {
   "cell_type": "code",
   "execution_count": 251,
   "metadata": {
    "colab": {
     "base_uri": "https://localhost:8080/",
     "height": 374
    },
    "colab_type": "code",
    "id": "VHKH0NKQhR7Q",
    "outputId": "d0d54438-de2a-4f44-d69e-ad4103ac994b"
   },
   "outputs": [
    {
     "data": {
      "image/png": "[encoded data removed]",
      "text/plain": [
       "<Figure size 864x432 with 2 Axes>"
      ]
     },
     "metadata": {},
     "output_type": "display_data"
    }
   ],
   "source": [
    "plt.figure(figsize=(12,6))\n",
    "sns.heatmap(df.corr(),annot=True)\n",
    "\n",
    "plt.show()"
   ]
  },
  {
   "cell_type": "markdown",
   "metadata": {
    "colab_type": "text",
    "id": "_-WLM80vozpE"
   },
   "source": [
    "### Age Vs Income"
   ]
  },
  {
   "cell_type": "markdown",
   "metadata": {
    "colab_type": "text",
    "id": "eq9v5n6edWr4"
   },
   "source": [
    "The Age vs Income distribution plot suggests:\n",
    "1. The people who are earning more than 50k are moslty  between 35 to 50 years old.\n",
    "2. People who are less earning than 50k are mostly between 25 to 40 years old.\n",
    "3. Most of the people having age between 35 to 65 are earning more than 50k."
   ]
  },
  {
   "cell_type": "code",
   "execution_count": 252,
   "metadata": {
    "colab": {
     "base_uri": "https://localhost:8080/",
     "height": 236
    },
    "colab_type": "code",
    "id": "EwUz54w0ox16",
    "outputId": "65f6d556-a82e-4056-b5ae-8751fa440d4b"
   },
   "outputs": [
    {
     "data": {
      "image/png": "[encoded data removed]",
      "text/plain": [
       "<Figure size 938.875x216 with 1 Axes>"
      ]
     },
     "metadata": {},
     "output_type": "display_data"
    }
   ],
   "source": [
    "fig = sns.FacetGrid(df, hue='Income', aspect=4)\n",
    "fig.map(sns.kdeplot, 'Age', shade=True)\n",
    "oldest = df['Age'].max()\n",
    "fig.set(xlim=(0,oldest))\n",
    "fig.set(title='Distribution of Age Grouped by Income')\n",
    "fig.add_legend()\n",
    "sns.despine()"
   ]
  },
  {
   "cell_type": "code",
   "execution_count": 253,
   "metadata": {
    "colab": {
     "base_uri": "https://localhost:8080/",
     "height": 361
    },
    "colab_type": "code",
    "id": "k1HgYIMCg0qi",
    "outputId": "449b07d1-3d03-46c5-872e-1db9e075e484"
   },
   "outputs": [
    {
     "data": {
      "image/png": "[encoded data removed]",
      "text/plain": [
       "<Figure size 432x288 with 1 Axes>"
      ]
     },
     "metadata": {},
     "output_type": "display_data"
    }
   ],
   "source": [
    "sns.boxplot(x = 'Income', y= 'Age',data = df)\n",
    "sns.pointplot(x='Income',y='Age',data = df)\n",
    "sns.despine()"
   ]
  },
  {
   "cell_type": "markdown",
   "metadata": {
    "colab_type": "text",
    "id": "S6m7cLzbfg5M"
   },
   "source": [
    "#### Education vs Income plot\n",
    "\n",
    "The education vs income plot shows that:\n",
    "1. The people earning more than 50k are mostly  having degree of bachelors ,High school graduates or degree from some college.\n",
    "2. The people earning less than 50k are also  mostly  having degree of bachelors ,High school graduates or degree from some college.\n",
    "3. In most of the case ,there are more people having income less than 50k in compare people having income more than 50k.\n",
    "4. Only in case of people holding the  degree of Docotrate or studied from prof-school,there are more people whose income is  more than 50k.\n",
    "5. While people who are having degree less than 12th standard are generally having income less than 50k. \n"
   ]
  },
  {
   "cell_type": "code",
   "execution_count": 254,
   "metadata": {
    "colab": {
     "base_uri": "https://localhost:8080/",
     "height": 388
    },
    "colab_type": "code",
    "id": "MntxMy3mHZZa",
    "outputId": "d4d34e11-7857-4cb1-a1c7-feb54e032b08"
   },
   "outputs": [
    {
     "data": {
      "image/png": "[encoded data removed]",
      "text/plain": [
       "<Figure size 1296x432 with 1 Axes>"
      ]
     },
     "metadata": {},
     "output_type": "display_data"
    }
   ],
   "source": [
    "plt.figure(figsize=(18,6))\n",
    "sns.countplot(df.Education,hue=df.Income,)\n",
    "sns.despine()\n",
    "plt.show()"
   ]
  },
  {
   "cell_type": "markdown",
   "metadata": {
    "colab_type": "text",
    "id": "eZOT5MdJ1ZHQ"
   },
   "source": [
    "Education and coresponding education number given in datasets:"
   ]
  },
  {
   "cell_type": "markdown",
   "metadata": {
    "colab_type": "text",
    "id": "7oJy4LhT1wEw"
   },
   "source": [
    "#### Occupation Vs Income\n",
    "\n",
    "From the plot:\n",
    "1. The most number of people who are having income above 50k are Execative Manager or having any professional speciality .\n",
    "2. Most of people who are admiral clerk  ,craft repair ,or  working on other services  have income below 50k as the difference between count is huge."
   ]
  },
  {
   "cell_type": "code",
   "execution_count": 255,
   "metadata": {
    "colab": {
     "base_uri": "https://localhost:8080/",
     "height": 456
    },
    "colab_type": "code",
    "id": "20kpLZDvaiT0",
    "outputId": "743d382f-e481-4c3e-c50a-70f83f3fe6d8"
   },
   "outputs": [
    {
     "data": {
      "image/png": "[encoded data removed]",
      "text/plain": [
       "<Figure size 1440x432 with 1 Axes>"
      ]
     },
     "metadata": {},
     "output_type": "display_data"
    }
   ],
   "source": [
    "plt.figure(figsize=(20,6))\n",
    "sns.countplot(df.Occupation,hue=df.Income)\n",
    "sns.despine()\n",
    "plt.xticks(rotation=60)\n",
    "plt.show()"
   ]
  },
  {
   "cell_type": "markdown",
   "metadata": {
    "colab_type": "text",
    "id": "yJ4PMZRe39WI"
   },
   "source": [
    "#### Hours per Week Vs Income\n",
    "Inferences:\n",
    "1. People who are having income above 50k mostly work around 40 to 60 hours per week.\n",
    "2. Although most people who are working around 40 hours per week are having income less than 50k. \n"
   ]
  },
  {
   "cell_type": "code",
   "execution_count": 256,
   "metadata": {
    "colab": {
     "base_uri": "https://localhost:8080/",
     "height": 236
    },
    "colab_type": "code",
    "id": "rxx4FHhZcep0",
    "outputId": "ae347161-5c09-4a4d-85b3-45fcf03f0236"
   },
   "outputs": [
    {
     "data": {
      "image/png": "[encoded data removed]",
      "text/plain": [
       "<Figure size 1154.88x216 with 1 Axes>"
      ]
     },
     "metadata": {},
     "output_type": "display_data"
    }
   ],
   "source": [
    "fig = sns.FacetGrid(df, hue='Income',aspect=5)\n",
    "fig.map(sns.kdeplot, 'HoursperWeek', shade=True)\n",
    "oldest = df['HoursperWeek'].max()/1.25\n",
    "fig.set(xlim=(0,oldest))\n",
    "fig.set(title='Distribution of Hours Per week Grouped by Income')\n",
    "fig.add_legend()\n",
    "sns.despine()\n"
   ]
  },
  {
   "cell_type": "code",
   "execution_count": 257,
   "metadata": {
    "colab": {
     "base_uri": "https://localhost:8080/",
     "height": 416
    },
    "colab_type": "code",
    "id": "mQ7a5GkEhGMM",
    "outputId": "84754d13-711b-4ef1-f7ee-a2f92d9a99ec"
   },
   "outputs": [
    {
     "data": {
      "image/png": "[encoded data removed]",
      "text/plain": [
       "<Figure size 432x288 with 1 Axes>"
      ]
     },
     "metadata": {},
     "output_type": "display_data"
    }
   ],
   "source": [
    "sns.boxplot(x = 'Income(>50k)',y = 'HoursperWeek',data = df)\n",
    "sns.pointplot(x = 'Income(>50k)',y = 'HoursperWeek',data = df)\n",
    "plt.xticks([0,1],['Less than or equal to 50k','More than 50k'],rotation=30)\n",
    "plt.xlabel('Income')\n",
    "sns.despine()"
   ]
  },
  {
   "cell_type": "markdown",
   "metadata": {
    "colab_type": "text",
    "id": "XQeIYzuBtw-0"
   },
   "source": [
    "### Multivaraite Analysis\n"
   ]
  },
  {
   "cell_type": "markdown",
   "metadata": {
    "colab_type": "text",
    "id": "HMcD8pyfQx0f"
   },
   "source": [
    "#### Education vs Net  Capital in terms of Income"
   ]
  },
  {
   "cell_type": "markdown",
   "metadata": {
    "colab_type": "text",
    "id": "GthNsqR4vNyv"
   },
   "source": [
    "Since the capital gain and capital loss can be evaluted on the basis of net capital .Thus we will introduce a new column called 'Capital_Net' which will be equal to 'Capital_Gain-Capital_Loss'."
   ]
  },
  {
   "cell_type": "code",
   "execution_count": 258,
   "metadata": {
    "colab": {},
    "colab_type": "code",
    "id": "CoHjj1PPGuDe"
   },
   "outputs": [],
   "source": [
    "df['Capital_Net']=df.Capital_Gain-df.Capital_Loss"
   ]
  },
  {
   "cell_type": "markdown",
   "metadata": {
    "colab_type": "text",
    "id": "YelcRzLeRIwI"
   },
   "source": [
    "Lets us see the eduation list along with  corresponding education number."
   ]
  },
  {
   "cell_type": "code",
   "execution_count": 259,
   "metadata": {
    "colab": {
     "base_uri": "https://localhost:8080/",
     "height": 111
    },
    "colab_type": "code",
    "id": "ud2F2-j6HwTu",
    "outputId": "9a3ededa-48f1-4ca1-9313-f3f599869745"
   },
   "outputs": [
    {
     "data": {
      "text/html": [
       "<div>\n",
       "<style scoped>\n",
       "    .dataframe tbody tr th:only-of-type {\n",
       "        vertical-align: middle;\n",
       "    }\n",
       "\n",
       "    .dataframe tbody tr th {\n",
       "        vertical-align: top;\n",
       "    }\n",
       "\n",
       "    .dataframe thead th {\n",
       "        text-align: right;\n",
       "    }\n",
       "</style>\n",
       "<table border=\"1\" class=\"dataframe\">\n",
       "  <thead>\n",
       "    <tr style=\"text-align: right;\">\n",
       "      <th></th>\n",
       "      <th>0</th>\n",
       "      <th>1</th>\n",
       "      <th>2</th>\n",
       "      <th>3</th>\n",
       "      <th>4</th>\n",
       "      <th>5</th>\n",
       "      <th>6</th>\n",
       "      <th>7</th>\n",
       "      <th>8</th>\n",
       "      <th>9</th>\n",
       "      <th>10</th>\n",
       "      <th>11</th>\n",
       "      <th>12</th>\n",
       "      <th>13</th>\n",
       "      <th>14</th>\n",
       "      <th>15</th>\n",
       "    </tr>\n",
       "  </thead>\n",
       "  <tbody>\n",
       "    <tr>\n",
       "      <th>Edu</th>\n",
       "      <td>Bachelors</td>\n",
       "      <td>HS-grad</td>\n",
       "      <td>11th</td>\n",
       "      <td>Masters</td>\n",
       "      <td>9th</td>\n",
       "      <td>Some-college</td>\n",
       "      <td>Assoc-acdm</td>\n",
       "      <td>7th-8th</td>\n",
       "      <td>Doctorate</td>\n",
       "      <td>Assoc-voc</td>\n",
       "      <td>Prof-school</td>\n",
       "      <td>5th-6th</td>\n",
       "      <td>10th</td>\n",
       "      <td>Preschool</td>\n",
       "      <td>12th</td>\n",
       "      <td>1st-4th</td>\n",
       "    </tr>\n",
       "    <tr>\n",
       "      <th>Num</th>\n",
       "      <td>13</td>\n",
       "      <td>9</td>\n",
       "      <td>7</td>\n",
       "      <td>14</td>\n",
       "      <td>5</td>\n",
       "      <td>10</td>\n",
       "      <td>12</td>\n",
       "      <td>4</td>\n",
       "      <td>16</td>\n",
       "      <td>11</td>\n",
       "      <td>15</td>\n",
       "      <td>3</td>\n",
       "      <td>6</td>\n",
       "      <td>1</td>\n",
       "      <td>8</td>\n",
       "      <td>2</td>\n",
       "    </tr>\n",
       "  </tbody>\n",
       "</table>\n",
       "</div>"
      ],
      "text/plain": [
       "             0         1      2         3     4              5            6   \\\n",
       "Edu   Bachelors   HS-grad   11th   Masters   9th   Some-college   Assoc-acdm   \n",
       "Num          13         9      7        14     5             10           12   \n",
       "\n",
       "           7           8           9             10        11     12  \\\n",
       "Edu   7th-8th   Doctorate   Assoc-voc   Prof-school   5th-6th   10th   \n",
       "Num         4          16          11            15         3      6   \n",
       "\n",
       "             13     14        15  \n",
       "Edu   Preschool   12th   1st-4th  \n",
       "Num           1      8         2  "
      ]
     },
     "execution_count": 259,
     "metadata": {},
     "output_type": "execute_result"
    }
   ],
   "source": [
    "edudata=pd.DataFrame({'Edu':df.Education.unique(),'Num':df.Education_num.unique()})\n",
    "edudata.T"
   ]
  },
  {
   "cell_type": "code",
   "execution_count": 260,
   "metadata": {
    "colab": {
     "base_uri": "https://localhost:8080/",
     "height": 221
    },
    "colab_type": "code",
    "id": "Sm3dRSv3GVSG",
    "outputId": "24f5dcd0-6dd3-43c2-d627-6a3c2d610b3e"
   },
   "outputs": [
    {
     "data": {
      "image/png": "[encoded data removed]",
      "text/plain": [
       "<Figure size 864x216 with 2 Axes>"
      ]
     },
     "metadata": {},
     "output_type": "display_data"
    }
   ],
   "source": [
    "grid = sns.FacetGrid(df, col='Income',col_wrap = 2,aspect=2)\n",
    "grid.map(plt.scatter,'Education_num','Capital_Net',alpha = 0.9)\n",
    "sns.despine()\n"
   ]
  },
  {
   "cell_type": "markdown",
   "metadata": {
    "colab_type": "text",
    "id": "dzUKvmluRZ8x"
   },
   "source": [
    "**Inferences from the plot:**\n",
    "\n",
    "For people whose income is above  50k:\n",
    "\n",
    "1.People with higher Eduation degree have more  net capital. "
   ]
  },
  {
   "cell_type": "markdown",
   "metadata": {
    "colab_type": "text",
    "id": "zQQbtsKhXc4D"
   },
   "source": [
    "##Conclusion of EDA\n",
    "\n",
    "We have seen that people who are having higher education degree are most likely to have income more than 50k. The net capital of people having income above 50k are more than that of people having income below 50k.People who are having income above 50k mostly work around 40 to 60 hours per week.The most number of people who are having income above 50k are Execative Manager or having any professional speciality \n",
    "\n",
    "\n"
   ]
  },
  {
   "cell_type": "markdown",
   "metadata": {
    "colab_type": "text",
    "id": "SG7zQDIdb9fC"
   },
   "source": [
    "#Feature Engineering"
   ]
  },
  {
   "cell_type": "markdown",
   "metadata": {
    "colab_type": "text",
    "id": "u5vEQsMmcdiv"
   },
   "source": [
    "Let us see the first five rows of our dataframe:"
   ]
  },
  {
   "cell_type": "code",
   "execution_count": 261,
   "metadata": {
    "colab": {
     "base_uri": "https://localhost:8080/",
     "height": 292
    },
    "colab_type": "code",
    "id": "107DXo3Rb8o0",
    "outputId": "3a122ace-4dee-4fdd-9ceb-8e1dc19aae39"
   },
   "outputs": [
    {
     "data": {
      "text/html": [
       "<div>\n",
       "<style scoped>\n",
       "    .dataframe tbody tr th:only-of-type {\n",
       "        vertical-align: middle;\n",
       "    }\n",
       "\n",
       "    .dataframe tbody tr th {\n",
       "        vertical-align: top;\n",
       "    }\n",
       "\n",
       "    .dataframe thead th {\n",
       "        text-align: right;\n",
       "    }\n",
       "</style>\n",
       "<table border=\"1\" class=\"dataframe\">\n",
       "  <thead>\n",
       "    <tr style=\"text-align: right;\">\n",
       "      <th></th>\n",
       "      <th>Age</th>\n",
       "      <th>Workclass</th>\n",
       "      <th>fnlgwt</th>\n",
       "      <th>Education</th>\n",
       "      <th>Education_num</th>\n",
       "      <th>Marital_Status</th>\n",
       "      <th>Occupation</th>\n",
       "      <th>Relationship</th>\n",
       "      <th>Race</th>\n",
       "      <th>Sex</th>\n",
       "      <th>Capital_Gain</th>\n",
       "      <th>Capital_Loss</th>\n",
       "      <th>HoursperWeek</th>\n",
       "      <th>Native_country</th>\n",
       "      <th>Income</th>\n",
       "      <th>Income(&gt;50k)</th>\n",
       "      <th>Capital_Net</th>\n",
       "    </tr>\n",
       "  </thead>\n",
       "  <tbody>\n",
       "    <tr>\n",
       "      <th>0</th>\n",
       "      <td>39</td>\n",
       "      <td>State-gov</td>\n",
       "      <td>77516</td>\n",
       "      <td>Bachelors</td>\n",
       "      <td>13</td>\n",
       "      <td>Never-married</td>\n",
       "      <td>Adm-clerical</td>\n",
       "      <td>Not-in-family</td>\n",
       "      <td>White</td>\n",
       "      <td>Male</td>\n",
       "      <td>2174</td>\n",
       "      <td>0</td>\n",
       "      <td>40</td>\n",
       "      <td>United-States</td>\n",
       "      <td>&lt;=50K</td>\n",
       "      <td>0</td>\n",
       "      <td>2174</td>\n",
       "    </tr>\n",
       "    <tr>\n",
       "      <th>1</th>\n",
       "      <td>50</td>\n",
       "      <td>Self-emp-not-inc</td>\n",
       "      <td>83311</td>\n",
       "      <td>Bachelors</td>\n",
       "      <td>13</td>\n",
       "      <td>Married-civ-spouse</td>\n",
       "      <td>Exec-managerial</td>\n",
       "      <td>Husband</td>\n",
       "      <td>White</td>\n",
       "      <td>Male</td>\n",
       "      <td>0</td>\n",
       "      <td>0</td>\n",
       "      <td>13</td>\n",
       "      <td>United-States</td>\n",
       "      <td>&lt;=50K</td>\n",
       "      <td>0</td>\n",
       "      <td>0</td>\n",
       "    </tr>\n",
       "    <tr>\n",
       "      <th>2</th>\n",
       "      <td>38</td>\n",
       "      <td>Private</td>\n",
       "      <td>215646</td>\n",
       "      <td>HS-grad</td>\n",
       "      <td>9</td>\n",
       "      <td>Divorced</td>\n",
       "      <td>Handlers-cleaners</td>\n",
       "      <td>Not-in-family</td>\n",
       "      <td>White</td>\n",
       "      <td>Male</td>\n",
       "      <td>0</td>\n",
       "      <td>0</td>\n",
       "      <td>40</td>\n",
       "      <td>United-States</td>\n",
       "      <td>&lt;=50K</td>\n",
       "      <td>0</td>\n",
       "      <td>0</td>\n",
       "    </tr>\n",
       "    <tr>\n",
       "      <th>3</th>\n",
       "      <td>53</td>\n",
       "      <td>Private</td>\n",
       "      <td>234721</td>\n",
       "      <td>11th</td>\n",
       "      <td>7</td>\n",
       "      <td>Married-civ-spouse</td>\n",
       "      <td>Handlers-cleaners</td>\n",
       "      <td>Husband</td>\n",
       "      <td>Black</td>\n",
       "      <td>Male</td>\n",
       "      <td>0</td>\n",
       "      <td>0</td>\n",
       "      <td>40</td>\n",
       "      <td>United-States</td>\n",
       "      <td>&lt;=50K</td>\n",
       "      <td>0</td>\n",
       "      <td>0</td>\n",
       "    </tr>\n",
       "    <tr>\n",
       "      <th>4</th>\n",
       "      <td>28</td>\n",
       "      <td>Private</td>\n",
       "      <td>338409</td>\n",
       "      <td>Bachelors</td>\n",
       "      <td>13</td>\n",
       "      <td>Married-civ-spouse</td>\n",
       "      <td>Prof-specialty</td>\n",
       "      <td>Wife</td>\n",
       "      <td>Black</td>\n",
       "      <td>Female</td>\n",
       "      <td>0</td>\n",
       "      <td>0</td>\n",
       "      <td>40</td>\n",
       "      <td>Cuba</td>\n",
       "      <td>&lt;=50K</td>\n",
       "      <td>0</td>\n",
       "      <td>0</td>\n",
       "    </tr>\n",
       "  </tbody>\n",
       "</table>\n",
       "</div>"
      ],
      "text/plain": [
       "   Age          Workclass  fnlgwt   Education  Education_num  \\\n",
       "0   39          State-gov   77516   Bachelors             13   \n",
       "1   50   Self-emp-not-inc   83311   Bachelors             13   \n",
       "2   38            Private  215646     HS-grad              9   \n",
       "3   53            Private  234721        11th              7   \n",
       "4   28            Private  338409   Bachelors             13   \n",
       "\n",
       "        Marital_Status          Occupation    Relationship    Race      Sex  \\\n",
       "0        Never-married        Adm-clerical   Not-in-family   White     Male   \n",
       "1   Married-civ-spouse     Exec-managerial         Husband   White     Male   \n",
       "2             Divorced   Handlers-cleaners   Not-in-family   White     Male   \n",
       "3   Married-civ-spouse   Handlers-cleaners         Husband   Black     Male   \n",
       "4   Married-civ-spouse      Prof-specialty            Wife   Black   Female   \n",
       "\n",
       "   Capital_Gain  Capital_Loss  HoursperWeek  Native_country  Income  \\\n",
       "0          2174             0            40   United-States   <=50K   \n",
       "1             0             0            13   United-States   <=50K   \n",
       "2             0             0            40   United-States   <=50K   \n",
       "3             0             0            40   United-States   <=50K   \n",
       "4             0             0            40            Cuba   <=50K   \n",
       "\n",
       "   Income(>50k)  Capital_Net  \n",
       "0             0         2174  \n",
       "1             0            0  \n",
       "2             0            0  \n",
       "3             0            0  \n",
       "4             0            0  "
      ]
     },
     "execution_count": 261,
     "metadata": {},
     "output_type": "execute_result"
    }
   ],
   "source": [
    "df.head()"
   ]
  },
  {
   "cell_type": "code",
   "execution_count": 262,
   "metadata": {
    "colab": {
     "base_uri": "https://localhost:8080/",
     "height": 34
    },
    "colab_type": "code",
    "id": "rub0-A6Fb8e1",
    "outputId": "7f806e72-86f7-44f1-fdf2-f054ceb2fa8b"
   },
   "outputs": [
    {
     "data": {
      "text/plain": [
       "(30162, 17)"
      ]
     },
     "execution_count": 262,
     "metadata": {},
     "output_type": "execute_result"
    }
   ],
   "source": [
    "df.shape"
   ]
  },
  {
   "cell_type": "markdown",
   "metadata": {
    "colab_type": "text",
    "id": "9TyXSA7leN0G"
   },
   "source": [
    "We have total 17 columns,some of them were added during EDA."
   ]
  },
  {
   "cell_type": "code",
   "execution_count": 263,
   "metadata": {
    "colab": {
     "base_uri": "https://localhost:8080/",
     "height": 340
    },
    "colab_type": "code",
    "id": "sk3BrAOGeKKb",
    "outputId": "c81bf4ba-232a-48b5-ba6d-301c1a09e275"
   },
   "outputs": [
    {
     "name": "stdout",
     "output_type": "stream",
     "text": [
      "Data Types of each column \n"
     ]
    },
    {
     "data": {
      "text/plain": [
       "Age                int64\n",
       "Workclass         object\n",
       "fnlgwt             int64\n",
       "Education         object\n",
       "Education_num      int64\n",
       "Marital_Status    object\n",
       "Occupation        object\n",
       "Relationship      object\n",
       "Race              object\n",
       "Sex               object\n",
       "Capital_Gain       int64\n",
       "Capital_Loss       int64\n",
       "HoursperWeek       int64\n",
       "Native_country    object\n",
       "Income            object\n",
       "Income(>50k)       int64\n",
       "Capital_Net        int64\n",
       "dtype: object"
      ]
     },
     "execution_count": 263,
     "metadata": {},
     "output_type": "execute_result"
    }
   ],
   "source": [
    "print('Data Types of each column ')\n",
    "df.dtypes"
   ]
  },
  {
   "cell_type": "markdown",
   "metadata": {
    "colab_type": "text",
    "id": "A9JBLSBteqD9"
   },
   "source": [
    "We will encode the object dtype into integer."
   ]
  },
  {
   "cell_type": "code",
   "execution_count": 264,
   "metadata": {
    "colab": {
     "base_uri": "https://localhost:8080/",
     "height": 34
    },
    "colab_type": "code",
    "id": "q3k4rU8-AVia",
    "outputId": "b1df2831-6388-447c-c963-36ba7e3205ee"
   },
   "outputs": [
    {
     "data": {
      "text/plain": [
       "LabelEncoder()"
      ]
     },
     "execution_count": 264,
     "metadata": {},
     "output_type": "execute_result"
    }
   ],
   "source": [
    "pre.fit(df.Native_country)"
   ]
  },
  {
   "cell_type": "code",
   "execution_count": 265,
   "metadata": {
    "colab": {},
    "colab_type": "code",
    "id": "pgJyKlCmCafe"
   },
   "outputs": [],
   "source": [
    "df['Native_country']=pre.transform(df.Native_country)"
   ]
  },
  {
   "cell_type": "code",
   "execution_count": 266,
   "metadata": {
    "colab": {
     "base_uri": "https://localhost:8080/",
     "height": 34
    },
    "colab_type": "code",
    "id": "D8hnw-w2IKbs",
    "outputId": "bdae1c3f-fe94-40ab-e17c-857af4cc949d"
   },
   "outputs": [
    {
     "data": {
      "text/plain": [
       "LabelEncoder()"
      ]
     },
     "execution_count": 266,
     "metadata": {},
     "output_type": "execute_result"
    }
   ],
   "source": [
    "pre.fit(df.Marital_Status)"
   ]
  },
  {
   "cell_type": "code",
   "execution_count": 267,
   "metadata": {
    "colab": {},
    "colab_type": "code",
    "id": "X8N3pFduIPN3"
   },
   "outputs": [],
   "source": [
    "df.Marital_Status=pre.transform(df.Marital_Status)"
   ]
  },
  {
   "cell_type": "code",
   "execution_count": 268,
   "metadata": {
    "colab": {
     "base_uri": "https://localhost:8080/",
     "height": 34
    },
    "colab_type": "code",
    "id": "h8u7QFqaIWcn",
    "outputId": "31cf7153-1a24-405f-ae8e-c8b1bfc57b72"
   },
   "outputs": [
    {
     "data": {
      "text/plain": [
       "LabelEncoder()"
      ]
     },
     "execution_count": 268,
     "metadata": {},
     "output_type": "execute_result"
    }
   ],
   "source": [
    "pre.fit(df.Occupation)"
   ]
  },
  {
   "cell_type": "code",
   "execution_count": 269,
   "metadata": {
    "colab": {},
    "colab_type": "code",
    "id": "eV3JLU1wIfn4"
   },
   "outputs": [],
   "source": [
    "df.Occupation=pre.transform(df.Occupation)"
   ]
  },
  {
   "cell_type": "code",
   "execution_count": 270,
   "metadata": {
    "colab": {
     "base_uri": "https://localhost:8080/",
     "height": 34
    },
    "colab_type": "code",
    "id": "xt0lZTZ9JNPV",
    "outputId": "59b500eb-8ee3-47c1-c987-f77f6c8245d7"
   },
   "outputs": [
    {
     "data": {
      "text/plain": [
       "LabelEncoder()"
      ]
     },
     "execution_count": 270,
     "metadata": {},
     "output_type": "execute_result"
    }
   ],
   "source": [
    "pre.fit(df.Race)"
   ]
  },
  {
   "cell_type": "code",
   "execution_count": 271,
   "metadata": {
    "colab": {},
    "colab_type": "code",
    "id": "l_IH4OG1JSqG"
   },
   "outputs": [],
   "source": [
    "df['Race_Code']=pre.transform(df.Race)"
   ]
  },
  {
   "cell_type": "code",
   "execution_count": 272,
   "metadata": {
    "colab": {
     "base_uri": "https://localhost:8080/",
     "height": 34
    },
    "colab_type": "code",
    "id": "aWNF9auFKIop",
    "outputId": "b1c676ca-261b-450e-ab09-13e77faaa83d"
   },
   "outputs": [
    {
     "data": {
      "text/plain": [
       "LabelEncoder()"
      ]
     },
     "execution_count": 272,
     "metadata": {},
     "output_type": "execute_result"
    }
   ],
   "source": [
    "pre.fit(df.Workclass)"
   ]
  },
  {
   "cell_type": "code",
   "execution_count": 273,
   "metadata": {
    "colab": {},
    "colab_type": "code",
    "id": "_fdrNuOYKWXe"
   },
   "outputs": [],
   "source": [
    "df['Working_Class_code']=pre.transform(df.Workclass)"
   ]
  },
  {
   "cell_type": "code",
   "execution_count": 274,
   "metadata": {
    "colab": {},
    "colab_type": "code",
    "id": "Sd2fx_vsI06K"
   },
   "outputs": [],
   "source": [
    "df['sex_code']=[1 if s=='Male' else 0 for s in df.Sex]"
   ]
  },
  {
   "cell_type": "markdown",
   "metadata": {
    "colab_type": "text",
    "id": "aO2dYwq3hBMS"
   },
   "source": [
    "We will convert some continous datasets into categorical."
   ]
  },
  {
   "cell_type": "code",
   "execution_count": 275,
   "metadata": {
    "colab": {},
    "colab_type": "code",
    "id": "dUZM4cvl1ZQu"
   },
   "outputs": [],
   "source": [
    "df['Categorical_age']=pd.qcut(df.Age,15,labels=[i for i in range(1,16)])"
   ]
  },
  {
   "cell_type": "code",
   "execution_count": 276,
   "metadata": {
    "colab": {},
    "colab_type": "code",
    "id": "J1G-GvETDLe9"
   },
   "outputs": [],
   "source": [
    "df['Categorical_Working(H/w)']=pd.cut(df.HoursperWeek,25,labels=[i for i in range(1,26) ])"
   ]
  },
  {
   "cell_type": "markdown",
   "metadata": {
    "colab_type": "text",
    "id": "uLOCWwpNho7E"
   },
   "source": [
    "Now we can drop some of the column.We will drop duplicates encoded columns andcategorised columns.We will also drop column 'fnlgwt' . "
   ]
  },
  {
   "cell_type": "code",
   "execution_count": 277,
   "metadata": {
    "colab": {},
    "colab_type": "code",
    "id": "hyRgVxrY19Jg"
   },
   "outputs": [],
   "source": [
    "df=df.drop(['Education','fnlgwt','Capital_Gain','Capital_Loss','Age','Race','Sex','Workclass','Income','Relationship'],axis=1)"
   ]
  },
  {
   "cell_type": "code",
   "execution_count": 278,
   "metadata": {
    "colab": {
     "base_uri": "https://localhost:8080/",
     "height": 241
    },
    "colab_type": "code",
    "id": "T24ldVabJjY5",
    "outputId": "f911533d-d923-482c-93b3-58388220c1e0"
   },
   "outputs": [
    {
     "name": "stdout",
     "output_type": "stream",
     "text": [
      "first five row\n"
     ]
    },
    {
     "data": {
      "text/html": [
       "<div>\n",
       "<style scoped>\n",
       "    .dataframe tbody tr th:only-of-type {\n",
       "        vertical-align: middle;\n",
       "    }\n",
       "\n",
       "    .dataframe tbody tr th {\n",
       "        vertical-align: top;\n",
       "    }\n",
       "\n",
       "    .dataframe thead th {\n",
       "        text-align: right;\n",
       "    }\n",
       "</style>\n",
       "<table border=\"1\" class=\"dataframe\">\n",
       "  <thead>\n",
       "    <tr style=\"text-align: right;\">\n",
       "      <th></th>\n",
       "      <th>Education_num</th>\n",
       "      <th>Marital_Status</th>\n",
       "      <th>Occupation</th>\n",
       "      <th>HoursperWeek</th>\n",
       "      <th>Native_country</th>\n",
       "      <th>Income(&gt;50k)</th>\n",
       "      <th>Capital_Net</th>\n",
       "      <th>Race_Code</th>\n",
       "      <th>Working_Class_code</th>\n",
       "      <th>sex_code</th>\n",
       "      <th>Categorical_age</th>\n",
       "      <th>Categorical_Working(H/w)</th>\n",
       "    </tr>\n",
       "  </thead>\n",
       "  <tbody>\n",
       "    <tr>\n",
       "      <th>0</th>\n",
       "      <td>13</td>\n",
       "      <td>4</td>\n",
       "      <td>0</td>\n",
       "      <td>40</td>\n",
       "      <td>38</td>\n",
       "      <td>0</td>\n",
       "      <td>2174</td>\n",
       "      <td>4</td>\n",
       "      <td>5</td>\n",
       "      <td>0</td>\n",
       "      <td>9</td>\n",
       "      <td>10</td>\n",
       "    </tr>\n",
       "    <tr>\n",
       "      <th>1</th>\n",
       "      <td>13</td>\n",
       "      <td>2</td>\n",
       "      <td>3</td>\n",
       "      <td>13</td>\n",
       "      <td>38</td>\n",
       "      <td>0</td>\n",
       "      <td>0</td>\n",
       "      <td>4</td>\n",
       "      <td>4</td>\n",
       "      <td>0</td>\n",
       "      <td>12</td>\n",
       "      <td>4</td>\n",
       "    </tr>\n",
       "    <tr>\n",
       "      <th>2</th>\n",
       "      <td>9</td>\n",
       "      <td>0</td>\n",
       "      <td>5</td>\n",
       "      <td>40</td>\n",
       "      <td>38</td>\n",
       "      <td>0</td>\n",
       "      <td>0</td>\n",
       "      <td>4</td>\n",
       "      <td>2</td>\n",
       "      <td>0</td>\n",
       "      <td>8</td>\n",
       "      <td>10</td>\n",
       "    </tr>\n",
       "    <tr>\n",
       "      <th>3</th>\n",
       "      <td>7</td>\n",
       "      <td>2</td>\n",
       "      <td>5</td>\n",
       "      <td>40</td>\n",
       "      <td>38</td>\n",
       "      <td>0</td>\n",
       "      <td>0</td>\n",
       "      <td>2</td>\n",
       "      <td>2</td>\n",
       "      <td>0</td>\n",
       "      <td>13</td>\n",
       "      <td>10</td>\n",
       "    </tr>\n",
       "    <tr>\n",
       "      <th>4</th>\n",
       "      <td>13</td>\n",
       "      <td>2</td>\n",
       "      <td>9</td>\n",
       "      <td>40</td>\n",
       "      <td>4</td>\n",
       "      <td>0</td>\n",
       "      <td>0</td>\n",
       "      <td>2</td>\n",
       "      <td>2</td>\n",
       "      <td>0</td>\n",
       "      <td>4</td>\n",
       "      <td>10</td>\n",
       "    </tr>\n",
       "  </tbody>\n",
       "</table>\n",
       "</div>"
      ],
      "text/plain": [
       "   Education_num  Marital_Status  Occupation  HoursperWeek  Native_country  \\\n",
       "0             13               4           0            40              38   \n",
       "1             13               2           3            13              38   \n",
       "2              9               0           5            40              38   \n",
       "3              7               2           5            40              38   \n",
       "4             13               2           9            40               4   \n",
       "\n",
       "   Income(>50k)  Capital_Net  Race_Code  Working_Class_code  sex_code  \\\n",
       "0             0         2174          4                   5         0   \n",
       "1             0            0          4                   4         0   \n",
       "2             0            0          4                   2         0   \n",
       "3             0            0          2                   2         0   \n",
       "4             0            0          2                   2         0   \n",
       "\n",
       "  Categorical_age Categorical_Working(H/w)  \n",
       "0               9                       10  \n",
       "1              12                        4  \n",
       "2               8                       10  \n",
       "3              13                       10  \n",
       "4               4                       10  "
      ]
     },
     "execution_count": 278,
     "metadata": {},
     "output_type": "execute_result"
    }
   ],
   "source": [
    "print('first five row')\n",
    "df.head()"
   ]
  },
  {
   "cell_type": "markdown",
   "metadata": {
    "colab_type": "text",
    "id": "k1zp9BPgiVs-"
   },
   "source": [
    "**Our dataframe is ready for computation.\n"
   ]
  },
  {
   "cell_type": "markdown",
   "metadata": {
    "colab_type": "text",
    "id": "bT89-IEbidjm"
   },
   "source": [
    "#Building,Training and Predicting Using Various Model"
   ]
  },
  {
   "cell_type": "code",
   "execution_count": 279,
   "metadata": {
    "colab": {},
    "colab_type": "code",
    "id": "biWGV3xkJq1w"
   },
   "outputs": [],
   "source": [
    "X=df.drop('Income(>50k)',axis=1)"
   ]
  },
  {
   "cell_type": "code",
   "execution_count": 280,
   "metadata": {
    "colab": {},
    "colab_type": "code",
    "id": "ZJ4pAjlyLDgY"
   },
   "outputs": [],
   "source": [
    "Y=df['Income(>50k)']"
   ]
  },
  {
   "cell_type": "markdown",
   "metadata": {
    "colab_type": "text",
    "id": "J7Xj9nDIi0qo"
   },
   "source": [
    "### Train Test split\n",
    "\n",
    "We will use test size of 20 %."
   ]
  },
  {
   "cell_type": "code",
   "execution_count": 281,
   "metadata": {
    "colab": {},
    "colab_type": "code",
    "id": "JINGne9XLVMq"
   },
   "outputs": [],
   "source": [
    "x_train,x_test,y_train,y_test=train_test_split(X,Y,test_size=.2,random_state=20)"
   ]
  },
  {
   "cell_type": "markdown",
   "metadata": {
    "colab_type": "text",
    "id": "8vYyJM1ijaHS"
   },
   "source": [
    "## Logistic regression"
   ]
  },
  {
   "cell_type": "code",
   "execution_count": 282,
   "metadata": {
    "colab": {},
    "colab_type": "code",
    "id": "AZaef_-rLzek"
   },
   "outputs": [],
   "source": [
    "log=LogisticRegression()"
   ]
  },
  {
   "cell_type": "code",
   "execution_count": 283,
   "metadata": {
    "colab": {
     "base_uri": "https://localhost:8080/",
     "height": 85
    },
    "colab_type": "code",
    "id": "Mzg2t_GiL2Rc",
    "outputId": "5c7992a5-cbae-41eb-f39c-abced7a9cb41"
   },
   "outputs": [
    {
     "data": {
      "text/plain": [
       "LogisticRegression(C=1.0, class_weight=None, dual=False, fit_intercept=True,\n",
       "          intercept_scaling=1, max_iter=100, multi_class='ovr', n_jobs=1,\n",
       "          penalty='l2', random_state=None, solver='liblinear', tol=0.0001,\n",
       "          verbose=0, warm_start=False)"
      ]
     },
     "execution_count": 283,
     "metadata": {},
     "output_type": "execute_result"
    }
   ],
   "source": [
    "log.fit(x_train,y_train)"
   ]
  },
  {
   "cell_type": "code",
   "execution_count": 284,
   "metadata": {
    "colab": {},
    "colab_type": "code",
    "id": "WoPyk3cxL6KG"
   },
   "outputs": [],
   "source": [
    "log_predict=log.predict(x_test)"
   ]
  },
  {
   "cell_type": "code",
   "execution_count": 285,
   "metadata": {
    "colab": {
     "base_uri": "https://localhost:8080/",
     "height": 51
    },
    "colab_type": "code",
    "id": "IB2zeNMxMXDl",
    "outputId": "dace3301-72e9-4230-8e1c-18986aac20c0"
   },
   "outputs": [
    {
     "name": "stdout",
     "output_type": "stream",
     "text": [
      "Accuracy Score:\n"
     ]
    },
    {
     "data": {
      "text/plain": [
       "0.8135256091496768"
      ]
     },
     "execution_count": 285,
     "metadata": {},
     "output_type": "execute_result"
    }
   ],
   "source": [
    "print('Accuracy Score:')\n",
    "log_score=met.accuracy_score(y_test,log_predict)\n",
    "log_score"
   ]
  },
  {
   "cell_type": "code",
   "execution_count": 286,
   "metadata": {
    "colab": {
     "base_uri": "https://localhost:8080/",
     "height": 374
    },
    "colab_type": "code",
    "id": "ZRj3ViZnx-hd",
    "outputId": "c749b2e2-c374-436d-af68-a95c206b8cf5"
   },
   "outputs": [
    {
     "data": {
      "image/png": "[encoded data removed]",
      "text/plain": [
       "<Figure size 288x288 with 1 Axes>"
      ]
     },
     "metadata": {},
     "output_type": "display_data"
    }
   ],
   "source": [
    "plt.figure(figsize=(4,4))\n",
    "mat=met.confusion_matrix(y_test,log_predict)\n",
    "sns.heatmap(mat,annot=True,fmt=\".3f\",square = True, cmap ='Blues_r', cbar=False)\n",
    "plt.xticks(df['Income(>50k)'].unique(),['Less or equal to 50k','Above 50k'],rotation=90)\n",
    "plt.xlabel('Predicted label')\n",
    "plt.yticks(df['Income(>50k)'].unique(),['Less or equal to 50k','Above 50k'],rotation=0,)\n",
    "plt.ylabel('Actual label')\n",
    "plt.title('Confusion Matrix')\n",
    "plt.show()"
   ]
  },
  {
   "cell_type": "code",
   "execution_count": 287,
   "metadata": {
    "colab": {
     "base_uri": "https://localhost:8080/",
     "height": 170
    },
    "colab_type": "code",
    "id": "CavE8wgfzCQC",
    "outputId": "3076582e-a717-49d1-a978-d5e65718b2f3"
   },
   "outputs": [
    {
     "name": "stdout",
     "output_type": "stream",
     "text": [
      "Classification Report:\n",
      "\n",
      "             precision    recall  f1-score   support\n",
      "\n",
      "          0       0.83      0.95      0.89      4575\n",
      "          1       0.70      0.39      0.50      1458\n",
      "\n",
      "avg / total       0.80      0.81      0.79      6033\n",
      "\n"
     ]
    }
   ],
   "source": [
    "print('Classification Report:\\n')\n",
    "print(met.classification_report(y_test,log_predict))"
   ]
  },
  {
   "cell_type": "code",
   "execution_count": null,
   "metadata": {
    "colab": {},
    "colab_type": "code",
    "id": "rjNmOy9v1oxE"
   },
   "outputs": [],
   "source": []
  },
  {
   "cell_type": "markdown",
   "metadata": {
    "colab_type": "text",
    "id": "f90y0YttkkT6"
   },
   "source": [
    "##Support Vector Machine"
   ]
  },
  {
   "cell_type": "code",
   "execution_count": 288,
   "metadata": {
    "colab": {},
    "colab_type": "code",
    "id": "CwVAhr9fPkIY"
   },
   "outputs": [],
   "source": [
    "sig=SVC(kernel='rbf')"
   ]
  },
  {
   "cell_type": "code",
   "execution_count": 289,
   "metadata": {
    "colab": {
     "base_uri": "https://localhost:8080/",
     "height": 85
    },
    "colab_type": "code",
    "id": "sVPvXuJJQXvS",
    "outputId": "67278414-77b6-4ca9-b929-db5bdccf3c68"
   },
   "outputs": [
    {
     "data": {
      "text/plain": [
       "SVC(C=1.0, cache_size=200, class_weight=None, coef0=0.0,\n",
       "  decision_function_shape='ovr', degree=3, gamma='auto', kernel='rbf',\n",
       "  max_iter=-1, probability=False, random_state=None, shrinking=True,\n",
       "  tol=0.001, verbose=False)"
      ]
     },
     "execution_count": 289,
     "metadata": {},
     "output_type": "execute_result"
    }
   ],
   "source": [
    "sig.fit(x_train,y_train)"
   ]
  },
  {
   "cell_type": "code",
   "execution_count": 290,
   "metadata": {
    "colab": {},
    "colab_type": "code",
    "id": "UNT620MeQbZI"
   },
   "outputs": [],
   "source": [
    "sig_predict=sig.predict(x_test)"
   ]
  },
  {
   "cell_type": "code",
   "execution_count": 291,
   "metadata": {
    "colab": {
     "base_uri": "https://localhost:8080/",
     "height": 34
    },
    "colab_type": "code",
    "id": "oi6t90j2QkZ3",
    "outputId": "ad945387-5e4c-4026-8c95-30e965a5895b"
   },
   "outputs": [
    {
     "data": {
      "text/plain": [
       "0.8370628211503398"
      ]
     },
     "execution_count": 291,
     "metadata": {},
     "output_type": "execute_result"
    }
   ],
   "source": [
    "sig_score=met.accuracy_score(y_test,sig_predict)\n",
    "sig_score"
   ]
  },
  {
   "cell_type": "code",
   "execution_count": 292,
   "metadata": {
    "colab": {
     "base_uri": "https://localhost:8080/",
     "height": 338
    },
    "colab_type": "code",
    "id": "vKF4AFhE2sbI",
    "outputId": "4bd22a08-faf8-49fa-8a4e-3fb9ebc9059b"
   },
   "outputs": [
    {
     "data": {
      "image/png": "[encoded data removed]",
      "text/plain": [
       "<Figure size 288x288 with 1 Axes>"
      ]
     },
     "metadata": {},
     "output_type": "display_data"
    }
   ],
   "source": [
    "plt.figure(figsize=(4,4))\n",
    "mat=met.confusion_matrix(y_test,sig_predict)\n",
    "sns.heatmap(mat,annot=True,fmt=\".3f\",square = True, cmap = 'viridis', cbar=False)\n",
    "plt.xticks(df['Income(>50k)'].unique(),['Less or equal to 50k','Above 50k'],rotation=30)\n",
    "plt.xlabel('Predicted label')\n",
    "plt.yticks(df['Income(>50k)'].unique(),['Less or equal to 50k','Above 50k'],rotation=30,)\n",
    "plt.ylabel('Actual label')\n",
    "plt.title('Confusion Matrix')\n",
    "plt.show()\n"
   ]
  },
  {
   "cell_type": "code",
   "execution_count": 293,
   "metadata": {
    "colab": {
     "base_uri": "https://localhost:8080/",
     "height": 224
    },
    "colab_type": "code",
    "id": "WFddjyDN24On",
    "outputId": "6149d6c0-6ab8-41cf-a19c-96621f2467b6"
   },
   "outputs": [
    {
     "name": "stdout",
     "output_type": "stream",
     "text": [
      "Classification Report:\n",
      "\n",
      "             precision    recall  f1-score   support\n",
      "\n",
      "          0       0.85      0.95      0.90      4575\n",
      "          1       0.77      0.47      0.58      1458\n",
      "\n",
      "avg / total       0.83      0.84      0.82      6033\n",
      "\n"
     ]
    }
   ],
   "source": [
    "y_test,log_predict\n",
    "print('Classification Report:\\n')\n",
    "print(met.classification_report(y_test,sig_predict))"
   ]
  },
  {
   "cell_type": "markdown",
   "metadata": {
    "colab_type": "text",
    "id": "a4ngleEGlBkX"
   },
   "source": [
    "## Decision Tree Classifier using *gini* Criterion"
   ]
  },
  {
   "cell_type": "code",
   "execution_count": 294,
   "metadata": {
    "colab": {},
    "colab_type": "code",
    "id": "VjTVsSlqQti8"
   },
   "outputs": [],
   "source": [
    "gdc=DecisionTreeClassifier(criterion='gini')"
   ]
  },
  {
   "cell_type": "code",
   "execution_count": 295,
   "metadata": {
    "colab": {
     "base_uri": "https://localhost:8080/",
     "height": 119
    },
    "colab_type": "code",
    "id": "u8kZAFPFRa8z",
    "outputId": "685ce1ed-bb06-4956-9014-202056bb6445"
   },
   "outputs": [
    {
     "data": {
      "text/plain": [
       "DecisionTreeClassifier(class_weight=None, criterion='gini', max_depth=None,\n",
       "            max_features=None, max_leaf_nodes=None,\n",
       "            min_impurity_decrease=0.0, min_impurity_split=None,\n",
       "            min_samples_leaf=1, min_samples_split=2,\n",
       "            min_weight_fraction_leaf=0.0, presort=False, random_state=None,\n",
       "            splitter='best')"
      ]
     },
     "execution_count": 295,
     "metadata": {},
     "output_type": "execute_result"
    }
   ],
   "source": [
    "gdc.fit(x_train,y_train)"
   ]
  },
  {
   "cell_type": "code",
   "execution_count": 296,
   "metadata": {
    "colab": {},
    "colab_type": "code",
    "id": "inRABU59Rh37"
   },
   "outputs": [],
   "source": [
    "gdc_predict=gdc.predict(x_test)"
   ]
  },
  {
   "cell_type": "code",
   "execution_count": 297,
   "metadata": {
    "colab": {
     "base_uri": "https://localhost:8080/",
     "height": 51
    },
    "colab_type": "code",
    "id": "6_J3_MrbRpIN",
    "outputId": "31f0f6d2-8256-4a4c-882c-83ace51b3c80"
   },
   "outputs": [
    {
     "name": "stdout",
     "output_type": "stream",
     "text": [
      "Accuracy Score\n"
     ]
    },
    {
     "data": {
      "text/plain": [
       "0.8213160948118681"
      ]
     },
     "execution_count": 297,
     "metadata": {},
     "output_type": "execute_result"
    }
   ],
   "source": [
    "print('Accuracy Score')\n",
    "gdc_score=met.accuracy_score(y_test,gdc_predict)\n",
    "gdc_score"
   ]
  },
  {
   "cell_type": "code",
   "execution_count": 298,
   "metadata": {
    "colab": {
     "base_uri": "https://localhost:8080/",
     "height": 338
    },
    "colab_type": "code",
    "id": "niYl37H93LpU",
    "outputId": "b7d79b62-5cd6-4524-95f3-f67bae58646c"
   },
   "outputs": [
    {
     "data": {
      "image/png": "[encoded data removed]",
      "text/plain": [
       "<Figure size 288x288 with 1 Axes>"
      ]
     },
     "metadata": {},
     "output_type": "display_data"
    }
   ],
   "source": [
    "plt.figure(figsize=(4,4))\n",
    "mat=met.confusion_matrix(y_test,gdc_predict)\n",
    "sns.heatmap(mat,annot=True,fmt=\".3f\",square = True, cmap = 'viridis', cbar=False)\n",
    "plt.xticks(df['Income(>50k)'].unique(),['Less or equal to 50k','Above 50k'],rotation=30)\n",
    "plt.xlabel('Predicted label')\n",
    "plt.yticks(df['Income(>50k)'].unique(),['Less or equal to 50k','Above 50k'],rotation=30,)\n",
    "plt.ylabel('Actual label')\n",
    "plt.title('Confusion Matrix')\n",
    "plt.show()"
   ]
  },
  {
   "cell_type": "code",
   "execution_count": 299,
   "metadata": {
    "colab": {
     "base_uri": "https://localhost:8080/",
     "height": 170
    },
    "colab_type": "code",
    "id": "1SdyvflW3LpX",
    "outputId": "7e3fb8b8-e035-488b-f009-dd9a5c348443"
   },
   "outputs": [
    {
     "name": "stdout",
     "output_type": "stream",
     "text": [
      "Classification Report:\n",
      "\n",
      "             precision    recall  f1-score   support\n",
      "\n",
      "          0       0.88      0.88      0.88      4575\n",
      "          1       0.63      0.62      0.63      1458\n",
      "\n",
      "avg / total       0.82      0.82      0.82      6033\n",
      "\n"
     ]
    }
   ],
   "source": [
    "print('Classification Report:\\n')\n",
    "print(met.classification_report(y_test,gdc_predict))"
   ]
  },
  {
   "cell_type": "markdown",
   "metadata": {
    "colab_type": "text",
    "id": "5grJEqz4l24_"
   },
   "source": [
    "## Random Forest Classifier using *entropy* Criterion"
   ]
  },
  {
   "cell_type": "code",
   "execution_count": 300,
   "metadata": {
    "colab": {},
    "colab_type": "code",
    "id": "mQE_j-qsSzxg"
   },
   "outputs": [],
   "source": [
    "erf=RandomForestClassifier(criterion='entropy')"
   ]
  },
  {
   "cell_type": "code",
   "execution_count": 301,
   "metadata": {
    "colab": {
     "base_uri": "https://localhost:8080/",
     "height": 136
    },
    "colab_type": "code",
    "id": "WY3RJKKJTBoS",
    "outputId": "7946fd10-3e2d-4502-ae64-7a156c618812"
   },
   "outputs": [
    {
     "data": {
      "text/plain": [
       "RandomForestClassifier(bootstrap=True, class_weight=None, criterion='entropy',\n",
       "            max_depth=None, max_features='auto', max_leaf_nodes=None,\n",
       "            min_impurity_decrease=0.0, min_impurity_split=None,\n",
       "            min_samples_leaf=1, min_samples_split=2,\n",
       "            min_weight_fraction_leaf=0.0, n_estimators=10, n_jobs=1,\n",
       "            oob_score=False, random_state=None, verbose=0,\n",
       "            warm_start=False)"
      ]
     },
     "execution_count": 301,
     "metadata": {},
     "output_type": "execute_result"
    }
   ],
   "source": [
    "erf.fit(x_train,y_train)"
   ]
  },
  {
   "cell_type": "code",
   "execution_count": 302,
   "metadata": {
    "colab": {},
    "colab_type": "code",
    "id": "Bm3P5wSMTF10"
   },
   "outputs": [],
   "source": [
    "erf_predict=erf.predict(x_test)"
   ]
  },
  {
   "cell_type": "code",
   "execution_count": 303,
   "metadata": {
    "colab": {
     "base_uri": "https://localhost:8080/",
     "height": 51
    },
    "colab_type": "code",
    "id": "lrkZMwimTLuA",
    "outputId": "33fb5da4-8381-45c1-a2e4-dcc8245ff065"
   },
   "outputs": [
    {
     "name": "stdout",
     "output_type": "stream",
     "text": [
      "Accuracy Score:\n"
     ]
    },
    {
     "data": {
      "text/plain": [
       "0.8470081219956904"
      ]
     },
     "execution_count": 303,
     "metadata": {},
     "output_type": "execute_result"
    }
   ],
   "source": [
    "print('Accuracy Score:')\n",
    "erf_score=met.accuracy_score(y_test,erf_predict)\n",
    "erf_score"
   ]
  },
  {
   "cell_type": "code",
   "execution_count": 304,
   "metadata": {
    "colab": {
     "base_uri": "https://localhost:8080/",
     "height": 338
    },
    "colab_type": "code",
    "id": "sXBVl4G43Uxz",
    "outputId": "ace3e446-e477-4f90-9fd9-1d0c2da32b26"
   },
   "outputs": [
    {
     "data": {
      "image/png": "[encoded data removed]",
      "text/plain": [
       "<Figure size 288x288 with 1 Axes>"
      ]
     },
     "metadata": {},
     "output_type": "display_data"
    }
   ],
   "source": [
    "plt.figure(figsize=(4,4))\n",
    "mat=met.confusion_matrix(y_test,erf_predict)\n",
    "sns.heatmap(mat,annot=True,fmt=\".3f\",square = True, cmap = 'viridis', cbar=False)\n",
    "plt.xticks(df['Income(>50k)'].unique(),['Less or equal to 50k','Above 50k'],rotation=30)\n",
    "plt.xlabel('Predicted label')\n",
    "plt.yticks(df['Income(>50k)'].unique(),['Less or equal to 50k','Above 50k'],rotation=30,)\n",
    "plt.ylabel('Actual label')\n",
    "plt.title('Confusion Matrix')\n",
    "plt.show()"
   ]
  },
  {
   "cell_type": "code",
   "execution_count": 305,
   "metadata": {
    "colab": {
     "base_uri": "https://localhost:8080/",
     "height": 170
    },
    "colab_type": "code",
    "id": "AaFdEKNl3Ux5",
    "outputId": "7c043c61-320e-43e5-9907-943fe796454a"
   },
   "outputs": [
    {
     "name": "stdout",
     "output_type": "stream",
     "text": [
      "Classification Report:\n",
      "\n",
      "             precision    recall  f1-score   support\n",
      "\n",
      "          0       0.89      0.92      0.90      4575\n",
      "          1       0.71      0.63      0.66      1458\n",
      "\n",
      "avg / total       0.84      0.85      0.84      6033\n",
      "\n"
     ]
    }
   ],
   "source": [
    "print('Classification Report:\\n')\n",
    "print(met.classification_report(y_test,erf_predict))"
   ]
  },
  {
   "cell_type": "markdown",
   "metadata": {
    "colab_type": "text",
    "id": "m2mD4XxynIb9"
   },
   "source": [
    "## Bagging Classifier"
   ]
  },
  {
   "cell_type": "code",
   "execution_count": 306,
   "metadata": {
    "colab": {},
    "colab_type": "code",
    "id": "mxYCUj8xTQ6Y"
   },
   "outputs": [],
   "source": [
    "bag=BaggingClassifier()"
   ]
  },
  {
   "cell_type": "code",
   "execution_count": 307,
   "metadata": {
    "colab": {
     "base_uri": "https://localhost:8080/",
     "height": 85
    },
    "colab_type": "code",
    "id": "NOFZ50WBTsk2",
    "outputId": "70108a7c-3d3b-4710-d03f-ab9fcb828ca5"
   },
   "outputs": [
    {
     "data": {
      "text/plain": [
       "BaggingClassifier(base_estimator=None, bootstrap=True,\n",
       "         bootstrap_features=False, max_features=1.0, max_samples=1.0,\n",
       "         n_estimators=10, n_jobs=1, oob_score=False, random_state=None,\n",
       "         verbose=0, warm_start=False)"
      ]
     },
     "execution_count": 307,
     "metadata": {},
     "output_type": "execute_result"
    }
   ],
   "source": [
    "bag.fit(x_train,y_train)"
   ]
  },
  {
   "cell_type": "code",
   "execution_count": 308,
   "metadata": {
    "colab": {},
    "colab_type": "code",
    "id": "Obe7hJDATwDT"
   },
   "outputs": [],
   "source": [
    "bag_predict=bag.predict(x_test)"
   ]
  },
  {
   "cell_type": "code",
   "execution_count": 309,
   "metadata": {
    "colab": {
     "base_uri": "https://localhost:8080/",
     "height": 51
    },
    "colab_type": "code",
    "id": "zIzazgFqT1-d",
    "outputId": "01495bbf-0483-4a24-b2b0-c2cef38c8a56"
   },
   "outputs": [
    {
     "name": "stdout",
     "output_type": "stream",
     "text": [
      "Accuracy Score\n"
     ]
    },
    {
     "data": {
      "text/plain": [
       "0.8388861263053208"
      ]
     },
     "execution_count": 309,
     "metadata": {},
     "output_type": "execute_result"
    }
   ],
   "source": [
    "print('Accuracy Score')\n",
    "bag_score=met.accuracy_score(y_test,bag_predict)\n",
    "bag_score"
   ]
  },
  {
   "cell_type": "code",
   "execution_count": 310,
   "metadata": {
    "colab": {
     "base_uri": "https://localhost:8080/",
     "height": 338
    },
    "colab_type": "code",
    "id": "Si-8HplS3eSq",
    "outputId": "689fbaa8-acc9-417d-cc0f-f65144e95972"
   },
   "outputs": [
    {
     "data": {
      "image/png": "[encoded data removed]",
      "text/plain": [
       "<Figure size 288x288 with 1 Axes>"
      ]
     },
     "metadata": {},
     "output_type": "display_data"
    }
   ],
   "source": [
    "plt.figure(figsize=(4,4))\n",
    "mat=met.confusion_matrix(y_test,bag_predict)\n",
    "sns.heatmap(mat,annot=True,fmt=\".3f\",square = True, cmap = 'viridis', cbar=False)\n",
    "plt.xticks(df['Income(>50k)'].unique(),['Less or equal to 50k','Above 50k'],rotation=30)\n",
    "plt.xlabel('Predicted label')\n",
    "plt.yticks(df['Income(>50k)'].unique(),['Less or equal to 50k','Above 50k'],rotation=30,)\n",
    "plt.ylabel('Actual label')\n",
    "plt.title('Confusion Matrix')\n",
    "plt.show()"
   ]
  },
  {
   "cell_type": "code",
   "execution_count": 311,
   "metadata": {
    "colab": {
     "base_uri": "https://localhost:8080/",
     "height": 170
    },
    "colab_type": "code",
    "id": "hj85F9jK3eSu",
    "outputId": "a082e9df-229c-4bd4-9845-7230768216a0"
   },
   "outputs": [
    {
     "name": "stdout",
     "output_type": "stream",
     "text": [
      "Classification Report:\n",
      "\n",
      "             precision    recall  f1-score   support\n",
      "\n",
      "          0       0.88      0.91      0.90      4575\n",
      "          1       0.68      0.62      0.65      1458\n",
      "\n",
      "avg / total       0.83      0.84      0.84      6033\n",
      "\n"
     ]
    }
   ],
   "source": [
    "print('Classification Report:\\n')\n",
    "print(met.classification_report(y_test,bag_predict))"
   ]
  },
  {
   "cell_type": "markdown",
   "metadata": {
    "colab_type": "text",
    "id": "20xBuAR5nfYl"
   },
   "source": [
    "## Gradient Boosting Classifier"
   ]
  },
  {
   "cell_type": "code",
   "execution_count": 312,
   "metadata": {
    "colab": {},
    "colab_type": "code",
    "id": "WUzlAa5LT6Qp"
   },
   "outputs": [],
   "source": [
    "gb=GradientBoostingClassifier()"
   ]
  },
  {
   "cell_type": "code",
   "execution_count": 313,
   "metadata": {
    "colab": {
     "base_uri": "https://localhost:8080/",
     "height": 153
    },
    "colab_type": "code",
    "id": "q7DkeVpDUJPI",
    "outputId": "8b4766ff-d6c1-41a6-f3fc-565809e227a0"
   },
   "outputs": [
    {
     "data": {
      "text/plain": [
       "GradientBoostingClassifier(criterion='friedman_mse', init=None,\n",
       "              learning_rate=0.1, loss='deviance', max_depth=3,\n",
       "              max_features=None, max_leaf_nodes=None,\n",
       "              min_impurity_decrease=0.0, min_impurity_split=None,\n",
       "              min_samples_leaf=1, min_samples_split=2,\n",
       "              min_weight_fraction_leaf=0.0, n_estimators=100,\n",
       "              presort='auto', random_state=None, subsample=1.0, verbose=0,\n",
       "              warm_start=False)"
      ]
     },
     "execution_count": 313,
     "metadata": {},
     "output_type": "execute_result"
    }
   ],
   "source": [
    "gb.fit(x_train,y_train)"
   ]
  },
  {
   "cell_type": "code",
   "execution_count": 314,
   "metadata": {
    "colab": {},
    "colab_type": "code",
    "id": "MgYpNjc9UOI8"
   },
   "outputs": [],
   "source": [
    "gb_predict=gb.predict(x_test)"
   ]
  },
  {
   "cell_type": "code",
   "execution_count": 315,
   "metadata": {
    "colab": {
     "base_uri": "https://localhost:8080/",
     "height": 51
    },
    "colab_type": "code",
    "id": "af6rcxaWUVkJ",
    "outputId": "077bf850-a2f4-4e89-e839-02a0541e85ca"
   },
   "outputs": [
    {
     "name": "stdout",
     "output_type": "stream",
     "text": [
      "Accuracy Score\n"
     ]
    },
    {
     "data": {
      "text/plain": [
       "0.8647439085032322"
      ]
     },
     "execution_count": 315,
     "metadata": {},
     "output_type": "execute_result"
    }
   ],
   "source": [
    "print('Accuracy Score')\n",
    "gb_score=met.accuracy_score(y_test,gb_predict)\n",
    "gb_score"
   ]
  },
  {
   "cell_type": "code",
   "execution_count": 316,
   "metadata": {
    "colab": {
     "base_uri": "https://localhost:8080/",
     "height": 338
    },
    "colab_type": "code",
    "id": "Ii0NI93M3i0U",
    "outputId": "2be076f2-8fc4-400c-dd7b-7dadb3abc91a"
   },
   "outputs": [
    {
     "data": {
      "image/png": "[encoded data removed]",
      "text/plain": [
       "<Figure size 288x288 with 1 Axes>"
      ]
     },
     "metadata": {},
     "output_type": "display_data"
    }
   ],
   "source": [
    "plt.figure(figsize=(4,4))\n",
    "mat=met.confusion_matrix(y_test,gb_predict)\n",
    "sns.heatmap(mat,annot=True,fmt=\".3f\",square = True, cmap = 'viridis', cbar=False)\n",
    "plt.xticks(df['Income(>50k)'].unique(),['Less or equal to 50k','Above 50k'],rotation=30)\n",
    "plt.xlabel('Predicted label')\n",
    "plt.yticks(df['Income(>50k)'].unique(),['Less or equal to 50k','Above 50k'],rotation=30,)\n",
    "plt.ylabel('Actual label')\n",
    "plt.title('Confusion Matrix')\n",
    "plt.show()"
   ]
  },
  {
   "cell_type": "code",
   "execution_count": 317,
   "metadata": {
    "colab": {
     "base_uri": "https://localhost:8080/",
     "height": 170
    },
    "colab_type": "code",
    "id": "rRRekfB83i0X",
    "outputId": "b6a62846-43c6-430c-bf64-80b5afe7930c"
   },
   "outputs": [
    {
     "name": "stdout",
     "output_type": "stream",
     "text": [
      "Classification Report:\n",
      "\n",
      "             precision    recall  f1-score   support\n",
      "\n",
      "          0       0.88      0.95      0.91      4575\n",
      "          1       0.79      0.60      0.68      1458\n",
      "\n",
      "avg / total       0.86      0.86      0.86      6033\n",
      "\n"
     ]
    }
   ],
   "source": [
    "print('Classification Report:\\n')\n",
    "print(met.classification_report(y_test,gb_predict))"
   ]
  },
  {
   "cell_type": "markdown",
   "metadata": {
    "colab_type": "text",
    "id": "aQQzahR3nxr1"
   },
   "source": [
    "## Voting Classifier"
   ]
  },
  {
   "cell_type": "code",
   "execution_count": 318,
   "metadata": {
    "colab": {},
    "colab_type": "code",
    "id": "bFAONnswUg5M"
   },
   "outputs": [],
   "source": [
    "vc=VotingClassifier([('tree',DecisionTreeClassifier()),('log',LogisticRegression()),('svm',SVC())])"
   ]
  },
  {
   "cell_type": "code",
   "execution_count": 319,
   "metadata": {
    "colab": {
     "base_uri": "https://localhost:8080/",
     "height": 153
    },
    "colab_type": "code",
    "id": "0kFYXtvwU1GS",
    "outputId": "d0ea22b0-e97b-46a3-c4e5-3f2f6a5c2352"
   },
   "outputs": [
    {
     "data": {
      "text/plain": [
       "VotingClassifier(estimators=[('tree', DecisionTreeClassifier(class_weight=None, criterion='gini', max_depth=None,\n",
       "            max_features=None, max_leaf_nodes=None,\n",
       "            min_impurity_decrease=0.0, min_impurity_split=None,\n",
       "            min_samples_leaf=1, min_samples_split=2,\n",
       "            min_weight_fraction_le...,\n",
       "  max_iter=-1, probability=False, random_state=None, shrinking=True,\n",
       "  tol=0.001, verbose=False))],\n",
       "         flatten_transform=None, n_jobs=1, voting='hard', weights=None)"
      ]
     },
     "execution_count": 319,
     "metadata": {},
     "output_type": "execute_result"
    }
   ],
   "source": [
    "vc.fit(x_train,y_train)"
   ]
  },
  {
   "cell_type": "code",
   "execution_count": 320,
   "metadata": {
    "colab": {
     "base_uri": "https://localhost:8080/",
     "height": 71
    },
    "colab_type": "code",
    "id": "FSxMjmaCU4Ep",
    "outputId": "ca1fa592-c6be-45ae-9df7-42fcad52cb70"
   },
   "outputs": [
    {
     "name": "stderr",
     "output_type": "stream",
     "text": [
      "C:\\Users\\gajme\\Anaconda3\\lib\\site-packages\\sklearn\\preprocessing\\label.py:151: DeprecationWarning: The truth value of an empty array is ambiguous. Returning False, but in future this will result in an error. Use `array.size > 0` to check that an array is not empty.\n",
      "  if diff:\n"
     ]
    }
   ],
   "source": [
    "vc_predict=vc.predict(x_test)"
   ]
  },
  {
   "cell_type": "code",
   "execution_count": 321,
   "metadata": {
    "colab": {
     "base_uri": "https://localhost:8080/",
     "height": 51
    },
    "colab_type": "code",
    "id": "uN33nr0UVA17",
    "outputId": "a907ee7b-39d8-4c50-d68b-79248c417e01"
   },
   "outputs": [
    {
     "name": "stdout",
     "output_type": "stream",
     "text": [
      "Accuracy Score\n"
     ]
    },
    {
     "data": {
      "text/plain": [
       "0.8509862423338306"
      ]
     },
     "execution_count": 321,
     "metadata": {},
     "output_type": "execute_result"
    }
   ],
   "source": [
    "print('Accuracy Score')\n",
    "vc_score=met.accuracy_score(y_test,vc_predict)\n",
    "vc_score"
   ]
  },
  {
   "cell_type": "code",
   "execution_count": 322,
   "metadata": {
    "colab": {
     "base_uri": "https://localhost:8080/",
     "height": 338
    },
    "colab_type": "code",
    "id": "Bqez7eq93p7U",
    "outputId": "e1b0c255-21ad-43a5-e69d-3027d9d8048d"
   },
   "outputs": [
    {
     "data": {
      "image/png": "[encoded data removed]",
      "text/plain": [
       "<Figure size 288x288 with 1 Axes>"
      ]
     },
     "metadata": {},
     "output_type": "display_data"
    }
   ],
   "source": [
    "plt.figure(figsize=(4,4))\n",
    "mat=met.confusion_matrix(y_test,vc_predict)\n",
    "sns.heatmap(mat,annot=True,fmt=\".3f\",square = True, cmap = 'viridis', cbar=False)\n",
    "plt.xticks(df['Income(>50k)'].unique(),['Less or equal to 50k','Above 50k'],rotation=30)\n",
    "plt.xlabel('Predicted label')\n",
    "plt.yticks(df['Income(>50k)'].unique(),['Less or equal to 50k','Above 50k'],rotation=30,)\n",
    "plt.ylabel('Actual label')\n",
    "plt.title('Confusion Matrix')\n",
    "plt.show()"
   ]
  },
  {
   "cell_type": "code",
   "execution_count": 323,
   "metadata": {
    "colab": {
     "base_uri": "https://localhost:8080/",
     "height": 170
    },
    "colab_type": "code",
    "id": "0QZlXRxV3p7Z",
    "outputId": "aff671b7-69d7-4e53-c7f4-285ca310427e"
   },
   "outputs": [
    {
     "name": "stdout",
     "output_type": "stream",
     "text": [
      "Classification Report:\n",
      "\n",
      "             precision    recall  f1-score   support\n",
      "\n",
      "          0       0.86      0.96      0.91      4575\n",
      "          1       0.80      0.51      0.62      1458\n",
      "\n",
      "avg / total       0.85      0.85      0.84      6033\n",
      "\n"
     ]
    }
   ],
   "source": [
    "print('Classification Report:\\n')\n",
    "print(met.classification_report(y_test,vc_predict))"
   ]
  },
  {
   "cell_type": "markdown",
   "metadata": {
    "colab_type": "text",
    "id": "UWfx2J3EpAUk"
   },
   "source": [
    "##Comparison of different model"
   ]
  },
  {
   "cell_type": "markdown",
   "metadata": {
    "colab_type": "text",
    "id": "GpyarZhY323U"
   },
   "source": [
    "#### Comparing Accuracy Score of Various Model"
   ]
  },
  {
   "cell_type": "code",
   "execution_count": 324,
   "metadata": {
    "colab": {},
    "colab_type": "code",
    "id": "kMNIKfHQpJpb"
   },
   "outputs": [],
   "source": [
    "model=['Logistic Regression','DecisionTree(gini)','RandomForest(entropy)','SVM(rbf)','Bagging','GradientBooster','VotingClassifier']\n",
    "score=[log_score,gdc_score,erf_score,sig_score,bag_score,gb_score,vc_score]\n",
    "compare=pd.DataFrame({'Model':model,'Score':score},index=[i for i in range(1,8)])"
   ]
  },
  {
   "cell_type": "code",
   "execution_count": 325,
   "metadata": {
    "colab": {
     "base_uri": "https://localhost:8080/",
     "height": 111
    },
    "colab_type": "code",
    "id": "kj_vhrOTpTNj",
    "outputId": "3fd9a66f-ef82-43f2-c3e0-01252f379355"
   },
   "outputs": [
    {
     "data": {
      "text/html": [
       "<div>\n",
       "<style scoped>\n",
       "    .dataframe tbody tr th:only-of-type {\n",
       "        vertical-align: middle;\n",
       "    }\n",
       "\n",
       "    .dataframe tbody tr th {\n",
       "        vertical-align: top;\n",
       "    }\n",
       "\n",
       "    .dataframe thead th {\n",
       "        text-align: right;\n",
       "    }\n",
       "</style>\n",
       "<table border=\"1\" class=\"dataframe\">\n",
       "  <thead>\n",
       "    <tr style=\"text-align: right;\">\n",
       "      <th></th>\n",
       "      <th>1</th>\n",
       "      <th>2</th>\n",
       "      <th>3</th>\n",
       "      <th>4</th>\n",
       "      <th>5</th>\n",
       "      <th>6</th>\n",
       "      <th>7</th>\n",
       "    </tr>\n",
       "  </thead>\n",
       "  <tbody>\n",
       "    <tr>\n",
       "      <th>Model</th>\n",
       "      <td>Logistic Regression</td>\n",
       "      <td>DecisionTree(gini)</td>\n",
       "      <td>RandomForest(entropy)</td>\n",
       "      <td>SVM(rbf)</td>\n",
       "      <td>Bagging</td>\n",
       "      <td>GradientBooster</td>\n",
       "      <td>VotingClassifier</td>\n",
       "    </tr>\n",
       "    <tr>\n",
       "      <th>Score</th>\n",
       "      <td>0.813526</td>\n",
       "      <td>0.821316</td>\n",
       "      <td>0.847008</td>\n",
       "      <td>0.837063</td>\n",
       "      <td>0.838886</td>\n",
       "      <td>0.864744</td>\n",
       "      <td>0.850986</td>\n",
       "    </tr>\n",
       "  </tbody>\n",
       "</table>\n",
       "</div>"
      ],
      "text/plain": [
       "                         1                   2                      3  \\\n",
       "Model  Logistic Regression  DecisionTree(gini)  RandomForest(entropy)   \n",
       "Score             0.813526            0.821316               0.847008   \n",
       "\n",
       "              4         5                6                 7  \n",
       "Model  SVM(rbf)   Bagging  GradientBooster  VotingClassifier  \n",
       "Score  0.837063  0.838886         0.864744          0.850986  "
      ]
     },
     "execution_count": 325,
     "metadata": {},
     "output_type": "execute_result"
    }
   ],
   "source": [
    "compare.T"
   ]
  },
  {
   "cell_type": "markdown",
   "metadata": {
    "colab_type": "text",
    "id": "LjGJ8FDY3yHg"
   },
   "source": []
  },
  {
   "cell_type": "code",
   "execution_count": 326,
   "metadata": {
    "colab": {
     "base_uri": "https://localhost:8080/",
     "height": 349
    },
    "colab_type": "code",
    "id": "tFxvvxUVpT8M",
    "outputId": "6a784c4e-8ba6-4ed3-dd52-fa2e56e987b9"
   },
   "outputs": [
    {
     "data": {
      "image/png": "[encoded data removed]",
      "text/plain": [
       "<Figure size 1296x360 with 1 Axes>"
      ]
     },
     "metadata": {},
     "output_type": "display_data"
    }
   ],
   "source": [
    "plt.figure(figsize=(18,5))\n",
    "sns.pointplot(x='Model',y='Score',data=compare)\n",
    "plt.title('Model Vs Score')\n",
    "plt.xlabel('MODEL')\n",
    "plt.ylabel('SCORE')\n",
    "plt.show()"
   ]
  },
  {
   "cell_type": "markdown",
   "metadata": {
    "colab_type": "text",
    "id": "PTDNHZ_nrnBw"
   },
   "source": [
    "#Conclusion:\n",
    "While doing this project ,firstly  I have done data cleaning as there were some missing values in the csv file.\n",
    "\n",
    "\n",
    "After that,i have made EDA report showing relationship between income and other features.\n",
    "\n",
    "\n",
    "After completion of EDA ,I have done feature engineering .Some of the part of feature eginnering was done during EDA report .There were continuous datatype coloumns like Age,Hours per week which were to be changed into categorised one.And there were columns like Race,age etc which were encoded into numerical data.\n",
    "\n",
    "After feature engineering,I  tried to develop build the datasets for training and testing sets to use on various models.I used 7 differenct  models for classification  and the accuracy score of each model is given below:\n",
    "\n",
    "\n",
    "\n"
   ]
  },
  {
   "cell_type": "code",
   "execution_count": 327,
   "metadata": {
    "colab": {
     "base_uri": "https://localhost:8080/",
     "height": 111
    },
    "colab_type": "code",
    "id": "aJ2HlHkz-k77",
    "outputId": "837a0ed1-f447-4e19-9645-5a2c63acc116"
   },
   "outputs": [
    {
     "data": {
      "text/html": [
       "<div>\n",
       "<style scoped>\n",
       "    .dataframe tbody tr th:only-of-type {\n",
       "        vertical-align: middle;\n",
       "    }\n",
       "\n",
       "    .dataframe tbody tr th {\n",
       "        vertical-align: top;\n",
       "    }\n",
       "\n",
       "    .dataframe thead th {\n",
       "        text-align: right;\n",
       "    }\n",
       "</style>\n",
       "<table border=\"1\" class=\"dataframe\">\n",
       "  <thead>\n",
       "    <tr style=\"text-align: right;\">\n",
       "      <th></th>\n",
       "      <th>1</th>\n",
       "      <th>2</th>\n",
       "      <th>3</th>\n",
       "      <th>4</th>\n",
       "      <th>5</th>\n",
       "      <th>6</th>\n",
       "      <th>7</th>\n",
       "    </tr>\n",
       "  </thead>\n",
       "  <tbody>\n",
       "    <tr>\n",
       "      <th>Model</th>\n",
       "      <td>Logistic Regression</td>\n",
       "      <td>DecisionTree(gini)</td>\n",
       "      <td>RandomForest(entropy)</td>\n",
       "      <td>SVM(rbf)</td>\n",
       "      <td>Bagging</td>\n",
       "      <td>GradientBooster</td>\n",
       "      <td>VotingClassifier</td>\n",
       "    </tr>\n",
       "    <tr>\n",
       "      <th>Score</th>\n",
       "      <td>0.813526</td>\n",
       "      <td>0.821316</td>\n",
       "      <td>0.847008</td>\n",
       "      <td>0.837063</td>\n",
       "      <td>0.838886</td>\n",
       "      <td>0.864744</td>\n",
       "      <td>0.850986</td>\n",
       "    </tr>\n",
       "  </tbody>\n",
       "</table>\n",
       "</div>"
      ],
      "text/plain": [
       "                         1                   2                      3  \\\n",
       "Model  Logistic Regression  DecisionTree(gini)  RandomForest(entropy)   \n",
       "Score             0.813526            0.821316               0.847008   \n",
       "\n",
       "              4         5                6                 7  \n",
       "Model  SVM(rbf)   Bagging  GradientBooster  VotingClassifier  \n",
       "Score  0.837063  0.838886         0.864744          0.850986  "
      ]
     },
     "execution_count": 327,
     "metadata": {},
     "output_type": "execute_result"
    }
   ],
   "source": [
    "compare.T"
   ]
  },
  {
   "cell_type": "markdown",
   "metadata": {
    "colab_type": "text",
    "id": "MOASsDNl-upS"
   },
   "source": [
    "The acccuracy score of Gradient Booster Classifier was maximum and accuracy score of logistic Regression was minimun. "
   ]
  },
  {
   "cell_type": "code",
   "execution_count": null,
   "metadata": {},
   "outputs": [],
   "source": []
  },
  {
   "cell_type": "code",
   "execution_count": null,
   "metadata": {},
   "outputs": [],
   "source": []
  },
  {
   "cell_type": "code",
   "execution_count": null,
   "metadata": {},
   "outputs": [],
   "source": [
    "\n"
   ]
  },
  {
   "cell_type": "code",
   "execution_count": null,
   "metadata": {},
   "outputs": [],
   "source": []
  },
  {
   "cell_type": "code",
   "execution_count": null,
   "metadata": {},
   "outputs": [],
   "source": []
  }
 ],
 "metadata": {
  "colab": {
   "collapsed_sections": [],
   "name": "Copy of TensorFlow with GPU",
   "provenance": [],
   "version": "0.3.2"
  },
  "kernelspec": {
   "display_name": "Python 3",
   "language": "python",
   "name": "python3"
  },
  "language_info": {
   "codemirror_mode": {
    "name": "ipython",
    "version": 3
   },
   "file_extension": ".py",
   "mimetype": "text/x-python",
   "name": "python",
   "nbconvert_exporter": "python",
   "pygments_lexer": "ipython3",
   "version": "3.6.5"
  }
 },
 "nbformat": 4,
 "nbformat_minor": 1
}
