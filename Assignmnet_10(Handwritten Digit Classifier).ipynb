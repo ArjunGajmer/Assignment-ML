{
  "nbformat": 4,
  "nbformat_minor": 0,
  "metadata": {
    "colab": {
      "name": "Untitled11.ipynb",
      "version": "0.3.2",
      "provenance": [],
      "collapsed_sections": []
    },
    "kernelspec": {
      "name": "python3",
      "display_name": "Python 3"
    }
  },
  "cells": [
    {
      "cell_type": "markdown",
      "metadata": {
        "id": "view-in-github",
        "colab_type": "text"
      },
      "source": [
        "[View in Colaboratory](https://colab.research.google.com/github/ArjunGajmer/Assignment-ML/blob/master/Assignmnet_10(Handwritten%20Digit%20Classifier).ipynb)"
      ]
    },
    {
      "metadata": {
        "id": "m34uLXI4Obkc",
        "colab_type": "text"
      },
      "cell_type": "markdown",
      "source": [
        "#HandWritten Digit classifier"
      ]
    },
    {
      "metadata": {
        "id": "5R0md3opr9h3",
        "colab_type": "code",
        "colab": {}
      },
      "cell_type": "code",
      "source": [
        "import pandas as pd\n",
        "import matplotlib as plt\n",
        "import seaborn as sns"
      ],
      "execution_count": 0,
      "outputs": []
    },
    {
      "metadata": {
        "id": "CnFGFfN2p_Sc",
        "colab_type": "code",
        "colab": {}
      },
      "cell_type": "code",
      "source": [
        "from sklearn.datasets import *\n",
        "digits = load_digits()"
      ],
      "execution_count": 0,
      "outputs": []
    },
    {
      "metadata": {
        "id": "1a4JDQsXqObz",
        "colab_type": "code",
        "colab": {
          "base_uri": "https://localhost:8080/",
          "height": 34
        },
        "outputId": "b515da55-52ea-4bfb-c8da-5bf0e7b45023"
      },
      "cell_type": "code",
      "source": [
        "digits.keys()"
      ],
      "execution_count": 55,
      "outputs": [
        {
          "output_type": "execute_result",
          "data": {
            "text/plain": [
              "dict_keys(['data', 'target', 'target_names', 'images', 'DESCR'])"
            ]
          },
          "metadata": {
            "tags": []
          },
          "execution_count": 55
        }
      ]
    },
    {
      "metadata": {
        "id": "L0aYxV5rv4k2",
        "colab_type": "code",
        "colab": {
          "base_uri": "https://localhost:8080/",
          "height": 34
        },
        "outputId": "45d227ae-e7ca-4ea1-df3e-a9d38f91b83a"
      },
      "cell_type": "code",
      "source": [
        "digits.data.shape"
      ],
      "execution_count": 56,
      "outputs": [
        {
          "output_type": "execute_result",
          "data": {
            "text/plain": [
              "(1797, 64)"
            ]
          },
          "metadata": {
            "tags": []
          },
          "execution_count": 56
        }
      ]
    },
    {
      "metadata": {
        "id": "7n_bT6_ZxKRb",
        "colab_type": "code",
        "colab": {
          "base_uri": "https://localhost:8080/",
          "height": 34
        },
        "outputId": "04b7de96-ebe0-49d7-f29f-a20d5af3e80d"
      },
      "cell_type": "code",
      "source": [
        "digits.images.shape"
      ],
      "execution_count": 57,
      "outputs": [
        {
          "output_type": "execute_result",
          "data": {
            "text/plain": [
              "(1797, 8, 8)"
            ]
          },
          "metadata": {
            "tags": []
          },
          "execution_count": 57
        }
      ]
    },
    {
      "metadata": {
        "id": "BERR811hxNeY",
        "colab_type": "code",
        "colab": {
          "base_uri": "https://localhost:8080/",
          "height": 34
        },
        "outputId": "eacf1e68-ed67-417f-c2dc-ed7737d2b8a1"
      },
      "cell_type": "code",
      "source": [
        "digits.target_names"
      ],
      "execution_count": 58,
      "outputs": [
        {
          "output_type": "execute_result",
          "data": {
            "text/plain": [
              "array([0, 1, 2, 3, 4, 5, 6, 7, 8, 9])"
            ]
          },
          "metadata": {
            "tags": []
          },
          "execution_count": 58
        }
      ]
    },
    {
      "metadata": {
        "id": "a6MAuH6txQHd",
        "colab_type": "code",
        "colab": {
          "base_uri": "https://localhost:8080/",
          "height": 34
        },
        "outputId": "f3e70838-2b68-4c28-f997-98a3a79c0dba"
      },
      "cell_type": "code",
      "source": [
        "digits.target.shape\n"
      ],
      "execution_count": 59,
      "outputs": [
        {
          "output_type": "execute_result",
          "data": {
            "text/plain": [
              "(1797,)"
            ]
          },
          "metadata": {
            "tags": []
          },
          "execution_count": 59
        }
      ]
    },
    {
      "metadata": {
        "id": "TohrOKRPxWuJ",
        "colab_type": "code",
        "colab": {
          "base_uri": "https://localhost:8080/",
          "height": 34
        },
        "outputId": "76f73c64-665a-4c11-e9ed-1a82cdbbf52e"
      },
      "cell_type": "code",
      "source": [
        "digits.target"
      ],
      "execution_count": 60,
      "outputs": [
        {
          "output_type": "execute_result",
          "data": {
            "text/plain": [
              "array([0, 1, 2, ..., 8, 9, 8])"
            ]
          },
          "metadata": {
            "tags": []
          },
          "execution_count": 60
        }
      ]
    },
    {
      "metadata": {
        "id": "DF-3av-oxhGA",
        "colab_type": "code",
        "colab": {
          "base_uri": "https://localhost:8080/",
          "height": 54
        },
        "outputId": "aed4d1ef-ceb1-4e24-d956-9dd502efdb5f"
      },
      "cell_type": "code",
      "source": [
        "digits.DESCR"
      ],
      "execution_count": 61,
      "outputs": [
        {
          "output_type": "execute_result",
          "data": {
            "text/plain": [
              "\"Optical Recognition of Handwritten Digits Data Set\\n===================================================\\n\\nNotes\\n-----\\nData Set Characteristics:\\n    :Number of Instances: 5620\\n    :Number of Attributes: 64\\n    :Attribute Information: 8x8 image of integer pixels in the range 0..16.\\n    :Missing Attribute Values: None\\n    :Creator: E. Alpaydin (alpaydin '@' boun.edu.tr)\\n    :Date: July; 1998\\n\\nThis is a copy of the test set of the UCI ML hand-written digits datasets\\nhttp://archive.ics.uci.edu/ml/datasets/Optical+Recognition+of+Handwritten+Digits\\n\\nThe data set contains images of hand-written digits: 10 classes where\\neach class refers to a digit.\\n\\nPreprocessing programs made available by NIST were used to extract\\nnormalized bitmaps of handwritten digits from a preprinted form. From a\\ntotal of 43 people, 30 contributed to the training set and different 13\\nto the test set. 32x32 bitmaps are divided into nonoverlapping blocks of\\n4x4 and the number of on pixels are counted in each block. This generates\\nan input matrix of 8x8 where each element is an integer in the range\\n0..16. This reduces dimensionality and gives invariance to small\\ndistortions.\\n\\nFor info on NIST preprocessing routines, see M. D. Garris, J. L. Blue, G.\\nT. Candela, D. L. Dimmick, J. Geist, P. J. Grother, S. A. Janet, and C.\\nL. Wilson, NIST Form-Based Handprint Recognition System, NISTIR 5469,\\n1994.\\n\\nReferences\\n----------\\n  - C. Kaynak (1995) Methods of Combining Multiple Classifiers and Their\\n    Applications to Handwritten Digit Recognition, MSc Thesis, Institute of\\n    Graduate Studies in Science and Engineering, Bogazici University.\\n  - E. Alpaydin, C. Kaynak (1998) Cascading Classifiers, Kybernetika.\\n  - Ken Tang and Ponnuthurai N. Suganthan and Xi Yao and A. Kai Qin.\\n    Linear dimensionalityreduction using relevance weighted LDA. School of\\n    Electrical and Electronic Engineering Nanyang Technological University.\\n    2005.\\n  - Claudio Gentile. A New Approximate Maximal Margin Classification\\n    Algorithm. NIPS. 2000.\\n\""
            ]
          },
          "metadata": {
            "tags": []
          },
          "execution_count": 61
        }
      ]
    },
    {
      "metadata": {
        "id": "tLkvC7exxl8h",
        "colab_type": "code",
        "colab": {
          "base_uri": "https://localhost:8080/",
          "height": 153
        },
        "outputId": "f82decdd-b390-48ed-9f1f-545aa8305791"
      },
      "cell_type": "code",
      "source": [
        "digits.images[0]"
      ],
      "execution_count": 62,
      "outputs": [
        {
          "output_type": "execute_result",
          "data": {
            "text/plain": [
              "array([[ 0.,  0.,  5., 13.,  9.,  1.,  0.,  0.],\n",
              "       [ 0.,  0., 13., 15., 10., 15.,  5.,  0.],\n",
              "       [ 0.,  3., 15.,  2.,  0., 11.,  8.,  0.],\n",
              "       [ 0.,  4., 12.,  0.,  0.,  8.,  8.,  0.],\n",
              "       [ 0.,  5.,  8.,  0.,  0.,  9.,  8.,  0.],\n",
              "       [ 0.,  4., 11.,  0.,  1., 12.,  7.,  0.],\n",
              "       [ 0.,  2., 14.,  5., 10., 12.,  0.,  0.],\n",
              "       [ 0.,  0.,  6., 13., 10.,  0.,  0.,  0.]])"
            ]
          },
          "metadata": {
            "tags": []
          },
          "execution_count": 62
        }
      ]
    },
    {
      "metadata": {
        "id": "LvW91zutyPYx",
        "colab_type": "code",
        "colab": {}
      },
      "cell_type": "code",
      "source": [
        "import pylab as pl\n"
      ],
      "execution_count": 0,
      "outputs": []
    },
    {
      "metadata": {
        "id": "eMesXZH3yTAC",
        "colab_type": "code",
        "colab": {
          "base_uri": "https://localhost:8080/",
          "height": 372
        },
        "outputId": "264f3f8b-8836-40aa-caf2-2b5f74efb6a1"
      },
      "cell_type": "code",
      "source": [
        "pl.gray()\n",
        "pl.matshow(digits.images[0])\n",
        "pl.show()"
      ],
      "execution_count": 64,
      "outputs": [
        {
          "output_type": "display_data",
          "data": {
            "text/plain": [
              "<matplotlib.figure.Figure at 0x7f7cb7aec128>"
            ]
          },
          "metadata": {
            "tags": []
          }
        },
        {
          "output_type": "display_data",
          "data": {
            "image/png": "[encoded data removed]",
            "text/plain": [
              "<matplotlib.figure.Figure at 0x7f7cb7aec0f0>"
            ]
          },
          "metadata": {
            "tags": []
          }
        }
      ]
    },
    {
      "metadata": {
        "id": "cjLaRa9BzrBY",
        "colab_type": "code",
        "colab": {}
      },
      "cell_type": "code",
      "source": [
        "import numpy as np"
      ],
      "execution_count": 0,
      "outputs": []
    },
    {
      "metadata": {
        "id": "OMgfITlnyn1V",
        "colab_type": "code",
        "colab": {}
      },
      "cell_type": "code",
      "source": [
        "X=np.array(digits.data)"
      ],
      "execution_count": 0,
      "outputs": []
    },
    {
      "metadata": {
        "id": "9Ou9nMMzzoZ4",
        "colab_type": "code",
        "colab": {}
      },
      "cell_type": "code",
      "source": [
        "Y=np.array(digits.target)"
      ],
      "execution_count": 0,
      "outputs": []
    },
    {
      "metadata": {
        "id": "ZpWH_Ojr0o8B",
        "colab_type": "code",
        "colab": {
          "base_uri": "https://localhost:8080/",
          "height": 34
        },
        "outputId": "846cbb73-46cb-487a-ce8b-301d26661b4d"
      },
      "cell_type": "code",
      "source": [
        "type(X)"
      ],
      "execution_count": 68,
      "outputs": [
        {
          "output_type": "execute_result",
          "data": {
            "text/plain": [
              "numpy.ndarray"
            ]
          },
          "metadata": {
            "tags": []
          },
          "execution_count": 68
        }
      ]
    },
    {
      "metadata": {
        "id": "OtQFOyLK0rbH",
        "colab_type": "code",
        "colab": {
          "base_uri": "https://localhost:8080/",
          "height": 34
        },
        "outputId": "22430499-31a6-4e2f-9198-f49a3fa2e8ad"
      },
      "cell_type": "code",
      "source": [
        "type(Y)"
      ],
      "execution_count": 69,
      "outputs": [
        {
          "output_type": "execute_result",
          "data": {
            "text/plain": [
              "numpy.ndarray"
            ]
          },
          "metadata": {
            "tags": []
          },
          "execution_count": 69
        }
      ]
    },
    {
      "metadata": {
        "id": "5Rq8idkB0uoM",
        "colab_type": "code",
        "colab": {
          "base_uri": "https://localhost:8080/",
          "height": 34
        },
        "outputId": "03ddb92d-7c99-4ebe-b23f-382d489efb08"
      },
      "cell_type": "code",
      "source": [
        "X.size"
      ],
      "execution_count": 70,
      "outputs": [
        {
          "output_type": "execute_result",
          "data": {
            "text/plain": [
              "115008"
            ]
          },
          "metadata": {
            "tags": []
          },
          "execution_count": 70
        }
      ]
    },
    {
      "metadata": {
        "id": "sd0iXs9v0w8R",
        "colab_type": "code",
        "colab": {
          "base_uri": "https://localhost:8080/",
          "height": 34
        },
        "outputId": "0456f1e8-9ae1-4d69-ad88-aea1d308750d"
      },
      "cell_type": "code",
      "source": [
        "X.shape"
      ],
      "execution_count": 71,
      "outputs": [
        {
          "output_type": "execute_result",
          "data": {
            "text/plain": [
              "(1797, 64)"
            ]
          },
          "metadata": {
            "tags": []
          },
          "execution_count": 71
        }
      ]
    },
    {
      "metadata": {
        "id": "HOWVSeVJ0ylv",
        "colab_type": "code",
        "colab": {
          "base_uri": "https://localhost:8080/",
          "height": 34
        },
        "outputId": "edaa5dc8-59cc-48bd-9e55-772c0cb8be08"
      },
      "cell_type": "code",
      "source": [
        "Y.shape"
      ],
      "execution_count": 72,
      "outputs": [
        {
          "output_type": "execute_result",
          "data": {
            "text/plain": [
              "(1797,)"
            ]
          },
          "metadata": {
            "tags": []
          },
          "execution_count": 72
        }
      ]
    },
    {
      "metadata": {
        "id": "x-9hWPSz01yY",
        "colab_type": "code",
        "colab": {
          "base_uri": "https://localhost:8080/",
          "height": 34
        },
        "outputId": "94963ab7-73c6-4a1f-f5c4-3c3b7fd7744c"
      },
      "cell_type": "code",
      "source": [
        "Y.size"
      ],
      "execution_count": 73,
      "outputs": [
        {
          "output_type": "execute_result",
          "data": {
            "text/plain": [
              "1797"
            ]
          },
          "metadata": {
            "tags": []
          },
          "execution_count": 73
        }
      ]
    },
    {
      "metadata": {
        "id": "n-8cG6uHO1Er",
        "colab_type": "text"
      },
      "cell_type": "markdown",
      "source": [
        "## Logistic regression"
      ]
    },
    {
      "metadata": {
        "id": "215UdQxE04TE",
        "colab_type": "code",
        "colab": {}
      },
      "cell_type": "code",
      "source": [
        "from sklearn.linear_model import LogisticRegression"
      ],
      "execution_count": 0,
      "outputs": []
    },
    {
      "metadata": {
        "id": "-ohr8aiw1oEO",
        "colab_type": "code",
        "colab": {}
      },
      "cell_type": "code",
      "source": [
        "log=LogisticRegression()"
      ],
      "execution_count": 0,
      "outputs": []
    },
    {
      "metadata": {
        "id": "Ay6EZJFyO-SS",
        "colab_type": "text"
      },
      "cell_type": "markdown",
      "source": [
        "### Split dataset into training set and test set"
      ]
    },
    {
      "metadata": {
        "id": "79RmUAH01sBR",
        "colab_type": "code",
        "colab": {}
      },
      "cell_type": "code",
      "source": [
        "\n",
        "from sklearn.cross_validation import train_test_split\n"
      ],
      "execution_count": 0,
      "outputs": []
    },
    {
      "metadata": {
        "id": "FZ9HRHnx17aA",
        "colab_type": "code",
        "colab": {}
      },
      "cell_type": "code",
      "source": [
        "x_train,x_test,y_train,y_test=train_test_split(X,Y,test_size=.33,random_state=7)"
      ],
      "execution_count": 0,
      "outputs": []
    },
    {
      "metadata": {
        "id": "KD4R04kiPLc2",
        "colab_type": "text"
      },
      "cell_type": "markdown",
      "source": [
        "### Training Dataset"
      ]
    },
    {
      "metadata": {
        "id": "1FkPF4vC2Nab",
        "colab_type": "code",
        "colab": {
          "base_uri": "https://localhost:8080/",
          "height": 85
        },
        "outputId": "e593e03a-21d7-4e97-e4af-c996525c2c17"
      },
      "cell_type": "code",
      "source": [
        "log.fit(x_train,y_train)"
      ],
      "execution_count": 78,
      "outputs": [
        {
          "output_type": "execute_result",
          "data": {
            "text/plain": [
              "LogisticRegression(C=1.0, class_weight=None, dual=False, fit_intercept=True,\n",
              "          intercept_scaling=1, max_iter=100, multi_class='ovr', n_jobs=1,\n",
              "          penalty='l2', random_state=None, solver='liblinear', tol=0.0001,\n",
              "          verbose=0, warm_start=False)"
            ]
          },
          "metadata": {
            "tags": []
          },
          "execution_count": 78
        }
      ]
    },
    {
      "metadata": {
        "id": "xQB1skUoPUqx",
        "colab_type": "text"
      },
      "cell_type": "markdown",
      "source": [
        "### Predcting"
      ]
    },
    {
      "metadata": {
        "id": "R9a5BSXD2TwN",
        "colab_type": "code",
        "colab": {}
      },
      "cell_type": "code",
      "source": [
        "predict=log.predict(x_test)"
      ],
      "execution_count": 0,
      "outputs": []
    },
    {
      "metadata": {
        "id": "fuuVf38_2ZEM",
        "colab_type": "code",
        "colab": {
          "base_uri": "https://localhost:8080/",
          "height": 476
        },
        "outputId": "377104b7-df50-4a97-e477-812ef08ca4ca"
      },
      "cell_type": "code",
      "source": [
        "predict"
      ],
      "execution_count": 80,
      "outputs": [
        {
          "output_type": "execute_result",
          "data": {
            "text/plain": [
              "array([6, 0, 5, 3, 2, 9, 0, 4, 1, 0, 1, 8, 2, 5, 2, 8, 1, 8, 5, 1, 0, 2,\n",
              "       0, 4, 5, 3, 3, 0, 0, 4, 1, 4, 4, 4, 6, 1, 4, 0, 6, 6, 0, 9, 3, 6,\n",
              "       6, 2, 0, 1, 9, 6, 2, 8, 9, 9, 0, 2, 0, 8, 4, 6, 1, 5, 8, 7, 8, 7,\n",
              "       7, 4, 1, 4, 5, 5, 6, 6, 2, 0, 3, 3, 7, 5, 8, 2, 4, 4, 2, 5, 1, 9,\n",
              "       3, 7, 6, 3, 7, 5, 6, 2, 1, 0, 1, 9, 4, 1, 9, 5, 3, 6, 9, 0, 3, 7,\n",
              "       6, 9, 3, 8, 0, 1, 3, 8, 8, 6, 3, 7, 3, 9, 0, 9, 0, 9, 8, 1, 2, 2,\n",
              "       3, 6, 9, 4, 0, 5, 4, 3, 9, 1, 0, 2, 5, 0, 2, 2, 7, 4, 0, 9, 8, 2,\n",
              "       6, 0, 4, 4, 1, 5, 0, 2, 4, 1, 2, 2, 3, 7, 2, 9, 0, 3, 5, 9, 1, 6,\n",
              "       8, 7, 5, 3, 0, 4, 2, 1, 3, 3, 6, 0, 2, 8, 4, 1, 4, 7, 5, 7, 6, 6,\n",
              "       8, 1, 0, 6, 8, 7, 1, 1, 9, 8, 5, 5, 3, 6, 6, 1, 2, 0, 7, 5, 3, 0,\n",
              "       8, 2, 0, 4, 0, 9, 4, 8, 4, 7, 9, 7, 3, 6, 2, 5, 1, 5, 9, 2, 9, 9,\n",
              "       8, 2, 1, 6, 7, 1, 7, 5, 7, 8, 9, 5, 7, 4, 3, 7, 8, 8, 2, 8, 9, 5,\n",
              "       3, 2, 8, 0, 4, 2, 1, 0, 8, 4, 3, 7, 1, 4, 7, 7, 1, 8, 3, 8, 4, 3,\n",
              "       5, 9, 4, 4, 8, 1, 8, 7, 2, 3, 1, 1, 1, 0, 2, 8, 0, 7, 4, 0, 1, 0,\n",
              "       2, 3, 4, 8, 8, 5, 4, 2, 2, 6, 5, 0, 5, 9, 8, 9, 0, 0, 7, 7, 4, 1,\n",
              "       2, 6, 7, 3, 7, 4, 0, 2, 1, 7, 2, 5, 7, 2, 3, 5, 7, 1, 4, 1, 3, 3,\n",
              "       8, 8, 1, 0, 1, 9, 8, 0, 2, 2, 2, 4, 7, 6, 6, 9, 1, 5, 9, 9, 2, 9,\n",
              "       0, 7, 0, 9, 6, 8, 5, 7, 3, 0, 9, 0, 7, 1, 0, 7, 9, 8, 8, 6, 4, 8,\n",
              "       8, 4, 4, 3, 3, 9, 9, 6, 1, 3, 8, 4, 4, 1, 6, 1, 8, 3, 2, 3, 5, 8,\n",
              "       5, 5, 6, 3, 6, 0, 8, 7, 6, 3, 7, 5, 2, 9, 5, 7, 0, 4, 2, 9, 3, 2,\n",
              "       9, 9, 5, 6, 0, 5, 4, 4, 4, 0, 5, 5, 6, 3, 6, 4, 7, 2, 8, 6, 6, 9,\n",
              "       8, 0, 0, 0, 4, 3, 4, 3, 9, 7, 1, 7, 8, 1, 8, 9, 7, 4, 3, 8, 5, 8,\n",
              "       7, 9, 2, 4, 3, 2, 1, 6, 8, 0, 6, 6, 9, 9, 5, 8, 1, 6, 7, 2, 7, 5,\n",
              "       9, 4, 4, 0, 5, 5, 5, 6, 4, 4, 7, 6, 3, 8, 8, 0, 0, 8, 1, 1, 0, 2,\n",
              "       1, 5, 3, 4, 5, 1, 0, 9, 8, 7, 3, 3, 9, 5, 1, 9, 4, 9, 7, 8, 2, 0,\n",
              "       6, 0, 8, 9, 6, 4, 8, 3, 7, 9, 7, 2, 1, 2, 3, 7, 5, 7, 6, 9, 8, 7,\n",
              "       6, 9, 7, 8, 3, 4, 4, 5, 6, 6, 4, 2, 4, 3, 6, 8, 7, 3, 3, 9, 6, 7])"
            ]
          },
          "metadata": {
            "tags": []
          },
          "execution_count": 80
        }
      ]
    },
    {
      "metadata": {
        "id": "ib_vn0iePaWb",
        "colab_type": "text"
      },
      "cell_type": "markdown",
      "source": [
        "### Score Check"
      ]
    },
    {
      "metadata": {
        "id": "nI7FIRCv2awH",
        "colab_type": "code",
        "colab": {
          "base_uri": "https://localhost:8080/",
          "height": 34
        },
        "outputId": "61d75eac-5f3a-4ad7-9d5f-7fc73b4210ad"
      },
      "cell_type": "code",
      "source": [
        "log.score(x_test,y_test)"
      ],
      "execution_count": 81,
      "outputs": [
        {
          "output_type": "execute_result",
          "data": {
            "text/plain": [
              "0.9478114478114478"
            ]
          },
          "metadata": {
            "tags": []
          },
          "execution_count": 81
        }
      ]
    },
    {
      "metadata": {
        "id": "3ql8GmocPkLL",
        "colab_type": "text"
      },
      "cell_type": "markdown",
      "source": [
        "## Metrics "
      ]
    },
    {
      "metadata": {
        "id": "eTveAXi3_2NB",
        "colab_type": "code",
        "colab": {}
      },
      "cell_type": "code",
      "source": [
        "import  sklearn.metrics as metrics"
      ],
      "execution_count": 0,
      "outputs": []
    },
    {
      "metadata": {
        "id": "Z13r0VZRPpUd",
        "colab_type": "text"
      },
      "cell_type": "markdown",
      "source": [
        "### Confusion Matrix"
      ]
    },
    {
      "metadata": {
        "id": "Fx4J9_VG-FgV",
        "colab_type": "code",
        "colab": {
          "base_uri": "https://localhost:8080/",
          "height": 187
        },
        "outputId": "ded1bd37-6867-407d-fef8-f5166c6008bd"
      },
      "cell_type": "code",
      "source": [
        "matrix=metrics.confusion_matrix(y_test,predict)\n",
        "matrix"
      ],
      "execution_count": 83,
      "outputs": [
        {
          "output_type": "execute_result",
          "data": {
            "text/plain": [
              "array([[63,  0,  0,  0,  0,  0,  0,  0,  0,  0],\n",
              "       [ 0, 52,  0,  3,  0,  0,  0,  0,  1,  1],\n",
              "       [ 0,  0, 56,  1,  0,  0,  0,  0,  0,  0],\n",
              "       [ 0,  0,  0, 53,  0,  1,  0,  1,  1,  1],\n",
              "       [ 0,  0,  0,  0, 62,  0,  1,  1,  0,  0],\n",
              "       [ 0,  0,  0,  0,  0, 50,  0,  0,  0,  1],\n",
              "       [ 1,  1,  0,  0,  0,  0, 54,  0,  0,  0],\n",
              "       [ 0,  0,  0,  0,  1,  0,  0, 57,  0,  0],\n",
              "       [ 0,  4,  1,  1,  1,  1,  1,  0, 60,  0],\n",
              "       [ 0,  0,  0,  1,  0,  1,  0,  1,  3, 56]])"
            ]
          },
          "metadata": {
            "tags": []
          },
          "execution_count": 83
        }
      ]
    },
    {
      "metadata": {
        "id": "JXaxerjuBi5w",
        "colab_type": "code",
        "colab": {
          "base_uri": "https://localhost:8080/",
          "height": 347
        },
        "outputId": "60c7ff76-f76b-4b8e-e557-056cfbe4f293"
      },
      "cell_type": "code",
      "source": [
        "sns.heatmap(matrix,annot=True)\n",
        "sns.despine()"
      ],
      "execution_count": 84,
      "outputs": [
        {
          "output_type": "display_data",
          "data": {
            "image/png": "[encoded data removed]",
            "text/plain": [
              "<matplotlib.figure.Figure at 0x7f7cb79935c0>"
            ]
          },
          "metadata": {
            "tags": []
          }
        }
      ]
    },
    {
      "metadata": {
        "id": "5xEzlHp2PyBS",
        "colab_type": "text"
      },
      "cell_type": "markdown",
      "source": [
        "### Classification Report"
      ]
    },
    {
      "metadata": {
        "id": "QP8LoCaPAJ_t",
        "colab_type": "code",
        "colab": {
          "base_uri": "https://localhost:8080/",
          "height": 272
        },
        "outputId": "214f9f0b-5ecc-4f3f-b9ba-f65a0c73dd2b"
      },
      "cell_type": "code",
      "source": [
        "report =metrics.classification_report(y_test,predict)\n",
        "print(report)"
      ],
      "execution_count": 85,
      "outputs": [
        {
          "output_type": "stream",
          "text": [
            "             precision    recall  f1-score   support\n",
            "\n",
            "          0       0.98      1.00      0.99        63\n",
            "          1       0.91      0.91      0.91        57\n",
            "          2       0.98      0.98      0.98        57\n",
            "          3       0.90      0.93      0.91        57\n",
            "          4       0.97      0.97      0.97        64\n",
            "          5       0.94      0.98      0.96        51\n",
            "          6       0.96      0.96      0.96        56\n",
            "          7       0.95      0.98      0.97        58\n",
            "          8       0.92      0.87      0.90        69\n",
            "          9       0.95      0.90      0.93        62\n",
            "\n",
            "avg / total       0.95      0.95      0.95       594\n",
            "\n"
          ],
          "name": "stdout"
        }
      ]
    },
    {
      "metadata": {
        "id": "ZS7xhrdEP39e",
        "colab_type": "text"
      },
      "cell_type": "markdown",
      "source": [
        "### Accuracy Score"
      ]
    },
    {
      "metadata": {
        "id": "NLgyIw3oAn-k",
        "colab_type": "code",
        "colab": {
          "base_uri": "https://localhost:8080/",
          "height": 34
        },
        "outputId": "8a017b8c-e2d3-49b6-ad8c-0b353bf17da8"
      },
      "cell_type": "code",
      "source": [
        "metrics.accuracy_score(y_test,predict)"
      ],
      "execution_count": 86,
      "outputs": [
        {
          "output_type": "execute_result",
          "data": {
            "text/plain": [
              "0.9478114478114478"
            ]
          },
          "metadata": {
            "tags": []
          },
          "execution_count": 86
        }
      ]
    },
    {
      "metadata": {
        "id": "MdKmSXgfP8fK",
        "colab_type": "text"
      },
      "cell_type": "markdown",
      "source": [
        "### R2 Score"
      ]
    },
    {
      "metadata": {
        "id": "eK-EzTuH6uy2",
        "colab_type": "code",
        "colab": {
          "base_uri": "https://localhost:8080/",
          "height": 34
        },
        "outputId": "9a10f7e9-85b9-449f-d80f-8b23b70e5846"
      },
      "cell_type": "code",
      "source": [
        "metrics.r2_score(y_test,predict)"
      ],
      "execution_count": 87,
      "outputs": [
        {
          "output_type": "execute_result",
          "data": {
            "text/plain": [
              "0.8717184782331044"
            ]
          },
          "metadata": {
            "tags": []
          },
          "execution_count": 87
        }
      ]
    },
    {
      "metadata": {
        "id": "5kCDW_1sQAQa",
        "colab_type": "text"
      },
      "cell_type": "markdown",
      "source": [
        "### Mean Absolute Error"
      ]
    },
    {
      "metadata": {
        "id": "U-YqPqgi2hfO",
        "colab_type": "code",
        "colab": {
          "base_uri": "https://localhost:8080/",
          "height": 34
        },
        "outputId": "63f3dcec-6fde-42fe-fe63-e5dbd83b2aca"
      },
      "cell_type": "code",
      "source": [
        "metrics.mean_absolute_error(y_test,predict)"
      ],
      "execution_count": 88,
      "outputs": [
        {
          "output_type": "execute_result",
          "data": {
            "text/plain": [
              "0.21043771043771045"
            ]
          },
          "metadata": {
            "tags": []
          },
          "execution_count": 88
        }
      ]
    },
    {
      "metadata": {
        "id": "ex892nSLQDo0",
        "colab_type": "text"
      },
      "cell_type": "markdown",
      "source": [
        "### Mean Squared Error"
      ]
    },
    {
      "metadata": {
        "id": "5HVhdNIH6o47",
        "colab_type": "code",
        "colab": {
          "base_uri": "https://localhost:8080/",
          "height": 34
        },
        "outputId": "e48d4bb0-f42a-4787-98e0-48901f8cc8ed"
      },
      "cell_type": "code",
      "source": [
        "metrics.mean_squared_error(y_test,predict)"
      ],
      "execution_count": 89,
      "outputs": [
        {
          "output_type": "execute_result",
          "data": {
            "text/plain": [
              "1.095959595959596"
            ]
          },
          "metadata": {
            "tags": []
          },
          "execution_count": 89
        }
      ]
    },
    {
      "metadata": {
        "id": "ywNXcVDSDqwX",
        "colab_type": "code",
        "colab": {}
      },
      "cell_type": "code",
      "source": [
        ""
      ],
      "execution_count": 0,
      "outputs": []
    }
  ]
}